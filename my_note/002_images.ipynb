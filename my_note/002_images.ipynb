{
 "cells": [
  {
   "cell_type": "code",
   "execution_count": 1,
   "metadata": {},
   "outputs": [],
   "source": [
    "%reload_ext autoreload\n",
    "%autoreload 2\n",
    "%matplotlib inline"
   ]
  },
  {
   "cell_type": "code",
   "execution_count": 2,
   "metadata": {},
   "outputs": [],
   "source": [
    "from IPython.core.interactiveshell import InteractiveShell\n",
    "InteractiveShell.ast_node_interactivity = \"all\""
   ]
  },
  {
   "cell_type": "code",
   "execution_count": 3,
   "metadata": {},
   "outputs": [],
   "source": [
    "#export\n",
    "from nb_001b import *\n",
    "import sys, PIL, matplotlib.pyplot as plt, itertools, math, random, collections, torch\n",
    "import scipy.stats, scipy.special\n",
    "\n",
    "from enum import Enum, IntEnum\n",
    "from torch import tensor, Tensor, FloatTensor, LongTensor, ByteTensor, DoubleTensor, HalfTensor, ShortTensor\n",
    "from operator import itemgetter, attrgetter\n",
    "from numpy import cos, sin, tan, tanh, log, exp\n",
    "from dataclasses import field\n",
    "from functools import reduce\n",
    "from collections import defaultdict, abc, namedtuple, Iterable\n",
    "from typing import Tuple, Hashable, Mapping, Dict\n",
    "\n",
    "import mimetypes\n",
    "import abc\n",
    "from abc import abstractmethod, abstractproperty\n"
   ]
  },
  {
   "cell_type": "code",
   "execution_count": 4,
   "metadata": {},
   "outputs": [],
   "source": [
    "import functools"
   ]
  },
  {
   "cell_type": "markdown",
   "metadata": {},
   "source": [
    "# CIFAR subset data"
   ]
  },
  {
   "cell_type": "markdown",
   "metadata": {},
   "source": [
    "First we want to view our data to check if everything is how we expect it to be."
   ]
  },
  {
   "cell_type": "markdown",
   "metadata": {},
   "source": [
    "## Setup"
   ]
  },
  {
   "cell_type": "code",
   "execution_count": 5,
   "metadata": {},
   "outputs": [],
   "source": [
    "DATA_PATH = Path('../data')\n",
    "PATH = DATA_PATH/'cifar10_dog_air'\n",
    "TRAIN_PATH = PATH/'train'"
   ]
  },
  {
   "cell_type": "code",
   "execution_count": 6,
   "metadata": {},
   "outputs": [
    {
     "data": {
      "image/png": "[encoded data removed]",
      "text/plain": [
       "<PIL.Image.Image image mode=RGB size=256x256 at 0x7F01EC0CECF8>"
      ]
     },
     "execution_count": 6,
     "metadata": {},
     "output_type": "execute_result"
    }
   ],
   "source": [
    "dog_fn = list((TRAIN_PATH/'dog').iterdir())[0]\n",
    "dog_image = PIL.Image.open(dog_fn)\n",
    "dog_image.resize((256,256))"
   ]
  },
  {
   "cell_type": "code",
   "execution_count": 7,
   "metadata": {},
   "outputs": [
    {
     "data": {
      "image/png": "[encoded data removed]",
      "text/plain": [
       "<PIL.Image.Image image mode=RGB size=256x256 at 0x7F01C37EC630>"
      ]
     },
     "execution_count": 7,
     "metadata": {},
     "output_type": "execute_result"
    }
   ],
   "source": [
    "air_fn = list((TRAIN_PATH/'airplane').iterdir())[0]\n",
    "air_image = PIL.Image.open(air_fn)\n",
    "air_image.resize((256,256))"
   ]
  },
  {
   "cell_type": "markdown",
   "metadata": {},
   "source": [
    "## Simple Dataset/Dataloader"
   ]
  },
  {
   "cell_type": "markdown",
   "metadata": {},
   "source": [
    "We will build a Dataset class for our image files. A Dataset class needs to have two functions: length and get-item. Our FilesDataset additionally gets the image files from their respective directories and transforms them to tensors."
   ]
  },
  {
   "cell_type": "code",
   "execution_count": 8,
   "metadata": {},
   "outputs": [
    {
     "data": {
      "text/plain": [
       "[PosixPath('../data/cifar10_dog_air/train/airplane'),\n",
       " PosixPath('../data/cifar10_dog_air/train/dog')]"
      ]
     },
     "execution_count": 8,
     "metadata": {},
     "output_type": "execute_result"
    },
    {
     "data": {
      "text/plain": [
       "True"
      ]
     },
     "execution_count": 8,
     "metadata": {},
     "output_type": "execute_result"
    }
   ],
   "source": [
    "list((TRAIN_PATH).iterdir())\n",
    "list((TRAIN_PATH).iterdir())[0].is_dir()"
   ]
  },
  {
   "cell_type": "code",
   "execution_count": 9,
   "metadata": {},
   "outputs": [],
   "source": [
    "#export\n",
    "def image2np(image:Tensor)->np.ndarray:\n",
    "    \"Convert from torch style `image` to numpy/matplotlib style. Image size is (channel,h,w)\"\n",
    "    # convert float tensor (between 0 and 1) back to normal picture (0 to 255, height x width x channels)\n",
    "    res = image.cpu().permute(1,2,0).numpy()\n",
    "    return res[...,0] if res.shape[2]==1 else res\n",
    "\n",
    "def show_image(img:Tensor, ax:plt.Axes=None, figsize:tuple=(3,3), hide_axis:bool=True, \n",
    "               title:Optional[str]=None, cmap:str='binary', alpha:Optional[float]=None)->plt.Axes:\n",
    "    \"Plot tensor `img` using matplotlib axis `ax`.  `figsize`,`axis`,`title`,`cmap` and `alpha` pass to `ax.imshow`\"\n",
    "    if ax is None: fig,ax = plt.subplots(figsize=figsize)\n",
    "    ax.imshow(image2np(img), cmap=cmap, alpha=alpha)\n",
    "    if hide_axis: ax.axis('off')\n",
    "    if title: ax.set_title(title)\n",
    "    return ax"
   ]
  },
  {
   "cell_type": "code",
   "execution_count": 10,
   "metadata": {},
   "outputs": [],
   "source": [
    "class Image():\n",
    "    '''\n",
    "    To include show_image function into image\n",
    "    '''\n",
    "    def __init__(self, px): self.px = px # type tensor\n",
    "    def show(self, ax=None, **kwargs): return show_image(self.px, ax=ax, **kwargs)\n",
    "    @property\n",
    "    def data(self): return self.px"
   ]
  },
  {
   "cell_type": "code",
   "execution_count": 11,
   "metadata": {},
   "outputs": [],
   "source": [
    "#export\n",
    "FilePathList = Collection[Path]\n",
    "TensorImage = Tensor\n",
    "NPImage = np.ndarray\n",
    "\n",
    "def find_classes(folder:Path)->FilePathList:\n",
    "    \"Return class subdirectories in imagenet style train `folder`\"\n",
    "    classes = [d for d in folder.iterdir()\n",
    "               if d.is_dir() and not d.name.startswith('.')]\n",
    "    assert(len(classes)>0)\n",
    "    return sorted(classes, key=lambda d: d.name)\n",
    "\n",
    "image_extensions = set(k for k,v in mimetypes.types_map.items() if v.startswith('image/')) # get other image type (.jpg, ...)\n",
    "\n",
    "def get_image_files(c:Path, check_ext:bool=True)->FilePathList:\n",
    "    \"Return list of files in `c` that are images. `check_ext` will filter to `image_extensions`.\"\n",
    "    return [o for o in list(c.iterdir())\n",
    "            if not (o.name.startswith('.') or o.is_dir()\n",
    "            or (check_ext and o.suffix not in image_extensions))]\n",
    "\n",
    "def pil2tensor(image:NPImage)->TensorImage:\n",
    "    \"Convert PIL style `image` array to torch style image tensor `get_image_files`\"\n",
    "    arr = torch.ByteTensor(torch.ByteStorage.from_buffer(image.tobytes()))\n",
    "    arr = arr.view(image.size[1], image.size[0], -1) # height x width x channels\n",
    "    return arr.permute(2,0,1) # channels x height x width\n",
    "\n",
    "PathOrStr = Union[Path,str]\n",
    "def open_image(fn:PathOrStr):\n",
    "    \"Return `Image` object created from image in file `fn`\"\n",
    "    x = PIL.Image.open(fn).convert('RGB') # should return PIL.Image.Image type\n",
    "    return Image(pil2tensor(x).float().div_(255)) # normalize between 0 and 1"
   ]
  },
  {
   "cell_type": "code",
   "execution_count": 12,
   "metadata": {},
   "outputs": [
    {
     "data": {
      "text/plain": [
       "{'.bmp',\n",
       " '.gif',\n",
       " '.ico',\n",
       " '.ief',\n",
       " '.jpe',\n",
       " '.jpeg',\n",
       " '.jpg',\n",
       " '.pbm',\n",
       " '.pgm',\n",
       " '.png',\n",
       " '.pnm',\n",
       " '.ppm',\n",
       " '.ras',\n",
       " '.rgb',\n",
       " '.svg',\n",
       " '.tif',\n",
       " '.tiff',\n",
       " '.xbm',\n",
       " '.xpm',\n",
       " '.xwd'}"
      ]
     },
     "execution_count": 12,
     "metadata": {},
     "output_type": "execute_result"
    }
   ],
   "source": [
    "image_extensions"
   ]
  },
  {
   "cell_type": "code",
   "execution_count": 13,
   "metadata": {},
   "outputs": [
    {
     "data": {
      "text/plain": [
       "[PosixPath('../data/cifar10_dog_air/test'),\n",
       " PosixPath('../data/cifar10_dog_air/train')]"
      ]
     },
     "execution_count": 13,
     "metadata": {},
     "output_type": "execute_result"
    }
   ],
   "source": [
    "find_classes(PATH)"
   ]
  },
  {
   "cell_type": "code",
   "execution_count": 14,
   "metadata": {},
   "outputs": [
    {
     "data": {
      "text/plain": [
       "[PosixPath('../data/cifar10_dog_air/train/dog/28241_dog.png'),\n",
       " PosixPath('../data/cifar10_dog_air/train/dog/13112_dog.png'),\n",
       " PosixPath('../data/cifar10_dog_air/train/dog/32625_dog.png'),\n",
       " PosixPath('../data/cifar10_dog_air/train/dog/24558_dog.png'),\n",
       " PosixPath('../data/cifar10_dog_air/train/dog/8039_dog.png')]"
      ]
     },
     "execution_count": 14,
     "metadata": {},
     "output_type": "execute_result"
    }
   ],
   "source": [
    "get_image_files(TRAIN_PATH/'dog')[:5]"
   ]
  },
  {
   "cell_type": "code",
   "execution_count": 15,
   "metadata": {},
   "outputs": [
    {
     "data": {
      "text/plain": [
       "'../data/cifar10_dog_air/train/dog/28241_dog.png'"
      ]
     },
     "execution_count": 15,
     "metadata": {},
     "output_type": "execute_result"
    }
   ],
   "source": [
    "path_temp=get_image_files(TRAIN_PATH/'dog')[0]\n",
    "str(path_temp)"
   ]
  },
  {
   "cell_type": "code",
   "execution_count": 16,
   "metadata": {},
   "outputs": [],
   "source": [
    "img_temp=open_image(path_temp)"
   ]
  },
  {
   "cell_type": "code",
   "execution_count": 17,
   "metadata": {},
   "outputs": [
    {
     "data": {
      "text/plain": [
       "'torch.FloatTensor'"
      ]
     },
     "execution_count": 17,
     "metadata": {},
     "output_type": "execute_result"
    },
    {
     "data": {
      "text/plain": [
       "<matplotlib.axes._subplots.AxesSubplot at 0x7f018c801d30>"
      ]
     },
     "execution_count": 17,
     "metadata": {},
     "output_type": "execute_result"
    },
    {
     "data": {
      "image/png": "[encoded data removed]",
      "text/plain": [
       "<Figure size 216x216 with 1 Axes>"
      ]
     },
     "metadata": {
      "needs_background": "light"
     },
     "output_type": "display_data"
    }
   ],
   "source": [
    "img_temp.data.type()\n",
    "img_temp.show()"
   ]
  },
  {
   "cell_type": "code",
   "execution_count": 18,
   "metadata": {},
   "outputs": [],
   "source": [
    "#export\n",
    "NPArrayableList = Collection[Union[np.ndarray, list]]\n",
    "NPArrayMask = np.ndarray\n",
    "SplitArrayList = List[Tuple[np.ndarray,np.ndarray]]\n",
    "\n",
    "def arrays_split(mask:NPArrayMask, *arrs:NPArrayableList)->SplitArrayList:\n",
    "    \"Given `arrs` is [a,b,...] and `mask`index - return[(a[mask],a[~mask]),(b[mask],b[~mask]),...]\"\n",
    "    mask = array(mask)\n",
    "    return list(zip(*[(a[mask],a[~mask]) for a in map(np.array, arrs)]))\n",
    "\n",
    "def random_split(valid_pct:float, *arrs:NPArrayableList)->SplitArrayList:\n",
    "    \"Randomly `array_split` with `valid_pct` ratio. good for creating validation set.\"\n",
    "    is_train = np.random.uniform(size=(len(arrs[0]),)) > valid_pct\n",
    "    return arrays_split(is_train, *arrs)\n",
    "\n",
    "class DatasetBase(Dataset):\n",
    "    \"Base class for all fastai datasets\"\n",
    "    def __len__(self): return len(self.x)\n",
    "    @property\n",
    "    def c(self): \n",
    "        \"Number of classes expressed by dataset y variable\"\n",
    "        return self.y.shape[-1] if len(self.y.shape)>1 else 1\n",
    "    def __repr__(self): return f'{type(self).__name__} of len {len(self)}'\n",
    "\n",
    "class LabelDataset(DatasetBase):\n",
    "    \"Base class for fastai datasets that do classification\"\n",
    "    @property\n",
    "    def c(self): \n",
    "        \"Number of classes expressed by dataset y variable\"\n",
    "        return len(self.classes)"
   ]
  },
  {
   "cell_type": "code",
   "execution_count": 19,
   "metadata": {},
   "outputs": [],
   "source": [
    "??Dataset"
   ]
  },
  {
   "cell_type": "code",
   "execution_count": 20,
   "metadata": {},
   "outputs": [],
   "source": [
    "#export\n",
    "ImgLabel = str\n",
    "ImgLabels = Collection[ImgLabel]\n",
    "Classes = Collection[Any]\n",
    "\n",
    "class FilesDataset(LabelDataset):\n",
    "    \"Dataset for folders of images in style {folder}/{class}/{images}\"\n",
    "    def __init__(self, fns:FilePathList, labels:ImgLabels, classes:Optional[Classes]=None):\n",
    "        self.classes = ifnone(classes, list(set(labels)))\n",
    "        self.class2idx = {v:k for k,v in enumerate(self.classes)}\n",
    "        self.x = np.array(fns)\n",
    "        self.y = np.array([self.class2idx[o] for o in labels], dtype=np.int64)\n",
    "    \n",
    "    def __getitem__(self,i): return open_image(self.x[i]),self.y[i]\n",
    "    \n",
    "    @staticmethod\n",
    "    def _folder_files(folder:Path, label:ImgLabel, check_ext=True)->Tuple[FilePathList,ImgLabels]:\n",
    "        \"From `folder` return image files and labels. The labels are all `label`. `check_ext` means only image files\"\n",
    "        fnames = get_image_files(folder, check_ext=check_ext)\n",
    "        return fnames,[label]*len(fnames)\n",
    "    \n",
    "    @classmethod\n",
    "    def from_single_folder(cls, folder:PathOrStr, classes:Classes, check_ext=True):\n",
    "        \"Typically used for test set. label all images in `folder` with `classes[0]`\"\n",
    "        fns,labels = cls._folder_files(folder, classes[0], check_ext=check_ext)\n",
    "        return cls(fns, labels, classes=classes)\n",
    "\n",
    "    @classmethod\n",
    "    def from_folder(cls, folder:Path, classes:Optional[Classes]=None, \n",
    "                    valid_pct:float=0., check_ext:bool=True) -> Union['FilesDataset', List['FilesDataset']]:\n",
    "        \"Dataset of `classes` labeled images in `folder`. Optional `valid_pct` split validation set.\"\n",
    "        if classes is None: classes = [cls.name for cls in find_classes(folder)]\n",
    "            \n",
    "        fns,labels = [],[]\n",
    "        for cl in classes:\n",
    "            f,l = cls._folder_files(folder/cl, cl, check_ext=check_ext)\n",
    "            fns+=f; labels+=l\n",
    "            \n",
    "        if valid_pct==0.: return cls(fns, labels, classes=classes)\n",
    "        return [cls(*a, classes=classes) for a in random_split(valid_pct, fns, labels)]"
   ]
  },
  {
   "cell_type": "code",
   "execution_count": 21,
   "metadata": {},
   "outputs": [],
   "source": [
    "train_ds = FilesDataset.from_folder(PATH/'train')\n",
    "valid_ds = FilesDataset.from_folder(PATH/'test')"
   ]
  },
  {
   "cell_type": "code",
   "execution_count": 22,
   "metadata": {},
   "outputs": [
    {
     "data": {
      "text/plain": [
       "array([PosixPath('../data/cifar10_dog_air/train/airplane/38187_airplane.png'),\n",
       "       PosixPath('../data/cifar10_dog_air/train/airplane/22304_airplane.png'),\n",
       "       PosixPath('../data/cifar10_dog_air/train/airplane/11963_airplane.png'),\n",
       "       PosixPath('../data/cifar10_dog_air/train/airplane/7907_airplane.png'),\n",
       "       PosixPath('../data/cifar10_dog_air/train/airplane/47456_airplane.png')],\n",
       "      dtype=object)"
      ]
     },
     "execution_count": 22,
     "metadata": {},
     "output_type": "execute_result"
    },
    {
     "data": {
      "text/plain": [
       "array([0, 0, 0, 0, 0])"
      ]
     },
     "execution_count": 22,
     "metadata": {},
     "output_type": "execute_result"
    }
   ],
   "source": [
    "train_ds.x[:5]\n",
    "train_ds.y[:5]"
   ]
  },
  {
   "cell_type": "code",
   "execution_count": 23,
   "metadata": {},
   "outputs": [
    {
     "data": {
      "text/plain": [
       "['airplane', 'dog']"
      ]
     },
     "execution_count": 23,
     "metadata": {},
     "output_type": "execute_result"
    },
    {
     "data": {
      "text/plain": [
       "{'airplane': 0, 'dog': 1}"
      ]
     },
     "execution_count": 23,
     "metadata": {},
     "output_type": "execute_result"
    }
   ],
   "source": [
    "train_ds.classes\n",
    "train_ds.class2idx"
   ]
  },
  {
   "cell_type": "code",
   "execution_count": 24,
   "metadata": {},
   "outputs": [
    {
     "data": {
      "text/plain": [
       "2"
      ]
     },
     "execution_count": 24,
     "metadata": {},
     "output_type": "execute_result"
    }
   ],
   "source": [
    "train_ds.c"
   ]
  },
  {
   "cell_type": "code",
   "execution_count": 25,
   "metadata": {},
   "outputs": [
    {
     "data": {
      "text/plain": [
       "(<__main__.Image at 0x7f018c7aacc0>, 0)"
      ]
     },
     "execution_count": 25,
     "metadata": {},
     "output_type": "execute_result"
    }
   ],
   "source": [
    "train_ds[0]"
   ]
  },
  {
   "cell_type": "code",
   "execution_count": 26,
   "metadata": {},
   "outputs": [
    {
     "data": {
      "text/plain": [
       "tensor([[[0.9647, 0.9569, 0.9529,  ..., 0.9882, 0.9922, 0.9922],\n",
       "         [0.9333, 0.9176, 0.9529,  ..., 1.0000, 1.0000, 1.0000],\n",
       "         [0.6353, 0.5569, 0.7098,  ..., 1.0000, 0.9922, 0.9961],\n",
       "         ...,\n",
       "         [1.0000, 1.0000, 1.0000,  ..., 0.2431, 0.3294, 0.5255],\n",
       "         [1.0000, 1.0000, 1.0000,  ..., 0.2588, 0.3137, 0.3882],\n",
       "         [1.0000, 1.0000, 1.0000,  ..., 0.6706, 0.5490, 0.7255]],\n",
       "\n",
       "        [[0.9725, 0.9647, 0.9608,  ..., 0.9843, 0.9882, 0.9922],\n",
       "         [0.9412, 0.9255, 0.9608,  ..., 0.9961, 1.0000, 1.0000],\n",
       "         [0.6431, 0.5647, 0.7176,  ..., 1.0000, 0.9922, 0.9961],\n",
       "         ...,\n",
       "         [1.0000, 1.0000, 1.0000,  ..., 0.2471, 0.3294, 0.5255],\n",
       "         [1.0000, 1.0000, 1.0000,  ..., 0.2588, 0.3137, 0.3882],\n",
       "         [1.0000, 1.0000, 1.0000,  ..., 0.6706, 0.5490, 0.7255]],\n",
       "\n",
       "        [[0.9608, 0.9529, 0.9490,  ..., 0.9882, 0.9922, 0.9922],\n",
       "         [0.9294, 0.9137, 0.9490,  ..., 1.0000, 1.0000, 1.0000],\n",
       "         [0.6314, 0.5529, 0.7059,  ..., 1.0000, 0.9922, 0.9961],\n",
       "         ...,\n",
       "         [1.0000, 1.0000, 1.0000,  ..., 0.2471, 0.3294, 0.5255],\n",
       "         [1.0000, 1.0000, 1.0000,  ..., 0.2588, 0.3137, 0.3882],\n",
       "         [1.0000, 1.0000, 1.0000,  ..., 0.6706, 0.5490, 0.7255]]])"
      ]
     },
     "execution_count": 26,
     "metadata": {},
     "output_type": "execute_result"
    }
   ],
   "source": [
    "train_ds[0][0].data"
   ]
  },
  {
   "cell_type": "code",
   "execution_count": 27,
   "metadata": {},
   "outputs": [
    {
     "data": {
      "text/plain": [
       "<matplotlib.axes._subplots.AxesSubplot at 0x7f018c6650b8>"
      ]
     },
     "execution_count": 27,
     "metadata": {},
     "output_type": "execute_result"
    },
    {
     "data": {
      "image/png": "[encoded data removed]",
      "text/plain": [
       "<Figure size 216x216 with 1 Axes>"
      ]
     },
     "metadata": {
      "needs_background": "light"
     },
     "output_type": "display_data"
    }
   ],
   "source": [
    "train_ds[0][0].show()"
   ]
  },
  {
   "cell_type": "markdown",
   "metadata": {},
   "source": [
    "# Data augmentation"
   ]
  },
  {
   "cell_type": "markdown",
   "metadata": {},
   "source": [
    "Now we are going augment our data to increase our training set. We will start by changing the brightness and contrast of our images.\n",
    "\n",
    "Brightness is computed by taking the logit of the change and adding it to the logit of the images pixels. Finally we take the sigmoid of the result.\n",
    "\n",
    "Contrast is computed by simply multiplying pixel values by the scale."
   ]
  },
  {
   "cell_type": "markdown",
   "metadata": {},
   "source": [
    "## Lighting"
   ]
  },
  {
   "cell_type": "markdown",
   "metadata": {},
   "source": [
    "We will start by changing the brightness and contrast of our images.\n",
    "\n",
    "## Method\n",
    "### Brightness\n",
    "\n",
    "Brightness refers to where does our image stand on the dark-light spectrum. Brightness is applied by adding a positive constant to each of the image's channels. This works because each of the channels in an image goes from 0 (darkest) to 255 (brightest) in a dark-light continum. (0, 0, 0) is black (total abscence of light) and (255, 255, 255) is white (pure light). You can check how this works by experimenting by yourself here.\n",
    "\n",
    "Parameters\n",
    "\n",
    "Change How much brightness do we want to add to (or take from) the image.\n",
    "\n",
    "$C \\in \\mathbb{R}$\n",
    "\n",
    "### Contrast\n",
    "\n",
    "Contrast refers to how sharp a distinction there is between brighter and darker sections of our image. To increase contrast we need darker pixels to be darker and lighter pixels to be lighter. In other words, we would like channels with a value smaller than 128 to decrease and channels with a value of greater than 128 to increase.\n",
    "\n",
    "Parameters\n",
    "\n",
    "Scale How much contrast do we want to add to (or remove from) the image.\n",
    "\n",
    "$C \\in [0, inf]$\n",
    "\n",
    "### On logit and sigmoid\n",
    "\n",
    "Notice that for both transformations we first apply the logit to our tensor (convert x: 0 to 1 to x: -inf to inf), then apply the transformation (add constant to x for brightness or multiply constant to x for contrast) and finally take the sigmoid (back to x: 0 and 1). This is important for two reasons.\n",
    "\n",
    "First, we don't want to overflow our tensor values. In other words, we need our final tensor values to be $T_{ij} \\in [0,1]$. Imagine, for instance, a tensor value at 0.99. We want to increase its brightness, but we can’t go over 1.0. By doing logit first, which first moves our space to $-inf$ to $+inf$, this works fine. The same applies to contrast if we have a scale S >1 (might make some of our tensor values greater than one).\n",
    "\n",
    "Second, when we apply contrast, we need to affect the dispersion (state of being spread over an area) of values around the middle value. Say we want to increase contrast. Then we need the bright values (>0.5) to get brighter and dark values (<0.5) to get darker. We must first transform our tensor values so our values which were originally <0.5 are now negative and our values which were originally >0.5 are positive. This way, when we multiply by a constant, the dispersion around 0 will increase (small numbers around 0 * positive scale = small numbers => they don't change much?). The logit function does exactly this and allows us to increase or decrease dispersion around a mid value."
   ]
  },
  {
   "cell_type": "code",
   "execution_count": 28,
   "metadata": {},
   "outputs": [],
   "source": [
    "??partial\n",
    "\n",
    "# return a new function with fewer parameters and fixed values set for the original function"
   ]
  },
  {
   "cell_type": "code",
   "execution_count": 29,
   "metadata": {},
   "outputs": [
    {
     "name": "stdout",
     "output_type": "stream",
     "text": [
      "14\n",
      "14\n"
     ]
    }
   ],
   "source": [
    "def multiply(x,y,z):\n",
    "        return 3*x + 2*y + z\n",
    "func1 = partial(multiply,3)\n",
    "print(func1(2,1))\n",
    "\n",
    "func2 = partial(multiply,3,2)\n",
    "print(func2(1))"
   ]
  },
  {
   "cell_type": "code",
   "execution_count": 30,
   "metadata": {},
   "outputs": [],
   "source": [
    "def logit(x:Tensor)->Tensor:  return -(1/x-1).log()\n",
    "def logit_(x:Tensor)->Tensor: return (x.reciprocal_().sub_(1)).log_().neg_() # -log(1/x -1)"
   ]
  },
  {
   "cell_type": "code",
   "execution_count": 31,
   "metadata": {},
   "outputs": [],
   "source": [
    "#export\n",
    "FlowField = Tensor\n",
    "LogitTensorImage = TensorImage\n",
    "AffineMatrix = Tensor\n",
    "KWArgs = Dict[str,Any]\n",
    "ArgStar = Collection[Any]\n",
    "TensorImageSize = Tuple[int,int,int]\n",
    "\n",
    "LightingFunc = Callable[[LogitTensorImage, ArgStar, KWArgs], LogitTensorImage]\n",
    "PixelFunc = Callable[[TensorImage, ArgStar, KWArgs], TensorImage]\n",
    "CoordFunc = Callable[[FlowField, TensorImageSize, ArgStar, KWArgs], LogitTensorImage]\n",
    "AffineFunc = Callable[[KWArgs], AffineMatrix]\n",
    "\n",
    "\n",
    "class ItemBase():\n",
    "    \"All transformable dataset items use this type\"\n",
    "    @property\n",
    "    @abstractmethod\n",
    "    def device(self): pass\n",
    "    @property\n",
    "    @abstractmethod\n",
    "    def data(self): pass\n",
    "\n",
    "class ImageBase(ItemBase):\n",
    "    \"Img based `Dataset` items derive from this. Subclass to handle lighting, pixel, etc\"\n",
    "    def lighting(self, func:LightingFunc, *args, **kwargs)->'ImageBase': return self\n",
    "    def pixel(self, func:PixelFunc, *args, **kwargs)->'ImageBase': return self\n",
    "    def coord(self, func:CoordFunc, *args, **kwargs)->'ImageBase': return self\n",
    "    def affine(self, func:AffineFunc, *args, **kwargs)->'ImageBase': return self\n",
    "\n",
    "    def set_sample(self, **kwargs)->'ImageBase':\n",
    "        \"Set parameters that control how we `grid_sample` the image after transforms are applied\"\n",
    "        self.sample_kwargs = kwargs\n",
    "        return self\n",
    "    \n",
    "    def clone(self)->'ImageBase': \n",
    "        \"Clones this item and its `data`\"\n",
    "        return self.__class__(self.data.clone())"
   ]
  },
  {
   "cell_type": "markdown",
   "metadata": {},
   "source": [
    "Old Image class\n",
    "```\n",
    "class Image():\n",
    "    '''\n",
    "    To include show_image function into image\n",
    "    '''\n",
    "    def __init__(self, px): self.px = px # type tensor\n",
    "    def show(self, ax=None, **kwargs): return show_image(self.px, ax=ax, **kwargs)\n",
    "    @property\n",
    "    def data(self): return self.px\n",
    "```"
   ]
  },
  {
   "cell_type": "code",
   "execution_count": 32,
   "metadata": {},
   "outputs": [],
   "source": [
    "class Image(ImageBase):\n",
    "    \"Supports appying transforms to image data\"\n",
    "    def __init__(self, px)->'Image':\n",
    "        \"create from raw tensor image data `px`\"\n",
    "        self._px = px\n",
    "        self._logit_px=None\n",
    "        self._flow=None\n",
    "        self._affine_mat=None\n",
    "        self.sample_kwargs = {}\n",
    "\n",
    "    @property\n",
    "    def shape(self)->Tuple[int,int,int]: \n",
    "        \"Returns (ch, h, w) for this image\"\n",
    "        return self._px.shape\n",
    "    @property\n",
    "    def size(self)->Tuple[int,int]: \n",
    "        \"Returns (h, w) for this image\"\n",
    "        return self.shape[-2:]\n",
    "    @property\n",
    "    def device(self)->torch.device: return self._px.device\n",
    "    \n",
    "    def __repr__(self): return f'{self.__class__.__name__} ({self.shape})'\n",
    "\n",
    "    def refresh(self)->None:\n",
    "        \"Applies any logit or affine transfers that have been \"\n",
    "        # This is called when self.px is called, mostly from self.data and self.show\n",
    "        if self._logit_px is not None:\n",
    "            self._px = self._logit_px.sigmoid_() # sigmoid logit_px and save back to px\n",
    "            self._logit_px = None\n",
    "        if self._affine_mat is not None or self._flow is not None:\n",
    "            self._px = grid_sample(self._px, self.flow, **self.sample_kwargs)\n",
    "            self.sample_kwargs = {}\n",
    "            self._flow = None\n",
    "        return self\n",
    "\n",
    "    @property\n",
    "    def px(self)->TensorImage:\n",
    "        \"Get the tensor pixel buffer\"\n",
    "        self.refresh()\n",
    "        return self._px\n",
    "    @px.setter\n",
    "    def px(self,v:TensorImage)->None: \n",
    "        \"Set the pixel buffer to `v`\"\n",
    "        self._px=v\n",
    "\n",
    "    @property\n",
    "    def flow(self)->FlowField:\n",
    "        \"Access the flow-field grid after applying queued affine transforms\"\n",
    "        if self._flow is None:\n",
    "            self._flow = affine_grid(self.shape)\n",
    "        if self._affine_mat is not None:\n",
    "            self._flow = affine_mult(self._flow,self._affine_mat)\n",
    "            self._affine_mat = None\n",
    "        return self._flow\n",
    "    \n",
    "    @flow.setter\n",
    "    def flow(self,v:FlowField): self._flow=v\n",
    "\n",
    "    def lighting(self, func:LightingFunc, *args:Any, **kwargs:Any)->'Image':\n",
    "        \"Equivalent to `image = sigmoid(func(logit(image)))`\"\n",
    "        self.logit_px = func(self.logit_px, *args, **kwargs)\n",
    "        return self\n",
    "\n",
    "    def pixel(self, func:PixelFunc, *args, **kwargs)->'Image':\n",
    "        \"Equivalent to `image.px = func(image.px)`\"\n",
    "        self.px = func(self.px, *args, **kwargs)\n",
    "        return self\n",
    "\n",
    "    def coord(self, func:CoordFunc, *args, **kwargs)->'Image':\n",
    "        \"Equivalent to `image.flow = func(image.flow, image.size)`\"        \n",
    "        self.flow = func(self.flow, self.shape, *args, **kwargs)\n",
    "        return self\n",
    "\n",
    "    def affine(self, func:AffineFunc, *args, **kwargs)->'Image':\n",
    "        \"Equivalent to `image.affine_mat = image.affine_mat @ func()`\"        \n",
    "        m = tensor(func(*args, **kwargs)).to(self.device)\n",
    "        self.affine_mat = self.affine_mat @ m\n",
    "        return self\n",
    "\n",
    "    def resize(self, size:Union[int,TensorImageSize])->'Image':\n",
    "        \"Resize the image to `size`, size can be a single int\"\n",
    "        assert self._flow is None\n",
    "        if isinstance(size, int): size=(self.shape[0], size, size)\n",
    "        self.flow = affine_grid(size)\n",
    "        return self\n",
    "\n",
    "    @property\n",
    "    def affine_mat(self)->AffineMatrix:\n",
    "        \"Get the affine matrix that will be applied by `refresh`\"\n",
    "        if self._affine_mat is None:\n",
    "            self._affine_mat = torch.eye(3).to(self.device)\n",
    "        return self._affine_mat\n",
    "    @affine_mat.setter\n",
    "    def affine_mat(self,v)->None: self._affine_mat=v\n",
    "\n",
    "    @property\n",
    "    def logit_px(self)->LogitTensorImage:\n",
    "        \"Get logit(image.px)\"\n",
    "        if self._logit_px is None: self._logit_px = logit_(self.px)\n",
    "        return self._logit_px\n",
    "    @logit_px.setter\n",
    "    def logit_px(self,v:LogitTensorImage)->None: self._logit_px=v\n",
    "    \n",
    "    def show(self, ax:plt.Axes=None, **kwargs:Any)->None: \n",
    "        \"Plots the image into `ax`\"\n",
    "        show_image(self.px, ax=ax, **kwargs)\n",
    "    \n",
    "    @property\n",
    "    def data(self)->TensorImage: \n",
    "        \"Returns this images pixels as a tensor\"\n",
    "        return self.px"
   ]
  },
  {
   "cell_type": "code",
   "execution_count": 33,
   "metadata": {},
   "outputs": [],
   "source": [
    "def contrast(x:Tensor, scale:float)->Tensor: return x.mul_(scale)"
   ]
  },
  {
   "cell_type": "code",
   "execution_count": 34,
   "metadata": {},
   "outputs": [],
   "source": [
    "train_ds = FilesDataset.from_folder(PATH/'train')\n",
    "valid_ds = FilesDataset.from_folder(PATH/'test')"
   ]
  },
  {
   "cell_type": "code",
   "execution_count": 35,
   "metadata": {},
   "outputs": [
    {
     "data": {
      "text/plain": [
       "Image (torch.Size([3, 32, 32]))"
      ]
     },
     "execution_count": 35,
     "metadata": {},
     "output_type": "execute_result"
    }
   ],
   "source": [
    "x = lambda: train_ds[1][0] # to avoid transform the tensor permanently\n",
    "x()"
   ]
  },
  {
   "cell_type": "code",
   "execution_count": 36,
   "metadata": {},
   "outputs": [
    {
     "data": {
      "image/png": "[encoded data removed]",
      "text/plain": [
       "<Figure size 216x216 with 1 Axes>"
      ]
     },
     "metadata": {
      "needs_background": "light"
     },
     "output_type": "display_data"
    }
   ],
   "source": [
    "img = x()\n",
    "x().show()"
   ]
  },
  {
   "cell_type": "code",
   "execution_count": 37,
   "metadata": {},
   "outputs": [
    {
     "data": {
      "image/png": "[encoded data removed]",
      "text/plain": [
       "<Figure size 216x216 with 1 Axes>"
      ]
     },
     "metadata": {
      "needs_background": "light"
     },
     "output_type": "display_data"
    }
   ],
   "source": [
    "img.logit_px = contrast(img.logit_px, 0.5)\n",
    "img.show()"
   ]
  },
  {
   "cell_type": "code",
   "execution_count": 38,
   "metadata": {},
   "outputs": [],
   "source": [
    "from IPython.core.debugger import set_trace"
   ]
  },
  {
   "cell_type": "code",
   "execution_count": 39,
   "metadata": {},
   "outputs": [
    {
     "data": {
      "image/png": "[encoded data removed]",
      "text/plain": [
       "<Figure size 216x216 with 1 Axes>"
      ]
     },
     "metadata": {
      "needs_background": "light"
     },
     "output_type": "display_data"
    }
   ],
   "source": [
    "x().lighting(contrast, 2).show()"
   ]
  },
  {
   "cell_type": "markdown",
   "metadata": {},
   "source": [
    "## Decorator and composition"
   ]
  },
  {
   "cell_type": "markdown",
   "metadata": {},
   "source": [
    "We are interested in composing the transform functions so as to apply them all at once. We will try to feed a list of transforms to our pipeline for it to apply all of them.\n",
    "\n",
    "Applying a function to our transforms before calling them in Python is easiest if we use a decorator. You can find more about decorators here.\n",
    "\n",
    "Function decorators: wrappers to existing functions, to add new functionality to existing functions"
   ]
  },
  {
   "cell_type": "code",
   "execution_count": 40,
   "metadata": {},
   "outputs": [
    {
     "name": "stdout",
     "output_type": "stream",
     "text": [
      "<p>lorem ipsum, John dolor sit amet</p>\n"
     ]
    }
   ],
   "source": [
    "def get_text(name):\n",
    "    return \"lorem ipsum, {0} dolor sit amet\".format(name)\n",
    "\n",
    "def p_decorate(func):\n",
    "    def func_wrapper(name):\n",
    "        return \"<p>{0}</p>\".format(func(name))\n",
    "    return func_wrapper\n",
    "\n",
    "get_text = p_decorate(get_text)\n",
    "\n",
    "print(get_text(\"John\"))"
   ]
  },
  {
   "cell_type": "code",
   "execution_count": 41,
   "metadata": {},
   "outputs": [
    {
     "name": "stdout",
     "output_type": "stream",
     "text": [
      "<p>lorem ipsum, John dolor sit amet</p>\n",
      "<p>YO, John IS DOPE</p>\n",
      "<div><p>YO, John IS DOPE</p></div>\n"
     ]
    }
   ],
   "source": [
    "# using decorator:\n",
    "def p_decorate(func):\n",
    "    def func_wrapper(name):\n",
    "        return \"<p>{0}</p>\".format(func(name))\n",
    "    return func_wrapper\n",
    "\n",
    "def div_decorate(func):\n",
    "    def func_wrapper(name):\n",
    "        return \"<div>{0}</div>\".format(func(name))\n",
    "    return func_wrapper\n",
    "@p_decorate\n",
    "def get_text(name):\n",
    "    return \"lorem ipsum, {0} dolor sit amet\".format(name)\n",
    "@p_decorate\n",
    "def get_another_text(name):\n",
    "    return \"YO, {0} IS DOPE\".format(name)\n",
    "\n",
    "print (get_text(\"John\"))\n",
    "print(get_another_text(\"John\"))\n",
    "\n",
    "@div_decorate\n",
    "@p_decorate\n",
    "def get_another_text2(name):\n",
    "    return \"YO, {0} IS DOPE\".format(name)\n",
    "print(get_another_text2('John'))"
   ]
  },
  {
   "cell_type": "code",
   "execution_count": 42,
   "metadata": {},
   "outputs": [
    {
     "name": "stdout",
     "output_type": "stream",
     "text": [
      "inside my_decorator.__init__()\n",
      "Finished decorating aFunction()\n"
     ]
    }
   ],
   "source": [
    "# PythonDecorators/my_decorator.py\n",
    "class my_decorator(object):\n",
    "\n",
    "    def __init__(self, f):\n",
    "        print(\"inside my_decorator.__init__()\")\n",
    "        self.f = f\n",
    "#         f() # Prove that function definition has completed\n",
    "\n",
    "    def __call__(self, *args,**kwargs):\n",
    "        print(\"inside my_decorator.__call__()\")\n",
    "        print(args)\n",
    "        print(kwargs)\n",
    "        self.f(*args,**kwargs)\n",
    "\n",
    "@my_decorator\n",
    "def aFunction(x,y=1):\n",
    "    print(\"inside aFunction() with arg \"+str(x)+ \" and kwarg \" + str(y))\n",
    "\n",
    "print(\"Finished decorating aFunction()\")"
   ]
  },
  {
   "cell_type": "code",
   "execution_count": 43,
   "metadata": {},
   "outputs": [
    {
     "name": "stdout",
     "output_type": "stream",
     "text": [
      "inside my_decorator.__call__()\n",
      "(3,)\n",
      "{}\n",
      "inside aFunction() with arg 3 and kwarg 1\n"
     ]
    }
   ],
   "source": [
    "aFunction(3)"
   ]
  },
  {
   "cell_type": "code",
   "execution_count": 44,
   "metadata": {},
   "outputs": [
    {
     "name": "stdout",
     "output_type": "stream",
     "text": [
      "inside my_decorator.__call__()\n",
      "(3, 4)\n",
      "{}\n",
      "inside aFunction() with arg 3 and kwarg 4\n"
     ]
    }
   ],
   "source": [
    "aFunction(3,4)"
   ]
  },
  {
   "cell_type": "code",
   "execution_count": 45,
   "metadata": {},
   "outputs": [
    {
     "name": "stdout",
     "output_type": "stream",
     "text": [
      "inside my_decorator.__call__()\n",
      "()\n",
      "{'x': 3, 'y': 4}\n",
      "inside aFunction() with arg 3 and kwarg 4\n"
     ]
    }
   ],
   "source": [
    "aFunction(x=3,y=4)"
   ]
  },
  {
   "cell_type": "markdown",
   "metadata": {},
   "source": [
    "## Transform class"
   ]
  },
  {
   "cell_type": "code",
   "execution_count": 46,
   "metadata": {},
   "outputs": [],
   "source": [
    "class Transform():\n",
    "    _wrap=None\n",
    "    def __init__(self, func): self.func=func\n",
    "    def __call__(self, x, *args, **kwargs):\n",
    "        if self._wrap:\n",
    "            # if _wrap is 'lighting', it will call x.lighting, which essentially do func(logit(x),*args, **kwargs) \n",
    "            # and return the Image obj itself\n",
    "            return getattr(x, self._wrap)(self.func, *args, **kwargs)\n",
    "        else:          \n",
    "            return self.func(x, *args, **kwargs)\n",
    "    \n",
    "class TfmLighting(Transform): _wrap='lighting'"
   ]
  },
  {
   "cell_type": "code",
   "execution_count": 47,
   "metadata": {},
   "outputs": [],
   "source": [
    "@TfmLighting\n",
    "def brightness(x, change): \n",
    "    # the change to be added to x for brightness should be between 0 and 1, as it will be transformed using logit\n",
    "    # Note that x in here is already logit\n",
    "    return x.add_(scipy.special.logit(change))\n",
    "@TfmLighting\n",
    "def contrast(x, scale): \n",
    "    return x.mul_(scale)"
   ]
  },
  {
   "cell_type": "code",
   "execution_count": 48,
   "metadata": {},
   "outputs": [
    {
     "data": {
      "image/png": "[encoded data removed]",
      "text/plain": [
       "<Figure size 864x216 with 4 Axes>"
      ]
     },
     "metadata": {
      "needs_background": "light"
     },
     "output_type": "display_data"
    }
   ],
   "source": [
    "\n",
    "_,axes = plt.subplots(1,4, figsize=(12,3))\n",
    "\n",
    "x().show(axes[0])\n",
    "contrast(x(), 0.2).show(axes[1])\n",
    "contrast(x(), 1).show(axes[2])\n",
    "contrast(x(), 4).show(axes[3])"
   ]
  },
  {
   "cell_type": "code",
   "execution_count": 49,
   "metadata": {},
   "outputs": [
    {
     "data": {
      "image/png": "[encoded data removed]",
      "text/plain": [
       "<Figure size 864x216 with 4 Axes>"
      ]
     },
     "metadata": {
      "needs_background": "light"
     },
     "output_type": "display_data"
    }
   ],
   "source": [
    "_,axes = plt.subplots(1,4, figsize=(12,3))\n",
    "\n",
    "x().show(axes[0])\n",
    "brightness(x(), 0.1).show(axes[1])\n",
    "brightness(x(), 0.5).show(axes[2])\n",
    "brightness(x(), 0.9).show(axes[3])"
   ]
  },
  {
   "cell_type": "code",
   "execution_count": 50,
   "metadata": {},
   "outputs": [],
   "source": [
    "def brightness_contrast(x, scale_contrast, change_brightness):\n",
    "    return brightness(contrast(x, scale=scale_contrast), change=change_brightness)"
   ]
  },
  {
   "cell_type": "code",
   "execution_count": 51,
   "metadata": {},
   "outputs": [
    {
     "data": {
      "image/png": "[encoded data removed]",
      "text/plain": [
       "<Figure size 864x216 with 4 Axes>"
      ]
     },
     "metadata": {
      "needs_background": "light"
     },
     "output_type": "display_data"
    }
   ],
   "source": [
    "_,axes = plt.subplots(1,4, figsize=(12,3))\n",
    "\n",
    "brightness_contrast(x(), 0.75, 0.7).show(axes[0]) # less contrast,  brighter\n",
    "brightness_contrast(x(), 1.3,  0.7).show(axes[1])# more contrast, brighter\n",
    "brightness_contrast(x(), 0.75,0.3).show(axes[2]) # less contrast, dimmer\n",
    "brightness_contrast(x(), 1.3, 0.3).show(axes[3]) # more contrast, dimmer"
   ]
  },
  {
   "cell_type": "markdown",
   "metadata": {},
   "source": [
    "## Random lighting"
   ]
  },
  {
   "cell_type": "markdown",
   "metadata": {},
   "source": [
    "Next, we will make our previous transforms random since we are interested in automatizing the transforms pipeline. We will achieve this by making our parameters stochastic with a specific distribution: uniform for brightness and log_uniform for contrast.\n",
    "\n",
    "We will use a *uniform* distribution for brightness change since its domain is the real numbers and the impact varies linearly with the scale. For contrast we use *log_uniform* for two reasons. First, contrast scale has a domain of [0, inf]. Second, the impact of the scale in the transformation is non-linear (i.e. 0.5 is as extreme as 2.0, 0.2 is as extreme as 5). The log_uniform function is appropriate because it has the same domain and correctly represents the non-linearity of the transform, P(0.5) = P(2)."
   ]
  },
  {
   "cell_type": "code",
   "execution_count": 52,
   "metadata": {},
   "outputs": [
    {
     "data": {
      "text/plain": [
       "[<matplotlib.lines.Line2D at 0x7f018b92ee48>]"
      ]
     },
     "execution_count": 52,
     "metadata": {},
     "output_type": "execute_result"
    },
    {
     "data": {
      "text/plain": [
       "<matplotlib.collections.PathCollection at 0x7f018b8f0080>"
      ]
     },
     "execution_count": 52,
     "metadata": {},
     "output_type": "execute_result"
    },
    {
     "data": {
      "text/plain": [
       "[<matplotlib.lines.Line2D at 0x7f018b8f05f8>]"
      ]
     },
     "execution_count": 52,
     "metadata": {},
     "output_type": "execute_result"
    },
    {
     "data": {
      "text/plain": [
       "<matplotlib.collections.PathCollection at 0x7f018b8f0198>"
      ]
     },
     "execution_count": 52,
     "metadata": {},
     "output_type": "execute_result"
    },
    {
     "data": {
      "text/plain": [
       "[<matplotlib.lines.Line2D at 0x7f018b8f0cf8>]"
      ]
     },
     "execution_count": 52,
     "metadata": {},
     "output_type": "execute_result"
    },
    {
     "data": {
      "text/plain": [
       "<matplotlib.collections.PathCollection at 0x7f018b8f0b38>"
      ]
     },
     "execution_count": 52,
     "metadata": {},
     "output_type": "execute_result"
    },
    {
     "data": {
      "image/png": "[encoded data removed]",
      "text/plain": [
       "<Figure size 864x360 with 3 Axes>"
      ]
     },
     "metadata": {
      "needs_background": "light"
     },
     "output_type": "display_data"
    }
   ],
   "source": [
    "# brightness impact varies linearly with scale\n",
    "def logit(x):  return scipy.special.logit(x)\n",
    "def sigmoid(x): return 1 / (1+np.e**(-x))\n",
    "fig,axes = plt.subplots(1,3,figsize=(12,5))\n",
    "pixel=0.2\n",
    "brightness=[i/10 for i in range(10)]\n",
    "pixel_r = [sigmoid(logit(pixel) + logit(i)) for i in brightness]\n",
    "axes[0].plot(brightness,[pixel]*len(brightness))\n",
    "axes[0].scatter(brightness,pixel_r)\n",
    "\n",
    "pixel=0.5\n",
    "brightness=[i/10 for i in range(10)]\n",
    "pixel_r = [sigmoid(logit(pixel) + logit(i)) for i in brightness]\n",
    "axes[1].plot(brightness,[pixel]*len(brightness))\n",
    "axes[1].scatter(brightness,pixel_r)\n",
    "\n",
    "pixel=0.8\n",
    "brightness=[i/10 for i in range(10)]\n",
    "pixel_r = [sigmoid(logit(pixel) + logit(i)) for i in brightness]\n",
    "axes[2].plot(brightness,[pixel]*len(brightness))\n",
    "axes[2].scatter(brightness,pixel_r)"
   ]
  },
  {
   "cell_type": "markdown",
   "metadata": {},
   "source": [
    "Dim pixels are insensitive to small brightness change, but very sensitive to large brightness change"
   ]
  },
  {
   "cell_type": "code",
   "execution_count": 53,
   "metadata": {},
   "outputs": [
    {
     "data": {
      "text/plain": [
       "[<matplotlib.lines.Line2D at 0x7f018b892710>]"
      ]
     },
     "execution_count": 53,
     "metadata": {},
     "output_type": "execute_result"
    },
    {
     "data": {
      "text/plain": [
       "<matplotlib.collections.PathCollection at 0x7f018b7b0358>"
      ]
     },
     "execution_count": 53,
     "metadata": {},
     "output_type": "execute_result"
    },
    {
     "data": {
      "text/plain": [
       "[<matplotlib.lines.Line2D at 0x7f018b7b0710>]"
      ]
     },
     "execution_count": 53,
     "metadata": {},
     "output_type": "execute_result"
    },
    {
     "data": {
      "text/plain": [
       "<matplotlib.collections.PathCollection at 0x7f018b7b09b0>"
      ]
     },
     "execution_count": 53,
     "metadata": {},
     "output_type": "execute_result"
    },
    {
     "data": {
      "text/plain": [
       "[<matplotlib.lines.Line2D at 0x7f018b7b0e80>]"
      ]
     },
     "execution_count": 53,
     "metadata": {},
     "output_type": "execute_result"
    },
    {
     "data": {
      "text/plain": [
       "<matplotlib.collections.PathCollection at 0x7f018b7bc2b0>"
      ]
     },
     "execution_count": 53,
     "metadata": {},
     "output_type": "execute_result"
    },
    {
     "data": {
      "text/plain": [
       "[<matplotlib.lines.Line2D at 0x7f018b7bc2e8>]"
      ]
     },
     "execution_count": 53,
     "metadata": {},
     "output_type": "execute_result"
    },
    {
     "data": {
      "text/plain": [
       "<matplotlib.collections.PathCollection at 0x7f018b7bc9b0>"
      ]
     },
     "execution_count": 53,
     "metadata": {},
     "output_type": "execute_result"
    },
    {
     "data": {
      "image/png": "[encoded data removed]",
      "text/plain": [
       "<Figure size 1080x360 with 4 Axes>"
      ]
     },
     "metadata": {
      "needs_background": "light"
     },
     "output_type": "display_data"
    }
   ],
   "source": [
    "# contrast scales affect pixel differently\n",
    "\n",
    "fig,axes = plt.subplots(1,4,figsize=(15,5),sharey=True)\n",
    "\n",
    "pixel=0.2\n",
    "contrast_scale=np.linspace(0,2,10)\n",
    "pixel_r = [sigmoid(logit(pixel)*i) for i in contrast_scale]\n",
    "axes[0].plot(contrast_scale,[pixel]*len(contrast_scale))\n",
    "axes[0].scatter(contrast_scale,pixel_r)\n",
    "\n",
    "pixel=0.48\n",
    "contrast_scale=np.linspace(0,2,10)\n",
    "pixel_r = [sigmoid(logit(pixel)*i) for i in contrast_scale]\n",
    "axes[1].plot(contrast_scale,[pixel]*len(contrast_scale))\n",
    "axes[1].scatter(contrast_scale,pixel_r)\n",
    "\n",
    "pixel=0.52\n",
    "contrast_scale=np.linspace(0,2,10)\n",
    "pixel_r = [sigmoid(logit(pixel)*i) for i in contrast_scale]\n",
    "axes[2].plot(contrast_scale,[pixel]*len(contrast_scale))\n",
    "axes[2].scatter(contrast_scale,pixel_r)\n",
    "\n",
    "pixel=0.8\n",
    "contrast_scale=np.linspace(0,2,10)\n",
    "pixel_r = [sigmoid(logit(pixel)*i) for i in contrast_scale]\n",
    "axes[3].plot(contrast_scale,[pixel]*len(contrast_scale))\n",
    "axes[3].scatter(contrast_scale,pixel_r)"
   ]
  },
  {
   "cell_type": "markdown",
   "metadata": {},
   "source": [
    "Dim pixel gets dimmer when scale increases. ~0.5 pixel does not change much"
   ]
  },
  {
   "cell_type": "code",
   "execution_count": 54,
   "metadata": {},
   "outputs": [],
   "source": [
    "#export\n",
    "FloatOrTensor = Union[float,Tensor]\n",
    "BoolOrTensor = Union[bool,Tensor]\n",
    "def uniform(low:Number, high:Number, size:List[int]=None)->FloatOrTensor:\n",
    "    \"Draw 1 or shape=`size` random floats from uniform dist: min=`low`, max=`high`\"\n",
    "    return random.uniform(low,high) if size is None else torch.FloatTensor(*listify(size)).uniform_(low,high)\n",
    "\n",
    "def log_uniform(low, high, size=None)->FloatOrTensor:\n",
    "    \"Draw 1 or shape=`size` random floats from uniform dist: min=log(`low`), max=log(`high`)\"\n",
    "    res = uniform(log(low), log(high), size)\n",
    "    return exp(res) if size is None else res.exp_()\n",
    "\n",
    "def rand_bool(p:float, size=None)->BoolOrTensor: \n",
    "    \"Draw 1 or shape=`size` random booleans (True occuring probability p)\"\n",
    "    return uniform(0,1,size)<p"
   ]
  },
  {
   "cell_type": "code",
   "execution_count": 55,
   "metadata": {},
   "outputs": [
    {
     "data": {
      "text/plain": [
       "0.9979812740973012"
      ]
     },
     "execution_count": 55,
     "metadata": {},
     "output_type": "execute_result"
    }
   ],
   "source": [
    "scipy.stats.gmean([log_uniform(0.5,2.0) for _ in range(1000)])"
   ]
  },
  {
   "cell_type": "code",
   "execution_count": 56,
   "metadata": {},
   "outputs": [
    {
     "data": {
      "image/png": "[encoded data removed]",
      "text/plain": [
       "<Figure size 432x288 with 1 Axes>"
      ]
     },
     "metadata": {
      "needs_background": "light"
     },
     "output_type": "display_data"
    }
   ],
   "source": [
    "# log uniform distribution\n",
    "log_u = [log_uniform(0.5,2.0) for _ in range(1000)]\n",
    "plt.hist(log_u,bins=100);"
   ]
  },
  {
   "cell_type": "code",
   "execution_count": 57,
   "metadata": {},
   "outputs": [],
   "source": [
    "#export\n",
    "import inspect\n",
    "from copy import copy,deepcopy\n",
    "\n",
    "def get_default_args(func:Callable):\n",
    "    return {k: v.default\n",
    "            for k, v in inspect.signature(func).parameters.items()\n",
    "            if v.default is not inspect.Parameter.empty}\n",
    "\n",
    "ListOrItem = Union[Collection[Any],int,float,str]\n",
    "OptListOrItem = Optional[ListOrItem]\n",
    "def listify(p:OptListOrItem=None, q:OptListOrItem=None):\n",
    "    \"Makes `p` same length as `q`\"\n",
    "    # duplicate single-item list p q times\n",
    "    if p is None: p=[]\n",
    "    elif not isinstance(p, Iterable): p=[p]\n",
    "    n = q if type(q)==int else len(p) if q is None else len(q)\n",
    "    if len(p)==1: p = p * n\n",
    "    assert len(p)==n, f'List len mismatch ({len(p)} vs {n})'\n",
    "    return list(p)"
   ]
  },
  {
   "cell_type": "code",
   "execution_count": 58,
   "metadata": {},
   "outputs": [],
   "source": [
    "# def compose(funcs):\n",
    "#     # funcs is list of partial functions. Execute this list of functions in order\n",
    "#     # compose acts as a wrapper for multiple PARTIAL functions in funcs list\n",
    "#     def _inner(x, *args, **kwargs):\n",
    "#         for f in listify(funcs): x = f(x, *args, **kwargs)\n",
    "#         return x\n",
    "#     return _inner if funcs else None"
   ]
  },
  {
   "cell_type": "code",
   "execution_count": 59,
   "metadata": {},
   "outputs": [
    {
     "data": {
      "text/plain": [
       "[2]"
      ]
     },
     "execution_count": 59,
     "metadata": {},
     "output_type": "execute_result"
    },
    {
     "data": {
      "text/plain": [
       "[2, 2, 2]"
      ]
     },
     "execution_count": 59,
     "metadata": {},
     "output_type": "execute_result"
    },
    {
     "data": {
      "text/plain": [
       "[2, 2]"
      ]
     },
     "execution_count": 59,
     "metadata": {},
     "output_type": "execute_result"
    }
   ],
   "source": [
    "listify(2)\n",
    "listify((2),3)\n",
    "listify(2,[3,4])\n",
    "# listify([2,3],3)"
   ]
  },
  {
   "cell_type": "markdown",
   "metadata": {},
   "source": [
    "Old transform class\n",
    "```\n",
    "class Transform():\n",
    "    _wrap=None\n",
    "    def __init__(self, func): self.func=func\n",
    "    def __call__(self, x, *args, **kwargs):\n",
    "        if self._wrap:\n",
    "            # if _wrap is 'lighting', it will call x.lighting, which essentially do func(logit(x),*args, **kwargs) \n",
    "            # and return the Image obj itself\n",
    "            return getattr(x, self._wrap)(self.func, *args, **kwargs)\n",
    "        else:          \n",
    "            return self.func(x, *args, **kwargs)\n",
    "    \n",
    "class TfmLighting(Transform): _wrap='lighting'\n",
    "```\n"
   ]
  },
  {
   "cell_type": "code",
   "execution_count": 60,
   "metadata": {},
   "outputs": [],
   "source": [
    "class Transform():\n",
    "    \"Utility class for adding probability and wrapping support to transform funcs\"\n",
    "    _wrap=None\n",
    "    order=0\n",
    "    def __init__(self, func:Callable, order:Optional[int]=None)->None:\n",
    "        \"Create a transform for `func` and assign it an priority `order`, attach to Image class\"\n",
    "        if order is not None: self.order=order\n",
    "        self.func=func\n",
    "        functools.update_wrapper(self, self.func)\n",
    "        self.func.__annotations__['return'] = Image\n",
    "        self.params = copy(func.__annotations__)\n",
    "        self.def_args = get_default_args(func)\n",
    "        setattr(Image, func.__name__,\n",
    "                lambda x, *args, **kwargs: self.calc(x, *args, **kwargs))\n",
    "        \n",
    "    def __call__(self, *args:Any, p:float=1., is_random:bool=True, **kwargs:Any)->Image:\n",
    "        \"Calc now if `args` passed; else create a transform called prob `p` if `random`\"\n",
    "#         set_trace()\n",
    "        if args: return self.calc(*args, **kwargs)\n",
    "        else: return RandTransform(self, kwargs=kwargs, is_random=is_random, p=p)\n",
    "        \n",
    "    def calc(self, x:Image, *args:Any, **kwargs:Any)->Image:\n",
    "        \"Apply this transform to image `x`, wrapping it if necessary\"\n",
    "        if self._wrap: return getattr(x, self._wrap)(self.func, *args, **kwargs)\n",
    "        else:          return self.func(x, *args, **kwargs)\n",
    "\n",
    "    @property\n",
    "    def name(self)->str: return self.__class__.__name__\n",
    "    \n",
    "    def __repr__(self)->str: return f'{self.name} ({self.func.__name__})'\n",
    "\n",
    "class TfmLighting(Transform): order,_wrap = 8,'lighting' #order = 8,_wrap='lighting'"
   ]
  },
  {
   "cell_type": "code",
   "execution_count": 61,
   "metadata": {},
   "outputs": [],
   "source": [
    "@dataclass\n",
    "class RandTransform():\n",
    "    \"Wraps `Transform` to add randomized execution\"\n",
    "    tfm:Transform\n",
    "    kwargs:dict\n",
    "    p:int=1.0\n",
    "    resolved:dict = field(default_factory=dict)\n",
    "    do_run:bool = True\n",
    "    is_random:bool = True\n",
    "    def __post_init__(self): functools.update_wrapper(self, self.tfm)\n",
    "    \n",
    "    def resolve(self)->None:\n",
    "        \"Bind any random variables needed tfm calc\"\n",
    "#         set_trace()\n",
    "        if not self.is_random:\n",
    "            self.resolved = {**self.tfm.def_args, **self.kwargs}\n",
    "            return\n",
    "\n",
    "        self.resolved = {}\n",
    "        # for each param passed to tfm...\n",
    "        for k,v in self.kwargs.items():\n",
    "            # ...if it's annotated, call that fn...\n",
    "            if k in self.tfm.params:\n",
    "                rand_func = self.tfm.params[k]\n",
    "                self.resolved[k] = rand_func(*listify(v))\n",
    "            # ...otherwise use the value directly\n",
    "            else: self.resolved[k] = v\n",
    "        # use defaults for any args not filled in yet\n",
    "        for k,v in self.tfm.def_args.items():\n",
    "            if k not in self.resolved: self.resolved[k]=v\n",
    "        # anything left over must be callable without params\n",
    "        for k,v in self.tfm.params.items():\n",
    "            if k not in self.resolved and k!='return': self.resolved[k]=v()\n",
    "\n",
    "        self.do_run = rand_bool(self.p)\n",
    "\n",
    "    @property\n",
    "    def order(self)->int: return self.tfm.order\n",
    "\n",
    "    def __call__(self, x:Image, *args, **kwargs)->Image:\n",
    "        \"Randomly execute our tfm on `x`\"\n",
    "        return self.tfm(x, *args, **{**self.resolved, **kwargs}) if self.do_run else x"
   ]
  },
  {
   "cell_type": "code",
   "execution_count": 62,
   "metadata": {},
   "outputs": [],
   "source": [
    "#export\n",
    "@TfmLighting\n",
    "def brightness(x, change:uniform): \n",
    "    \"`change` brightness of image `x`\"\n",
    "    return x.add_(scipy.special.logit(change))\n",
    "\n",
    "@TfmLighting\n",
    "def contrast(x, scale:log_uniform): \n",
    "    \"`scale` contrast of image `x`\"\n",
    "    return x.mul_(scale)"
   ]
  },
  {
   "cell_type": "code",
   "execution_count": 63,
   "metadata": {},
   "outputs": [
    {
     "data": {
      "text/plain": [
       "Image (torch.Size([3, 32, 32]))"
      ]
     },
     "execution_count": 63,
     "metadata": {},
     "output_type": "execute_result"
    }
   ],
   "source": [
    "x = lambda: train_ds[1][0] # to avoid transform the tensor permanently\n",
    "x()"
   ]
  },
  {
   "cell_type": "code",
   "execution_count": 64,
   "metadata": {},
   "outputs": [
    {
     "data": {
      "image/png": "[encoded data removed]",
      "text/plain": [
       "<Figure size 216x216 with 1 Axes>"
      ]
     },
     "metadata": {
      "needs_background": "light"
     },
     "output_type": "display_data"
    }
   ],
   "source": [
    "x().contrast(scale=2).show() #???"
   ]
  },
  {
   "cell_type": "code",
   "execution_count": 65,
   "metadata": {},
   "outputs": [
    {
     "data": {
      "image/png": "[encoded data removed]",
      "text/plain": [
       "<Figure size 216x216 with 1 Axes>"
      ]
     },
     "metadata": {
      "needs_background": "light"
     },
     "output_type": "display_data"
    }
   ],
   "source": [
    "x().contrast(scale=2).brightness(0.8).show()"
   ]
  },
  {
   "cell_type": "code",
   "execution_count": 66,
   "metadata": {
    "scrolled": true
   },
   "outputs": [
    {
     "data": {
      "text/plain": [
       "(RandTransform(tfm=TfmLighting (contrast), kwargs={'scale': (0.3, 3)}, p=1.0, resolved={'scale': 0.30627387294691133}, do_run=True, is_random=True),\n",
       " {'scale': 0.30627387294691133},\n",
       " True)"
      ]
     },
     "execution_count": 66,
     "metadata": {},
     "output_type": "execute_result"
    }
   ],
   "source": [
    "tfm = contrast(scale=(0.3,3))\n",
    "tfm.resolve() # generate random var, depends on what type of transformation it is\n",
    "tfm,tfm.resolved,tfm.do_run"
   ]
  },
  {
   "cell_type": "code",
   "execution_count": 67,
   "metadata": {},
   "outputs": [
    {
     "data": {
      "text/plain": [
       "{'scale': 0.45864086299629075}"
      ]
     },
     "execution_count": 67,
     "metadata": {},
     "output_type": "execute_result"
    },
    {
     "data": {
      "image/png": "[encoded data removed]",
      "text/plain": [
       "<Figure size 864x216 with 4 Axes>"
      ]
     },
     "metadata": {
      "needs_background": "light"
     },
     "output_type": "display_data"
    }
   ],
   "source": [
    "# all the same\n",
    "tfm.resolve()\n",
    "tfm.resolved\n",
    "_,axes = plt.subplots(1,4, figsize=(12,3))\n",
    "for ax in axes: tfm(x()).show(ax)"
   ]
  },
  {
   "cell_type": "code",
   "execution_count": 68,
   "metadata": {},
   "outputs": [
    {
     "name": "stdout",
     "output_type": "stream",
     "text": [
      "{'scale': 2.4823807152456605}\n",
      "{'scale': 1.786220096013626}\n",
      "{'scale': 0.6291131607713152}\n",
      "{'scale': 1.8862330361090305}\n"
     ]
    },
    {
     "data": {
      "image/png": "[encoded data removed]",
      "text/plain": [
       "<Figure size 864x216 with 4 Axes>"
      ]
     },
     "metadata": {
      "needs_background": "light"
     },
     "output_type": "display_data"
    }
   ],
   "source": [
    "# all different\n",
    "tfm = contrast(scale=(0.3,3))\n",
    "\n",
    "_,axes = plt.subplots(1,4, figsize=(12,3))\n",
    "for ax in axes:\n",
    "    tfm.resolve()\n",
    "    print(tfm.resolved)\n",
    "    tfm(x()).show(ax)"
   ]
  },
  {
   "cell_type": "code",
   "execution_count": 69,
   "metadata": {},
   "outputs": [
    {
     "data": {
      "text/plain": [
       "{'scale': 2}"
      ]
     },
     "execution_count": 69,
     "metadata": {},
     "output_type": "execute_result"
    },
    {
     "data": {
      "image/png": "[encoded data removed]",
      "text/plain": [
       "<Figure size 216x216 with 1 Axes>"
      ]
     },
     "metadata": {
      "needs_background": "light"
     },
     "output_type": "display_data"
    }
   ],
   "source": [
    "#fix scale\n",
    "tfm = contrast(scale=2, is_random=False)\n",
    "tfm.resolve()\n",
    "tfm.resolved\n",
    "tfm(x()).show()"
   ]
  },
  {
   "cell_type": "markdown",
   "metadata": {},
   "source": [
    "# Composition"
   ]
  },
  {
   "cell_type": "code",
   "execution_count": 72,
   "metadata": {},
   "outputs": [],
   "source": [
    "TfmList=Union[Transform, Collection[Transform]]\n",
    "def resolve_tfms(tfms:TfmList):\n",
    "    \"Resolve every tfm in `tfms`\"\n",
    "    for f in listify(tfms): f.resolve()\n",
    "\n",
    "def apply_tfms(tfms:TfmList, x:Image, do_resolve:bool=True):\n",
    "    \"Apply all the `tfms` to `x`, if `do_resolve` refresh all the random args\"\n",
    "    if not tfms: return x\n",
    "    tfms = listify(tfms)\n",
    "    if do_resolve: resolve_tfms(tfms)\n",
    "    x = x.clone()\n",
    "    for tfm in tfms: x = tfm(x)\n",
    "    return x"
   ]
  },
  {
   "cell_type": "code",
   "execution_count": 73,
   "metadata": {},
   "outputs": [],
   "source": [
    "x= train_ds[1][0]"
   ]
  },
  {
   "cell_type": "code",
   "execution_count": 74,
   "metadata": {},
   "outputs": [
    {
     "data": {
      "image/png": "[encoded data removed]",
      "text/plain": [
       "<Figure size 216x216 with 1 Axes>"
      ]
     },
     "metadata": {
      "needs_background": "light"
     },
     "output_type": "display_data"
    }
   ],
   "source": [
    "#original\n",
    "apply_tfms([],x).show()"
   ]
  },
  {
   "cell_type": "code",
   "execution_count": 75,
   "metadata": {},
   "outputs": [
    {
     "data": {
      "image/png": "[encoded data removed]",
      "text/plain": [
       "<Figure size 864x216 with 4 Axes>"
      ]
     },
     "metadata": {
      "needs_background": "light"
     },
     "output_type": "display_data"
    }
   ],
   "source": [
    "tfms = [contrast(scale=(0.3,3.0), p=0.9),\n",
    "        brightness(change=(0.35,0.65), p=0.9)]\n",
    "\n",
    "_,axes = plt.subplots(1,4, figsize=(12,3))\n",
    "for ax in axes: apply_tfms(tfms,x).show(ax)"
   ]
  },
  {
   "cell_type": "code",
   "execution_count": 76,
   "metadata": {},
   "outputs": [
    {
     "data": {
      "image/png": "[encoded data removed]",
      "text/plain": [
       "<Figure size 864x432 with 8 Axes>"
      ]
     },
     "metadata": {
      "needs_background": "light"
     },
     "output_type": "display_data"
    }
   ],
   "source": [
    "_,axes = plt.subplots(2,4, figsize=(12,6))\n",
    "for i in range(4):\n",
    "    apply_tfms(tfms,x).show(axes[0,i])\n",
    "    apply_tfms(tfms,x,do_resolve=False).show(axes[1,i])"
   ]
  },
  {
   "cell_type": "markdown",
   "metadata": {},
   "source": [
    "## DatasetTfm"
   ]
  },
  {
   "cell_type": "markdown",
   "metadata": {},
   "source": [
    "Old dataset class\n",
    "```\n",
    "@dataclass\n",
    "class DatasetTfm(Dataset):\n",
    "    \"Applies `tfm` to `ds`\"\n",
    "    ds: Dataset\n",
    "    tfm: Callable = None\n",
    "\n",
    "    def __len__(self): return len(self.ds)\n",
    "\n",
    "    def __getitem__(self,idx:int):\n",
    "        \"Apply `tfm` to `x` and return `(x[idx],y[idx])`\"\n",
    "        x,y = self.ds[idx]\n",
    "        if self.tfm is not None: x = self.tfm(x)\n",
    "        return x,y\n",
    "```"
   ]
  },
  {
   "cell_type": "code",
   "execution_count": 80,
   "metadata": {},
   "outputs": [],
   "source": [
    "#export\n",
    "class DatasetTfm(Dataset):\n",
    "    \"A `Dataset` that applies a list of transforms to every item drawn\"\n",
    "    def __init__(self, ds:Dataset, tfms:TfmList=None, **kwargs:Any):\n",
    "        \"this dataset will apply `tfms` to `ds`\"\n",
    "        self.ds,self.tfms,self.kwargs = ds,tfms,kwargs\n",
    "        \n",
    "    def __len__(self)->int: return len(self.ds)\n",
    "    \n",
    "    def __getitem__(self,idx:int)->Tuple[Image,Any]:\n",
    "        \"returns tfms(x),y\"\n",
    "        x,y = self.ds[idx]\n",
    "        return apply_tfms(self.tfms, x, **self.kwargs), y\n",
    "    \n",
    "    def __getattr__(self,k): \n",
    "        \"passthrough access to wrapped dataset attributes\"\n",
    "        return getattr(self.ds, k)"
   ]
  },
  {
   "cell_type": "code",
   "execution_count": 81,
   "metadata": {},
   "outputs": [],
   "source": [
    "import nb_001b\n",
    "nb_001b.DatasetTfm = DatasetTfm\n",
    "\n",
    "bs=64"
   ]
  },
  {
   "cell_type": "code",
   "execution_count": 84,
   "metadata": {},
   "outputs": [],
   "source": [
    "#export\n",
    "ItemsList = Collection[Union[Tensor,ItemBase,'ItemsList',float,int]]\n",
    "def to_data(b:ItemsList):\n",
    "    \"Recursively maps lists of items to their wrapped data\"\n",
    "    if is_listy(b): return [to_data(o) for o in b]\n",
    "    return b.data if isinstance(b,ItemBase) else b\n",
    "\n",
    "def data_collate(batch:ItemsList)->Tensor:\n",
    "    \"Convert `batch` items to tensor data\"\n",
    "    return torch.utils.data.dataloader.default_collate(to_data(batch))"
   ]
  },
  {
   "cell_type": "markdown",
   "metadata": {},
   "source": [
    "Old DeviceDataLoader\n",
    "```\n",
    "@dataclass\n",
    "class DeviceDataLoader():\n",
    "    \"`DataLoader` that ensures batches from `dl` are on `device`\"\n",
    "    dl: DataLoader\n",
    "    device: torch.device\n",
    "\n",
    "    def __len__(self) -> int: return len(self.dl)\n",
    "    def proc_batch(self,b:Tensors): return to_device(b, self.device)\n",
    "\n",
    "    def __iter__(self)->Tensors:\n",
    "        \"Ensure batches from `dl` are on `device` as we iterate\"\n",
    "        self.gen = map(self.proc_batch, self.dl)\n",
    "        return iter(self.gen)\n",
    "\n",
    "    @classmethod\n",
    "    def create(cls, *args, device:torch.device=default_device, **kwargs): return cls(DataLoader(*args, **kwargs), device=device)\n",
    "```"
   ]
  },
  {
   "cell_type": "code",
   "execution_count": 87,
   "metadata": {},
   "outputs": [],
   "source": [
    "@dataclass\n",
    "class DeviceDataLoader():\n",
    "    \"DataLoader that ensures items in each batch are tensor on specified device\"\n",
    "    dl: DataLoader\n",
    "    device: torch.device\n",
    "    def __post_init__(self)->None: self.dl.collate_fn=data_collate\n",
    "\n",
    "    def __len__(self)->int: return len(self.dl)\n",
    "    def __getattr__(self,k:str)->Any: return getattr(self.dl, k)\n",
    "    def proc_batch(self,b:ItemsList)->Tensor: return to_device(b, self.device)\n",
    "\n",
    "    def __iter__(self):\n",
    "        self.gen = map(self.proc_batch, self.dl)\n",
    "        return iter(self.gen)\n",
    "\n",
    "    @classmethod\n",
    "    def create(cls, *args, device=default_device, **kwargs)->'DeviceDataLoader':\n",
    "        \"Creates `DataLoader` and make sure its data is always on `device`\"\n",
    "        return cls(DataLoader(*args, **kwargs), device=device)\n",
    "    \n",
    "nb_001b.DeviceDataLoader = DeviceDataLoader"
   ]
  },
  {
   "cell_type": "markdown",
   "metadata": {},
   "source": [
    "Current DataBunch class\n",
    "```\n",
    "@dataclass\n",
    "class DataBunch():\n",
    "    \"Bind `train_dl`, `valid_dl` to `device`\"\n",
    "    train_dl:DataLoader\n",
    "    valid_dl:DataLoader\n",
    "    device:torch.device=None\n",
    "\n",
    "    @classmethod\n",
    "    def create(cls, train_ds:Dataset, valid_ds:Dataset, bs:int=64,\n",
    "               train_tfm:Tfms=None, valid_tfm:Tfms=None, device:torch.device=None, **kwargs):\n",
    "        return cls(DeviceDataLoader.create(DatasetTfm(train_ds, train_tfm), bs,   shuffle=True,  device=device, **kwargs),\n",
    "                   DeviceDataLoader.create(DatasetTfm(valid_ds, valid_tfm), bs*2, shuffle=False, device=device, **kwargs),\n",
    "                   device=device)\n",
    "```"
   ]
  },
  {
   "cell_type": "code",
   "execution_count": 88,
   "metadata": {},
   "outputs": [
    {
     "data": {
      "text/plain": [
       "(157, 16, 2)"
      ]
     },
     "execution_count": 88,
     "metadata": {},
     "output_type": "execute_result"
    }
   ],
   "source": [
    "data = DataBunch.create(train_ds, valid_ds, bs=bs, num_workers=4)\n",
    "len(data.train_dl), len(data.valid_dl), data.train_dl.dataset.c"
   ]
  },
  {
   "cell_type": "code",
   "execution_count": 89,
   "metadata": {},
   "outputs": [],
   "source": [
    "#export\n",
    "def show_image_batch(dl:DataLoader, classes:Collection[str], \n",
    "                     rows:Optional[int]=None, figsize:Tuple[int,int]=(12,15))->None:\n",
    "    \"Show a batch of images from `dl` titled according to `classes`\"\n",
    "    x,y = next(iter(dl))\n",
    "    if rows is None: rows = int(math.sqrt(len(x)))\n",
    "    show_images(x[:rows*rows],y[:rows*rows],rows, classes)\n",
    "\n",
    "def show_images(x:Collection[Image],y:int,rows:int, classes:Collection[str], figsize:Tuple[int,int]=(9,9))->None:\n",
    "    \"Plot images (`x[i]`) from `x` titled according to classes[y[i]]\"\n",
    "    fig, axs = plt.subplots(rows,rows,figsize=figsize)\n",
    "    for i, ax in enumerate(axs.flatten()):\n",
    "        show_image(x[i], ax)\n",
    "        ax.set_title(classes[y[i]])\n",
    "    plt.tight_layout()"
   ]
  },
  {
   "cell_type": "code",
   "execution_count": 90,
   "metadata": {},
   "outputs": [
    {
     "data": {
      "image/png": "[encoded data removed]",
      "text/plain": [
       "<Figure size 648x648 with 36 Axes>"
      ]
     },
     "metadata": {
      "needs_background": "light"
     },
     "output_type": "display_data"
    }
   ],
   "source": [
    "show_image_batch(data.train_dl, train_ds.classes, 6)"
   ]
  },
  {
   "cell_type": "code",
   "execution_count": 91,
   "metadata": {},
   "outputs": [],
   "source": [
    "data = DataBunch.create(train_ds, valid_ds, bs=bs, train_tfm=tfms)"
   ]
  },
  {
   "cell_type": "markdown",
   "metadata": {},
   "source": [
    "# Affine"
   ]
  },
  {
   "cell_type": "code",
   "execution_count": 93,
   "metadata": {},
   "outputs": [],
   "source": [
    "#export\n",
    "def grid_sample_nearest(input:TensorImage, coords:FlowField, padding_mode:str='zeros')->TensorImage:\n",
    "    \"Grab pixels in `coords` from `input`. sample with nearest neighbor mode, pad with zeros by default\"\n",
    "    if padding_mode=='border': coords.clamp(-1,1)\n",
    "    bs,ch,h,w = input.size()\n",
    "    sz = tensor([w,h]).float()[None,None]\n",
    "    coords.add_(1).mul_(sz/2)\n",
    "    coords = coords[0].round_().long()\n",
    "    if padding_mode=='zeros':\n",
    "        mask = (coords[...,0] < 0) + (coords[...,1] < 0) + (coords[...,0] >= w) + (coords[...,1] >= h)\n",
    "        mask.clamp_(0,1)\n",
    "    coords[...,0].clamp_(0,w-1)\n",
    "    coords[...,1].clamp_(0,h-1)\n",
    "    result = input[...,coords[...,1],coords[...,0]]\n",
    "    if padding_mode=='zeros': result[...,mask] = result[...,mask].zero_()\n",
    "    return result"
   ]
  },
  {
   "cell_type": "code",
   "execution_count": 94,
   "metadata": {},
   "outputs": [],
   "source": [
    "#export\n",
    "def grid_sample(x:TensorImage, coords:FlowField, mode:str='bilinear', padding_mode:str='reflect')->TensorImage:\n",
    "    \"Grab pixels in `coords` from `input` sampling by `mode`. pad is reflect or zeros.\"\n",
    "    if padding_mode=='reflect': padding_mode='reflection'\n",
    "    #if mode=='nearest': return grid_sample_nearest(x[None], coords, padding_mode)[0]\n",
    "    return F.grid_sample(x[None], coords, mode=mode, padding_mode=padding_mode)[0]\n",
    "\n",
    "def affine_grid(size:TensorImageSize)->FlowField:\n",
    "    size = ((1,)+size)\n",
    "    N, C, H, W = size\n",
    "    grid = FloatTensor(N, H, W, 2)\n",
    "    linear_points = torch.linspace(-1, 1, W) if W > 1 else tensor([-1])\n",
    "    grid[:, :, :, 0] = torch.ger(torch.ones(H), linear_points).expand_as(grid[:, :, :, 0])\n",
    "    linear_points = torch.linspace(-1, 1, H) if H > 1 else tensor([-1])\n",
    "    grid[:, :, :, 1] = torch.ger(linear_points, torch.ones(W)).expand_as(grid[:, :, :, 1])\n",
    "    return grid\n",
    "\n",
    "def affine_mult(c:FlowField, m:AffineMatrix)->FlowField:\n",
    "    if m is None: return c\n",
    "    size = c.size()\n",
    "    c = c.view(-1,2)\n",
    "    c = torch.addmm(m[:2,2], c,  m[:2,:2].t()) \n",
    "    return c.view(size)"
   ]
  },
  {
   "cell_type": "code",
   "execution_count": 95,
   "metadata": {},
   "outputs": [],
   "source": [
    "def rotate(degrees):\n",
    "    angle = degrees * math.pi / 180\n",
    "    return [[cos(angle), -sin(angle), 0.],\n",
    "            [sin(angle),  cos(angle), 0.],\n",
    "            [0.        ,  0.        , 1.]]"
   ]
  },
  {
   "cell_type": "code",
   "execution_count": 96,
   "metadata": {},
   "outputs": [],
   "source": [
    "def xi(): return train_ds[1][0]\n",
    "x = xi().data"
   ]
  },
  {
   "cell_type": "code",
   "execution_count": 97,
   "metadata": {},
   "outputs": [],
   "source": [
    "c = affine_grid(x.shape)"
   ]
  },
  {
   "cell_type": "code",
   "execution_count": 98,
   "metadata": {},
   "outputs": [
    {
     "data": {
      "text/plain": [
       "tensor([[ 0.8660, -0.5000,  0.0000],\n",
       "        [ 0.5000,  0.8660,  0.0000],\n",
       "        [ 0.0000,  0.0000,  1.0000]])"
      ]
     },
     "execution_count": 98,
     "metadata": {},
     "output_type": "execute_result"
    }
   ],
   "source": [
    "m = rotate(30)\n",
    "m = x.new_tensor(m)\n",
    "m"
   ]
  },
  {
   "cell_type": "code",
   "execution_count": 107,
   "metadata": {},
   "outputs": [
    {
     "data": {
      "text/plain": [
       "torch.Size([32, 32])"
      ]
     },
     "execution_count": 107,
     "metadata": {},
     "output_type": "execute_result"
    }
   ],
   "source": [
    "c[0,...,0].shape"
   ]
  },
  {
   "cell_type": "code",
   "execution_count": 99,
   "metadata": {},
   "outputs": [
    {
     "data": {
      "text/plain": [
       "tensor([[-1.0000, -0.9355, -0.8710,  ...,  0.8710,  0.9355,  1.0000],\n",
       "        [-1.0000, -0.9355, -0.8710,  ...,  0.8710,  0.9355,  1.0000],\n",
       "        [-1.0000, -0.9355, -0.8710,  ...,  0.8710,  0.9355,  1.0000],\n",
       "        ...,\n",
       "        [-1.0000, -0.9355, -0.8710,  ...,  0.8710,  0.9355,  1.0000],\n",
       "        [-1.0000, -0.9355, -0.8710,  ...,  0.8710,  0.9355,  1.0000],\n",
       "        [-1.0000, -0.9355, -0.8710,  ...,  0.8710,  0.9355,  1.0000]])"
      ]
     },
     "execution_count": 99,
     "metadata": {},
     "output_type": "execute_result"
    }
   ],
   "source": [
    "c[0,...,0]"
   ]
  },
  {
   "cell_type": "code",
   "execution_count": 100,
   "metadata": {},
   "outputs": [
    {
     "data": {
      "text/plain": [
       "tensor([[-1.0000, -1.0000, -1.0000,  ..., -1.0000, -1.0000, -1.0000],\n",
       "        [-0.9355, -0.9355, -0.9355,  ..., -0.9355, -0.9355, -0.9355],\n",
       "        [-0.8710, -0.8710, -0.8710,  ..., -0.8710, -0.8710, -0.8710],\n",
       "        ...,\n",
       "        [ 0.8710,  0.8710,  0.8710,  ...,  0.8710,  0.8710,  0.8710],\n",
       "        [ 0.9355,  0.9355,  0.9355,  ...,  0.9355,  0.9355,  0.9355],\n",
       "        [ 1.0000,  1.0000,  1.0000,  ...,  1.0000,  1.0000,  1.0000]])"
      ]
     },
     "execution_count": 100,
     "metadata": {},
     "output_type": "execute_result"
    }
   ],
   "source": [
    "c[0,...,1]"
   ]
  },
  {
   "cell_type": "code",
   "execution_count": 101,
   "metadata": {},
   "outputs": [
    {
     "data": {
      "text/plain": [
       "tensor([[ 0.8660, -0.5000,  0.0000],\n",
       "        [ 0.5000,  0.8660,  0.0000],\n",
       "        [ 0.0000,  0.0000,  1.0000]])"
      ]
     },
     "execution_count": 101,
     "metadata": {},
     "output_type": "execute_result"
    }
   ],
   "source": [
    "m"
   ]
  },
  {
   "cell_type": "code",
   "execution_count": 102,
   "metadata": {},
   "outputs": [],
   "source": [
    "c = affine_mult(c,m)"
   ]
  },
  {
   "cell_type": "code",
   "execution_count": 103,
   "metadata": {},
   "outputs": [
    {
     "data": {
      "text/plain": [
       "tensor([[-0.3660, -0.3102, -0.2543,  ...,  1.2543,  1.3102,  1.3660],\n",
       "        [-0.3983, -0.3424, -0.2865,  ...,  1.2220,  1.2779,  1.3338],\n",
       "        [-0.4305, -0.3747, -0.3188,  ...,  1.1898,  1.2456,  1.3015],\n",
       "        ...,\n",
       "        [-1.3015, -1.2456, -1.1898,  ...,  0.3188,  0.3747,  0.4305],\n",
       "        [-1.3338, -1.2779, -1.2220,  ...,  0.2865,  0.3424,  0.3983],\n",
       "        [-1.3660, -1.3102, -1.2543,  ...,  0.2543,  0.3102,  0.3660]])"
      ]
     },
     "execution_count": 103,
     "metadata": {},
     "output_type": "execute_result"
    }
   ],
   "source": [
    "c[0,...,0]"
   ]
  },
  {
   "cell_type": "code",
   "execution_count": 106,
   "metadata": {},
   "outputs": [
    {
     "data": {
      "text/plain": [
       "tensor([[-1.3660, -1.3338, -1.3015,  ..., -0.4305, -0.3983, -0.3660],\n",
       "        [-1.3102, -1.2779, -1.2456,  ..., -0.3747, -0.3424, -0.3102],\n",
       "        [-1.2543, -1.2220, -1.1898,  ..., -0.3188, -0.2865, -0.2543],\n",
       "        ...,\n",
       "        [ 0.2543,  0.2865,  0.3188,  ...,  1.1898,  1.2220,  1.2543],\n",
       "        [ 0.3102,  0.3424,  0.3747,  ...,  1.2456,  1.2779,  1.3102],\n",
       "        [ 0.3660,  0.3983,  0.4305,  ...,  1.3015,  1.3338,  1.3660]])"
      ]
     },
     "execution_count": 106,
     "metadata": {},
     "output_type": "execute_result"
    }
   ],
   "source": [
    "c[0,...,1]"
   ]
  },
  {
   "cell_type": "code",
   "execution_count": 108,
   "metadata": {},
   "outputs": [
    {
     "data": {
      "image/png": "[encoded data removed]",
      "text/plain": [
       "<Figure size 216x216 with 1 Axes>"
      ]
     },
     "metadata": {
      "needs_background": "light"
     },
     "output_type": "display_data"
    }
   ],
   "source": [
    "img2 = grid_sample(x, c, padding_mode='zeros')\n",
    "show_image(img2);"
   ]
  },
  {
   "cell_type": "code",
   "execution_count": 109,
   "metadata": {},
   "outputs": [
    {
     "data": {
      "image/png": "[encoded data removed]",
      "text/plain": [
       "<Figure size 216x216 with 1 Axes>"
      ]
     },
     "metadata": {
      "needs_background": "light"
     },
     "output_type": "display_data"
    }
   ],
   "source": [
    "xi().affine(rotate, 30).show()"
   ]
  },
  {
   "cell_type": "markdown",
   "metadata": {},
   "source": [
    "## Skip affine. Get to coord and pixel next"
   ]
  },
  {
   "cell_type": "code",
   "execution_count": null,
   "metadata": {},
   "outputs": [],
   "source": []
  },
  {
   "cell_type": "code",
   "execution_count": 19,
   "metadata": {},
   "outputs": [
    {
     "name": "stdout",
     "output_type": "stream",
     "text": [
      "3\n",
      "42\n",
      "YOLO BIATCH\n"
     ]
    }
   ],
   "source": [
    "# explaining compose function\n",
    "def show_stuff(x,k1=42,k2='yolo'):\n",
    "    print(x)\n",
    "    print(k1)\n",
    "    print(k2)\n",
    "def wrap(func): # passing in a partial function\n",
    "    def inner(*args,**kwargs): # since func remember its fixed parameter, \n",
    "        #its wrapper, inner, will also get these fixed parameters\n",
    "        func(*args,**kwargs)        \n",
    "    return inner\n",
    "\n",
    "func3 = partial(show_stuff,k2='YOLO BIATCH') # func3 already remember its fixed parameter here\n",
    "wrap(func3)(3)"
   ]
  },
  {
   "cell_type": "code",
   "execution_count": 108,
   "metadata": {},
   "outputs": [
    {
     "data": {
      "text/plain": [
       "{'d': 'temp'}"
      ]
     },
     "execution_count": 108,
     "metadata": {},
     "output_type": "execute_result"
    }
   ],
   "source": [
    "def func1(a,b,c:int,d='temp'):\n",
    "    pass\n",
    "get_default_args(func1)"
   ]
  },
  {
   "cell_type": "code",
   "execution_count": 26,
   "metadata": {},
   "outputs": [],
   "source": [
    "# #export\n",
    "# import inspect\n",
    "# from copy import copy,deepcopy\n",
    "\n",
    "# def get_default_args(func):\n",
    "#     return {k: v.default\n",
    "#             for k, v in inspect.signature(func).parameters.items()\n",
    "#             if v.default is not inspect.Parameter.empty}\n",
    "\n",
    "# class Transform():\n",
    "#     def __init__(self, func, p=1., **kwargs):\n",
    "# #         set_trace()\n",
    "#         # func is the lowest-level tfm function, i.e contrast. Not partial. Input parameters: x (tensor) and a constant (scale)\n",
    "#         self.func,self.p,self.kw = func,p,kwargs #self.kw is a dict {tfm_param : (low,high)}, i,e {'scale':(0.3,5)}\n",
    "#         self.def_args = get_default_args(func) # get tfm default param in dic {tfm_param: constant}, i.e {'scale':1}\n",
    "#         self.params = copy(func.__annotations__)\n",
    "#         # i.e for contrast, self.params should be  {'scale': <func to get random scale from log distribution b/t low and high>}\n",
    "#         self.params.pop('return') \n",
    "#     @property\n",
    "#     def name(self): return self.__class__.__name__ # a getter\n",
    "    \n",
    "#     def __repr__(self):\n",
    "#         return f'{self.func.__name__}_tfm->{self.name}; {self.kw} (p={self.p})'\n",
    "\n",
    "#     def resolve(self):\n",
    "#         # either get a constant from random distribution or other use case?\n",
    "#         self.resolved = {}\n",
    "#         for k,v in self.params.items():\n",
    "#             if k not in self.kw and k in self.def_args: \n",
    "#                 # if there is a default param for tfm but it's not specified in self.kw\n",
    "#                 # TODO: use case for this? Probably when user wants a specific scale for transformation\n",
    "#                 self.resolved[k] = self.def_args[k]\n",
    "#             else: \n",
    "#                 # k in self.kw or k not in self.def_args\n",
    "#                 # i.e, right hand side will be log_uniform(*(low,high))\n",
    "#                 # self.resolved is {'scale': random constant between low and high}\n",
    "#                 self.resolved[k] = v(*listify(self.kw[k]))\n",
    "#         self.do_run = rand_bool(self.p) # boolean, True or False\n",
    "\n",
    "#     def __call__(self, x, *args, **kwargs): # function call operator. Called when running tfm = Transform(...); tfm(...)\n",
    "#         #execute the lowest-level transform function on x\n",
    "#         #for contrast example, only kwargs are passed\n",
    "#         return self.func(x, *args, **self.resolved, **kwargs) if self.do_run else x\n",
    "    \n",
    "#     def apply(self, tfms=None):\n",
    "#         if tfms is None: \n",
    "#             # if there is no other tfm is passed, use self (the Transform class itself) as a function (__call__ wil be used)\n",
    "#             tfms=self\n",
    "#         # execute multiple low-level tfms using compose func. Return transformed x. resolve should be called first?\n",
    "#         return compose(tfms)\n",
    "\n",
    "# class TfmLighting(Transform):\n",
    "#     def apply(self, tfms=None): \n",
    "#         # do the logit -> tfm func -> sigmoid for lighting\n",
    "#         return apply_lighting(super().apply(tfms))"
   ]
  },
  {
   "cell_type": "code",
   "execution_count": 121,
   "metadata": {},
   "outputs": [
    {
     "data": {
      "image/png": "[encoded data removed]",
      "text/plain": [
       "<Figure size 864x216 with 4 Axes>"
      ]
     },
     "metadata": {},
     "output_type": "display_data"
    }
   ],
   "source": [
    "tfm = contrast_tfm(scale=(0.3,3), p=0.5)\n",
    "\n",
    "# different\n",
    "_,axes = plt.subplots(1,4, figsize=(12,3))\n",
    "for ax in axes:\n",
    "    tfm.resolve() # whenever this is called, scale gets another random constant is drawed\n",
    "    show_image(apply_lighting(tfm)(x()), ax)"
   ]
  },
  {
   "cell_type": "code",
   "execution_count": 34,
   "metadata": {},
   "outputs": [
    {
     "data": {
      "image/png": "[encoded data removed]",
      "text/plain": [
       "<Figure size 864x216 with 4 Axes>"
      ]
     },
     "metadata": {},
     "output_type": "display_data"
    }
   ],
   "source": [
    "tfm = contrast_tfm(scale=(0.3,3), p=1)\n",
    "\n",
    "_,axes = plt.subplots(1,4, figsize=(12,3))\n",
    "for ax in axes:\n",
    "    tfm.resolve()\n",
    "    show_image(apply_lighting(tfm)(x()), ax)"
   ]
  },
  {
   "cell_type": "code",
   "execution_count": 24,
   "metadata": {},
   "outputs": [],
   "source": [
    "#export\n",
    "def reg_transform(func):\n",
    "    tfm = partial(func.__annotations__['return'], func)\n",
    "    \n",
    "    # change partial function name func_tfm\n",
    "    setattr(sys.modules[func.__module__], f'{func.__name__}_tfm', tfm)\n",
    "    return func\n",
    "\n",
    "@reg_transform\n",
    "def brightness(x, change:uniform) ->TfmLighting: return x.add_(scipy.special.logit(change))\n",
    "\n",
    "@reg_transform\n",
    "def contrast(x, scale:log_uniform)->TfmLighting: return x.mul_(scale)\n",
    "\n"
   ]
  },
  {
   "cell_type": "code",
   "execution_count": 25,
   "metadata": {},
   "outputs": [],
   "source": [
    "def resolve_tfms(tfms):\n",
    "    for f in listify(tfms): f.resolve()\n",
    "\n",
    "def _apply_tfms(x,tfms):\n",
    "    if not tfms: return x\n",
    "    resolve_tfms(tfms) #make sure to 'resolve' (draw a constant from uniform distribution)\n",
    "#     for f in tfms:\n",
    "#         print(f.resolved,f.do_run)\n",
    "\n",
    "    # this is just odd... tfms[0], which is a TfmLighting CLASS, receive a list of other TfmLightingClass into its apply function\n",
    "    return tfms[0].apply(tfms)(x.clone()) \n",
    "    \n",
    "\n",
    "def apply_tfms(tfms): return partial(_apply_tfms, tfms=tfms)"
   ]
  },
  {
   "cell_type": "code",
   "execution_count": 175,
   "metadata": {},
   "outputs": [],
   "source": [
    "??TfmLighting.apply"
   ]
  },
  {
   "cell_type": "code",
   "execution_count": 90,
   "metadata": {},
   "outputs": [
    {
     "data": {
      "image/png": "[encoded data removed]",
      "text/plain": [
       "<Figure size 216x216 with 1 Axes>"
      ]
     },
     "metadata": {},
     "output_type": "display_data"
    }
   ],
   "source": [
    "x = train_ds[1][0]\n",
    "show_image(x)\n",
    "#original"
   ]
  },
  {
   "cell_type": "code",
   "execution_count": 174,
   "metadata": {},
   "outputs": [],
   "source": [
    "??Transform.apply"
   ]
  },
  {
   "cell_type": "code",
   "execution_count": 172,
   "metadata": {},
   "outputs": [],
   "source": [
    "??_apply_tfms"
   ]
  },
  {
   "cell_type": "code",
   "execution_count": 171,
   "metadata": {},
   "outputs": [
    {
     "name": "stdout",
     "output_type": "stream",
     "text": [
      "{'scale': 0.5121735213889604} True\n",
      "{'change': 0.4860031621506206} False\n",
      "{'scale': 1.415747509162914} False\n",
      "{'change': 0.5454761543557511} True\n",
      "{'scale': 2.111201629710358} True\n",
      "{'change': 0.5393430382163225} False\n",
      "{'scale': 1.421424921538738} False\n",
      "{'change': 0.35442093801055985} False\n"
     ]
    },
    {
     "data": {
      "image/png": "[encoded data removed]",
      "text/plain": [
       "<Figure size 864x216 with 4 Axes>"
      ]
     },
     "metadata": {},
     "output_type": "display_data"
    }
   ],
   "source": [
    "tfms = [contrast_tfm(scale=(0.3,3.0), p=0.5),\n",
    "        brightness_tfm(change=(0.35,0.65), p=0.5)]\n",
    "\n",
    "_,axes = plt.subplots(1,4, figsize=(12,3))\n",
    "for ax in axes: show_image(apply_tfms(tfms)(x), ax)\n",
    "# transform image x 4 times with p=1, independently"
   ]
  },
  {
   "cell_type": "code",
   "execution_count": 180,
   "metadata": {},
   "outputs": [
    {
     "data": {
      "image/png": "[encoded data removed]",
      "text/plain": [
       "<Figure size 864x432 with 8 Axes>"
      ]
     },
     "metadata": {},
     "output_type": "display_data"
    }
   ],
   "source": [
    "tfms = [contrast_tfm(scale=(0.3,3.0), p=1),\n",
    "        brightness_tfm(change=(0.35,0.65), p=1)]\n",
    "\n",
    "_,axes = plt.subplots(2,4, figsize=(12,6))\n",
    "for i in range(4):\n",
    "    tfm = apply_tfms(tfms)\n",
    "    show_image(tfm(x), axes[0][i])\n",
    "    show_image(tfm(x), axes[1][i])"
   ]
  },
  {
   "cell_type": "code",
   "execution_count": 181,
   "metadata": {},
   "outputs": [
    {
     "data": {
      "image/png": "[encoded data removed]",
      "text/plain": [
       "<Figure size 216x216 with 1 Axes>"
      ]
     },
     "metadata": {},
     "output_type": "display_data"
    }
   ],
   "source": [
    "show_image(apply_tfms([])(x)) # no transformation"
   ]
  },
  {
   "cell_type": "markdown",
   "metadata": {},
   "source": [
    "# Affine"
   ]
  },
  {
   "cell_type": "markdown",
   "metadata": {},
   "source": [
    "## Deterministic affine"
   ]
  },
  {
   "cell_type": "code",
   "execution_count": 88,
   "metadata": {},
   "outputs": [],
   "source": [
    "#export\n",
    "def grid_sample_nearest(input, coords, padding_mode='zeros'):\n",
    "    if padding_mode=='border': coords.clamp(-1,1)\n",
    "    bs,ch,h,w = input.size()\n",
    "    sz = torch.tensor([w,h]).float()[None,None]\n",
    "    coords.add_(1).mul_(sz/2)\n",
    "    coords = coords[0].round_().long()\n",
    "    if padding_mode=='zeros':\n",
    "        mask = (coords[...,0] < 0) + (coords[...,1] < 0) + (coords[...,0] >= w) + (coords[...,1] >= h)\n",
    "        mask.clamp_(0,1)\n",
    "    coords[...,0].clamp_(0,w-1)\n",
    "    coords[...,1].clamp_(0,h-1)\n",
    "    result = input[...,coords[...,1],coords[...,0]]\n",
    "    if padding_mode=='zeros': result[...,mask] = result[...,mask].zero_()\n",
    "    return result"
   ]
  },
  {
   "cell_type": "code",
   "execution_count": 87,
   "metadata": {},
   "outputs": [],
   "source": [
    "#export\n",
    "def grid_sample(x, coords, mode='bilinear', padding_mode='reflect'):\n",
    "    '''\n",
    "    Given an input and a flow-field grid, \n",
    "    computes the output using input pixel locations from the grid.\n",
    "    '''\n",
    "    if padding_mode=='reflect': padding_mode='reflection'\n",
    "    if mode=='nearest': return grid_sample_nearest(x[None], coords, padding_mode)[0]\n",
    "    return F.grid_sample(x[None], coords, mode=mode, padding_mode=padding_mode)[0]\n",
    "\n",
    "def affine_grid(x, matrix, size=None):\n",
    "    '''\n",
    "    Generates a 2d flow field, given a batch of affine matrices theta.\n",
    "    Generally used in conjunction with grid_sample() to implement Spatial Transformer Networks.\n",
    "    '''\n",
    "    if size is None: size = x.size()\n",
    "    elif isinstance(size, int): size=(x.size(0), size, size)\n",
    "    return F.affine_grid(matrix[None,:2,:], # 3x3 to N x 2 x 3 (N=1)\n",
    "                         torch.Size((1,)+size)) # N x channel x h x w\n",
    "    # return tensor of size N x h x w x 2"
   ]
  },
  {
   "cell_type": "code",
   "execution_count": 91,
   "metadata": {},
   "outputs": [],
   "source": [
    "def rotate(degrees):\n",
    "    angle = degrees * math.pi / 180 # to radian\n",
    "    return [[cos(angle), -sin(angle), 0.],\n",
    "            [sin(angle),  cos(angle), 0.],\n",
    "            [0.        ,  0.        , 1.]]"
   ]
  },
  {
   "cell_type": "code",
   "execution_count": 89,
   "metadata": {},
   "outputs": [
    {
     "data": {
      "text/plain": [
       "torch.Size([1, 3, 32, 32])"
      ]
     },
     "execution_count": 89,
     "metadata": {},
     "output_type": "execute_result"
    }
   ],
   "source": [
    "torch.Size((1,)+x.size())"
   ]
  },
  {
   "cell_type": "code",
   "execution_count": 65,
   "metadata": {},
   "outputs": [
    {
     "data": {
      "text/plain": [
       "'torch.FloatTensor'"
      ]
     },
     "execution_count": 65,
     "metadata": {},
     "output_type": "execute_result"
    },
    {
     "data": {
      "text/plain": [
       "torch.Size([3, 3])"
      ]
     },
     "execution_count": 65,
     "metadata": {},
     "output_type": "execute_result"
    }
   ],
   "source": [
    "m = rotate(10)\n",
    "m = x.new_tensor(m)\n",
    "m.type()\n",
    "m.shape"
   ]
  },
  {
   "cell_type": "code",
   "execution_count": 79,
   "metadata": {},
   "outputs": [
    {
     "data": {
      "text/plain": [
       "torch.Size([1, 32, 32, 2])"
      ]
     },
     "execution_count": 79,
     "metadata": {},
     "output_type": "execute_result"
    }
   ],
   "source": [
    "c = affine_grid(x, m)\n",
    "c.size()"
   ]
  },
  {
   "cell_type": "code",
   "execution_count": 76,
   "metadata": {},
   "outputs": [
    {
     "data": {
      "image/png": "[encoded data removed]",
      "text/plain": [
       "<Figure size 216x216 with 1 Axes>"
      ]
     },
     "metadata": {},
     "output_type": "display_data"
    }
   ],
   "source": [
    "# c = affine_grid(x, m)\n",
    "img2 = grid_sample(x, c, padding_mode='zeros')\n",
    "show_image(img2)"
   ]
  },
  {
   "cell_type": "code",
   "execution_count": 35,
   "metadata": {},
   "outputs": [
    {
     "data": {
      "image/png": "[encoded data removed]",
      "text/plain": [
       "<Figure size 216x216 with 1 Axes>"
      ]
     },
     "metadata": {},
     "output_type": "display_data"
    }
   ],
   "source": [
    "m = rotate(16)\n",
    "m = x.new_tensor(m)\n",
    "c = affine_grid(x, m)\n",
    "img2 = grid_sample(x, c, padding_mode='zeros')\n",
    "show_image(img2)"
   ]
  },
  {
   "cell_type": "code",
   "execution_count": 92,
   "metadata": {},
   "outputs": [],
   "source": [
    "#export\n",
    "def affines_mat(img, matrices=None):\n",
    "    matrices = [img.new_tensor(m) for m in matrices if m is not None]\n",
    "    if not matrices: return None\n",
    "    return reduce(torch.matmul, matrices, torch.eye(3))\n",
    "\n",
    "def affine_mult(c,m):\n",
    "    if m is None: return c\n",
    "    size = c.size()\n",
    "    c = c.view(-1,2)\n",
    "    c = torch.addmm(m[:2,2], c,  m[:2,:2].t()) \n",
    "    return c.view(size)\n",
    "\n",
    "def _apply_affine(c, size=None, mats=None, func=None, **kwargs):\n",
    "    return affine_mult(c, affines_mat(c, mats))\n",
    "\n",
    "def apply_affine(mats): return partial(_apply_affine, mats=mats)\n",
    "\n",
    "def affine_only(x, mats, size=None, **kwargs):\n",
    "    tfm = apply_affine(mats)\n",
    "    c = affine_grid(x, torch.eye(3), size=size)\n",
    "    c = tfm(c)\n",
    "    return grid_sample(x, c, **kwargs)"
   ]
  },
  {
   "cell_type": "code",
   "execution_count": 93,
   "metadata": {},
   "outputs": [
    {
     "ename": "ValueError",
     "evalue": "padding_mode needs to be 'zeros' or 'border', but got reflection",
     "output_type": "error",
     "traceback": [
      "\u001b[0;31m---------------------------------------------------------------------------\u001b[0m",
      "\u001b[0;31mValueError\u001b[0m                                Traceback (most recent call last)",
      "\u001b[0;32m<ipython-input-93-eec5894e1619>\u001b[0m in \u001b[0;36m<module>\u001b[0;34m()\u001b[0m\n\u001b[0;32m----> 1\u001b[0;31m \u001b[0mimg2\u001b[0m \u001b[0;34m=\u001b[0m \u001b[0maffine_only\u001b[0m\u001b[0;34m(\u001b[0m\u001b[0mx\u001b[0m\u001b[0;34m,\u001b[0m \u001b[0;34m[\u001b[0m\u001b[0mrotate\u001b[0m\u001b[0;34m(\u001b[0m\u001b[0;36m30\u001b[0m\u001b[0;34m)\u001b[0m\u001b[0;34m]\u001b[0m\u001b[0;34m)\u001b[0m\u001b[0;34m\u001b[0m\u001b[0m\n\u001b[0m\u001b[1;32m      2\u001b[0m \u001b[0mshow_image\u001b[0m\u001b[0;34m(\u001b[0m\u001b[0mimg2\u001b[0m\u001b[0;34m)\u001b[0m\u001b[0;34m\u001b[0m\u001b[0m\n",
      "\u001b[0;32m<ipython-input-92-6b5d6eef9ac3>\u001b[0m in \u001b[0;36maffine_only\u001b[0;34m(x, mats, size, **kwargs)\u001b[0m\n\u001b[1;32m     21\u001b[0m     \u001b[0mc\u001b[0m \u001b[0;34m=\u001b[0m \u001b[0maffine_grid\u001b[0m\u001b[0;34m(\u001b[0m\u001b[0mx\u001b[0m\u001b[0;34m,\u001b[0m \u001b[0mtorch\u001b[0m\u001b[0;34m.\u001b[0m\u001b[0meye\u001b[0m\u001b[0;34m(\u001b[0m\u001b[0;36m3\u001b[0m\u001b[0;34m)\u001b[0m\u001b[0;34m,\u001b[0m \u001b[0msize\u001b[0m\u001b[0;34m=\u001b[0m\u001b[0msize\u001b[0m\u001b[0;34m)\u001b[0m\u001b[0;34m\u001b[0m\u001b[0m\n\u001b[1;32m     22\u001b[0m     \u001b[0mc\u001b[0m \u001b[0;34m=\u001b[0m \u001b[0mtfm\u001b[0m\u001b[0;34m(\u001b[0m\u001b[0mc\u001b[0m\u001b[0;34m)\u001b[0m\u001b[0;34m\u001b[0m\u001b[0m\n\u001b[0;32m---> 23\u001b[0;31m     \u001b[0;32mreturn\u001b[0m \u001b[0mgrid_sample\u001b[0m\u001b[0;34m(\u001b[0m\u001b[0mx\u001b[0m\u001b[0;34m,\u001b[0m \u001b[0mc\u001b[0m\u001b[0;34m,\u001b[0m \u001b[0;34m**\u001b[0m\u001b[0mkwargs\u001b[0m\u001b[0;34m)\u001b[0m\u001b[0;34m\u001b[0m\u001b[0m\n\u001b[0m",
      "\u001b[0;32m<ipython-input-87-02ed8ce2f5a8>\u001b[0m in \u001b[0;36mgrid_sample\u001b[0;34m(x, coords, mode, padding_mode)\u001b[0m\n\u001b[1;32m      7\u001b[0m     \u001b[0;32mif\u001b[0m \u001b[0mpadding_mode\u001b[0m\u001b[0;34m==\u001b[0m\u001b[0;34m'reflect'\u001b[0m\u001b[0;34m:\u001b[0m \u001b[0mpadding_mode\u001b[0m\u001b[0;34m=\u001b[0m\u001b[0;34m'reflection'\u001b[0m\u001b[0;34m\u001b[0m\u001b[0m\n\u001b[1;32m      8\u001b[0m     \u001b[0;32mif\u001b[0m \u001b[0mmode\u001b[0m\u001b[0;34m==\u001b[0m\u001b[0;34m'nearest'\u001b[0m\u001b[0;34m:\u001b[0m \u001b[0;32mreturn\u001b[0m \u001b[0mgrid_sample_nearest\u001b[0m\u001b[0;34m(\u001b[0m\u001b[0mx\u001b[0m\u001b[0;34m[\u001b[0m\u001b[0;32mNone\u001b[0m\u001b[0;34m]\u001b[0m\u001b[0;34m,\u001b[0m \u001b[0mcoords\u001b[0m\u001b[0;34m,\u001b[0m \u001b[0mpadding_mode\u001b[0m\u001b[0;34m)\u001b[0m\u001b[0;34m[\u001b[0m\u001b[0;36m0\u001b[0m\u001b[0;34m]\u001b[0m\u001b[0;34m\u001b[0m\u001b[0m\n\u001b[0;32m----> 9\u001b[0;31m     \u001b[0;32mreturn\u001b[0m \u001b[0mF\u001b[0m\u001b[0;34m.\u001b[0m\u001b[0mgrid_sample\u001b[0m\u001b[0;34m(\u001b[0m\u001b[0mx\u001b[0m\u001b[0;34m[\u001b[0m\u001b[0;32mNone\u001b[0m\u001b[0;34m]\u001b[0m\u001b[0;34m,\u001b[0m \u001b[0mcoords\u001b[0m\u001b[0;34m,\u001b[0m \u001b[0mmode\u001b[0m\u001b[0;34m=\u001b[0m\u001b[0mmode\u001b[0m\u001b[0;34m,\u001b[0m \u001b[0mpadding_mode\u001b[0m\u001b[0;34m=\u001b[0m\u001b[0mpadding_mode\u001b[0m\u001b[0;34m)\u001b[0m\u001b[0;34m[\u001b[0m\u001b[0;36m0\u001b[0m\u001b[0;34m]\u001b[0m\u001b[0;34m\u001b[0m\u001b[0m\n\u001b[0m\u001b[1;32m     10\u001b[0m \u001b[0;34m\u001b[0m\u001b[0m\n\u001b[1;32m     11\u001b[0m \u001b[0;32mdef\u001b[0m \u001b[0maffine_grid\u001b[0m\u001b[0;34m(\u001b[0m\u001b[0mx\u001b[0m\u001b[0;34m,\u001b[0m \u001b[0mmatrix\u001b[0m\u001b[0;34m,\u001b[0m \u001b[0msize\u001b[0m\u001b[0;34m=\u001b[0m\u001b[0;32mNone\u001b[0m\u001b[0;34m)\u001b[0m\u001b[0;34m:\u001b[0m\u001b[0;34m\u001b[0m\u001b[0m\n",
      "\u001b[0;32m~/anaconda3/envs/py37/lib/python3.7/site-packages/torch/nn/functional.py\u001b[0m in \u001b[0;36mgrid_sample\u001b[0;34m(input, grid, mode, padding_mode)\u001b[0m\n\u001b[1;32m   2090\u001b[0m         \u001b[0mpadding_mode\u001b[0m \u001b[0;34m=\u001b[0m \u001b[0mGRID_SAMPLE_MODE_BORDER\u001b[0m\u001b[0;34m\u001b[0m\u001b[0m\n\u001b[1;32m   2091\u001b[0m     \u001b[0;32melse\u001b[0m\u001b[0;34m:\u001b[0m\u001b[0;34m\u001b[0m\u001b[0m\n\u001b[0;32m-> 2092\u001b[0;31m         \u001b[0;32mraise\u001b[0m \u001b[0mValueError\u001b[0m\u001b[0;34m(\u001b[0m\u001b[0;34m\"padding_mode needs to be 'zeros' or 'border', but got {}\"\u001b[0m\u001b[0;34m.\u001b[0m\u001b[0mformat\u001b[0m\u001b[0;34m(\u001b[0m\u001b[0mpadding_mode\u001b[0m\u001b[0;34m)\u001b[0m\u001b[0;34m)\u001b[0m\u001b[0;34m\u001b[0m\u001b[0m\n\u001b[0m\u001b[1;32m   2093\u001b[0m     \u001b[0;32mreturn\u001b[0m \u001b[0mtorch\u001b[0m\u001b[0;34m.\u001b[0m\u001b[0mgrid_sampler\u001b[0m\u001b[0;34m(\u001b[0m\u001b[0minput\u001b[0m\u001b[0;34m,\u001b[0m \u001b[0mgrid\u001b[0m\u001b[0;34m,\u001b[0m \u001b[0mpadding_mode\u001b[0m\u001b[0;34m)\u001b[0m\u001b[0;34m\u001b[0m\u001b[0m\n\u001b[1;32m   2094\u001b[0m \u001b[0;34m\u001b[0m\u001b[0m\n",
      "\u001b[0;31mValueError\u001b[0m: padding_mode needs to be 'zeros' or 'border', but got reflection"
     ]
    }
   ],
   "source": [
    "img2 = affine_only(x, [rotate(30)])\n",
    "show_image(img2)"
   ]
  },
  {
   "cell_type": "code",
   "execution_count": 94,
   "metadata": {},
   "outputs": [],
   "source": [
    "def zoom(scale: uniform, row_pct=0.5, col_pct=0.5):\n",
    "    s = 1-1/scale\n",
    "    col_c = s * (2*col_pct - 1)\n",
    "    row_c = s * (2*row_pct - 1)\n",
    "    return [[1/scale, 0,       col_c],\n",
    "            [0,       1/scale, row_c],\n",
    "            [0,       0,       1.    ]]"
   ]
  },
  {
   "cell_type": "code",
   "execution_count": 96,
   "metadata": {},
   "outputs": [
    {
     "ename": "ValueError",
     "evalue": "padding_mode needs to be 'zeros' or 'border', but got reflection",
     "output_type": "error",
     "traceback": [
      "\u001b[0;31m---------------------------------------------------------------------------\u001b[0m",
      "\u001b[0;31mValueError\u001b[0m                                Traceback (most recent call last)",
      "\u001b[0;32m<ipython-input-96-563f75d1d558>\u001b[0m in \u001b[0;36m<module>\u001b[0;34m()\u001b[0m\n\u001b[0;32m----> 1\u001b[0;31m \u001b[0mshow_image\u001b[0m\u001b[0;34m(\u001b[0m\u001b[0maffine_only\u001b[0m\u001b[0;34m(\u001b[0m\u001b[0mx\u001b[0m\u001b[0;34m,\u001b[0m \u001b[0;34m[\u001b[0m\u001b[0mzoom\u001b[0m\u001b[0;34m(\u001b[0m\u001b[0;36m0.6\u001b[0m\u001b[0;34m)\u001b[0m\u001b[0;34m]\u001b[0m\u001b[0;34m)\u001b[0m\u001b[0;34m)\u001b[0m\u001b[0;34m\u001b[0m\u001b[0m\n\u001b[0m",
      "\u001b[0;32m<ipython-input-92-6b5d6eef9ac3>\u001b[0m in \u001b[0;36maffine_only\u001b[0;34m(x, mats, size, **kwargs)\u001b[0m\n\u001b[1;32m     21\u001b[0m     \u001b[0mc\u001b[0m \u001b[0;34m=\u001b[0m \u001b[0maffine_grid\u001b[0m\u001b[0;34m(\u001b[0m\u001b[0mx\u001b[0m\u001b[0;34m,\u001b[0m \u001b[0mtorch\u001b[0m\u001b[0;34m.\u001b[0m\u001b[0meye\u001b[0m\u001b[0;34m(\u001b[0m\u001b[0;36m3\u001b[0m\u001b[0;34m)\u001b[0m\u001b[0;34m,\u001b[0m \u001b[0msize\u001b[0m\u001b[0;34m=\u001b[0m\u001b[0msize\u001b[0m\u001b[0;34m)\u001b[0m\u001b[0;34m\u001b[0m\u001b[0m\n\u001b[1;32m     22\u001b[0m     \u001b[0mc\u001b[0m \u001b[0;34m=\u001b[0m \u001b[0mtfm\u001b[0m\u001b[0;34m(\u001b[0m\u001b[0mc\u001b[0m\u001b[0;34m)\u001b[0m\u001b[0;34m\u001b[0m\u001b[0m\n\u001b[0;32m---> 23\u001b[0;31m     \u001b[0;32mreturn\u001b[0m \u001b[0mgrid_sample\u001b[0m\u001b[0;34m(\u001b[0m\u001b[0mx\u001b[0m\u001b[0;34m,\u001b[0m \u001b[0mc\u001b[0m\u001b[0;34m,\u001b[0m \u001b[0;34m**\u001b[0m\u001b[0mkwargs\u001b[0m\u001b[0;34m)\u001b[0m\u001b[0;34m\u001b[0m\u001b[0m\n\u001b[0m",
      "\u001b[0;32m<ipython-input-87-02ed8ce2f5a8>\u001b[0m in \u001b[0;36mgrid_sample\u001b[0;34m(x, coords, mode, padding_mode)\u001b[0m\n\u001b[1;32m      7\u001b[0m     \u001b[0;32mif\u001b[0m \u001b[0mpadding_mode\u001b[0m\u001b[0;34m==\u001b[0m\u001b[0;34m'reflect'\u001b[0m\u001b[0;34m:\u001b[0m \u001b[0mpadding_mode\u001b[0m\u001b[0;34m=\u001b[0m\u001b[0;34m'reflection'\u001b[0m\u001b[0;34m\u001b[0m\u001b[0m\n\u001b[1;32m      8\u001b[0m     \u001b[0;32mif\u001b[0m \u001b[0mmode\u001b[0m\u001b[0;34m==\u001b[0m\u001b[0;34m'nearest'\u001b[0m\u001b[0;34m:\u001b[0m \u001b[0;32mreturn\u001b[0m \u001b[0mgrid_sample_nearest\u001b[0m\u001b[0;34m(\u001b[0m\u001b[0mx\u001b[0m\u001b[0;34m[\u001b[0m\u001b[0;32mNone\u001b[0m\u001b[0;34m]\u001b[0m\u001b[0;34m,\u001b[0m \u001b[0mcoords\u001b[0m\u001b[0;34m,\u001b[0m \u001b[0mpadding_mode\u001b[0m\u001b[0;34m)\u001b[0m\u001b[0;34m[\u001b[0m\u001b[0;36m0\u001b[0m\u001b[0;34m]\u001b[0m\u001b[0;34m\u001b[0m\u001b[0m\n\u001b[0;32m----> 9\u001b[0;31m     \u001b[0;32mreturn\u001b[0m \u001b[0mF\u001b[0m\u001b[0;34m.\u001b[0m\u001b[0mgrid_sample\u001b[0m\u001b[0;34m(\u001b[0m\u001b[0mx\u001b[0m\u001b[0;34m[\u001b[0m\u001b[0;32mNone\u001b[0m\u001b[0;34m]\u001b[0m\u001b[0;34m,\u001b[0m \u001b[0mcoords\u001b[0m\u001b[0;34m,\u001b[0m \u001b[0mmode\u001b[0m\u001b[0;34m=\u001b[0m\u001b[0mmode\u001b[0m\u001b[0;34m,\u001b[0m \u001b[0mpadding_mode\u001b[0m\u001b[0;34m=\u001b[0m\u001b[0mpadding_mode\u001b[0m\u001b[0;34m)\u001b[0m\u001b[0;34m[\u001b[0m\u001b[0;36m0\u001b[0m\u001b[0;34m]\u001b[0m\u001b[0;34m\u001b[0m\u001b[0m\n\u001b[0m\u001b[1;32m     10\u001b[0m \u001b[0;34m\u001b[0m\u001b[0m\n\u001b[1;32m     11\u001b[0m \u001b[0;32mdef\u001b[0m \u001b[0maffine_grid\u001b[0m\u001b[0;34m(\u001b[0m\u001b[0mx\u001b[0m\u001b[0;34m,\u001b[0m \u001b[0mmatrix\u001b[0m\u001b[0;34m,\u001b[0m \u001b[0msize\u001b[0m\u001b[0;34m=\u001b[0m\u001b[0;32mNone\u001b[0m\u001b[0;34m)\u001b[0m\u001b[0;34m:\u001b[0m\u001b[0;34m\u001b[0m\u001b[0m\n",
      "\u001b[0;32m~/anaconda3/envs/py37/lib/python3.7/site-packages/torch/nn/functional.py\u001b[0m in \u001b[0;36mgrid_sample\u001b[0;34m(input, grid, mode, padding_mode)\u001b[0m\n\u001b[1;32m   2090\u001b[0m         \u001b[0mpadding_mode\u001b[0m \u001b[0;34m=\u001b[0m \u001b[0mGRID_SAMPLE_MODE_BORDER\u001b[0m\u001b[0;34m\u001b[0m\u001b[0m\n\u001b[1;32m   2091\u001b[0m     \u001b[0;32melse\u001b[0m\u001b[0;34m:\u001b[0m\u001b[0;34m\u001b[0m\u001b[0m\n\u001b[0;32m-> 2092\u001b[0;31m         \u001b[0;32mraise\u001b[0m \u001b[0mValueError\u001b[0m\u001b[0;34m(\u001b[0m\u001b[0;34m\"padding_mode needs to be 'zeros' or 'border', but got {}\"\u001b[0m\u001b[0;34m.\u001b[0m\u001b[0mformat\u001b[0m\u001b[0;34m(\u001b[0m\u001b[0mpadding_mode\u001b[0m\u001b[0;34m)\u001b[0m\u001b[0;34m)\u001b[0m\u001b[0;34m\u001b[0m\u001b[0m\n\u001b[0m\u001b[1;32m   2093\u001b[0m     \u001b[0;32mreturn\u001b[0m \u001b[0mtorch\u001b[0m\u001b[0;34m.\u001b[0m\u001b[0mgrid_sampler\u001b[0m\u001b[0;34m(\u001b[0m\u001b[0minput\u001b[0m\u001b[0;34m,\u001b[0m \u001b[0mgrid\u001b[0m\u001b[0;34m,\u001b[0m \u001b[0mpadding_mode\u001b[0m\u001b[0;34m)\u001b[0m\u001b[0;34m\u001b[0m\u001b[0m\n\u001b[1;32m   2094\u001b[0m \u001b[0;34m\u001b[0m\u001b[0m\n",
      "\u001b[0;31mValueError\u001b[0m: padding_mode needs to be 'zeros' or 'border', but got reflection"
     ]
    }
   ],
   "source": [
    "show_image(affine_only(x, [zoom(0.6)]))"
   ]
  }
 ],
 "metadata": {
  "kernelspec": {
   "display_name": "python37",
   "language": "python",
   "name": "python37"
  },
  "language_info": {
   "codemirror_mode": {
    "name": "ipython",
    "version": 3
   },
   "file_extension": ".py",
   "mimetype": "text/x-python",
   "name": "python",
   "nbconvert_exporter": "python",
   "pygments_lexer": "ipython3",
   "version": "3.7.0"
  },
  "varInspector": {
   "cols": {
    "lenName": 16,
    "lenType": 16,
    "lenVar": 40
   },
   "kernels_config": {
    "python": {
     "delete_cmd_postfix": "",
     "delete_cmd_prefix": "del ",
     "library": "var_list.py",
     "varRefreshCmd": "print(var_dic_list())"
    },
    "r": {
     "delete_cmd_postfix": ") ",
     "delete_cmd_prefix": "rm(",
     "library": "var_list.r",
     "varRefreshCmd": "cat(var_dic_list()) "
    }
   },
   "types_to_exclude": [
    "module",
    "function",
    "builtin_function_or_method",
    "instance",
    "_Feature"
   ],
   "window_display": false
  }
 },
 "nbformat": 4,
 "nbformat_minor": 2
}
