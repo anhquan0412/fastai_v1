{
 "cells": [
  {
   "cell_type": "code",
   "execution_count": 57,
   "metadata": {},
   "outputs": [],
   "source": [
    "%reload_ext autoreload\n",
    "%autoreload 2\n",
    "%matplotlib inline"
   ]
  },
  {
   "cell_type": "code",
   "execution_count": 2,
   "metadata": {},
   "outputs": [],
   "source": [
    "from IPython.core.interactiveshell import InteractiveShell\n",
    "InteractiveShell.ast_node_interactivity = \"all\""
   ]
  },
  {
   "cell_type": "code",
   "execution_count": 72,
   "metadata": {},
   "outputs": [],
   "source": [
    "sys.path.append('../../docs')\n",
    "from gen_doc.nbdoc import show_doc as sd"
   ]
  },
  {
   "cell_type": "code",
   "execution_count": 3,
   "metadata": {},
   "outputs": [],
   "source": [
    "#export\n",
    "from nb_001b import *\n",
    "import sys, PIL, matplotlib.pyplot as plt, itertools, math, random, collections, torch\n",
    "import scipy.stats, scipy.special\n",
    "\n",
    "from enum import Enum, IntEnum\n",
    "from torch import tensor, Tensor, FloatTensor, LongTensor, ByteTensor, DoubleTensor, HalfTensor, ShortTensor\n",
    "from operator import itemgetter, attrgetter\n",
    "from numpy import cos, sin, tan, tanh, log, exp\n",
    "from dataclasses import field\n",
    "from functools import reduce\n",
    "from collections import defaultdict, abc, namedtuple, Iterable\n",
    "from typing import Tuple, Hashable, Mapping, Dict\n",
    "\n",
    "import mimetypes\n",
    "import abc\n",
    "from abc import abstractmethod, abstractproperty\n"
   ]
  },
  {
   "cell_type": "markdown",
   "metadata": {},
   "source": [
    "# CIFAR subset data"
   ]
  },
  {
   "cell_type": "markdown",
   "metadata": {},
   "source": [
    "First we want to view our data to check if everything is how we expect it to be."
   ]
  },
  {
   "cell_type": "markdown",
   "metadata": {},
   "source": [
    "## Setup"
   ]
  },
  {
   "cell_type": "code",
   "execution_count": 6,
   "metadata": {},
   "outputs": [],
   "source": [
    "DATA_PATH = Path('../data')\n",
    "PATH = DATA_PATH/'cifar10_dog_air'\n",
    "TRAIN_PATH = PATH/'train'"
   ]
  },
  {
   "cell_type": "code",
   "execution_count": 8,
   "metadata": {},
   "outputs": [
    {
     "data": {
      "image/png": "[encoded data removed]",
      "text/plain": [
       "<PIL.Image.Image image mode=RGB size=256x256 at 0x7F2362CCA358>"
      ]
     },
     "execution_count": 8,
     "metadata": {},
     "output_type": "execute_result"
    }
   ],
   "source": [
    "dog_fn = list((TRAIN_PATH/'dog').iterdir())[0]\n",
    "dog_image = PIL.Image.open(dog_fn)\n",
    "dog_image.resize((256,256))"
   ]
  },
  {
   "cell_type": "code",
   "execution_count": 10,
   "metadata": {},
   "outputs": [
    {
     "data": {
      "image/png": "[encoded data removed]",
      "text/plain": [
       "<PIL.Image.Image image mode=RGB size=256x256 at 0x7F236478CB00>"
      ]
     },
     "execution_count": 10,
     "metadata": {},
     "output_type": "execute_result"
    }
   ],
   "source": [
    "air_fn = list((TRAIN_PATH/'airplane').iterdir())[0]\n",
    "air_image = PIL.Image.open(air_fn)\n",
    "air_image.resize((256,256))"
   ]
  },
  {
   "cell_type": "markdown",
   "metadata": {},
   "source": [
    "## Simple Dataset/Dataloader"
   ]
  },
  {
   "cell_type": "markdown",
   "metadata": {},
   "source": [
    "We will build a Dataset class for our image files. A Dataset class needs to have two functions: length and get-item. Our FilesDataset additionally gets the image files from their respective directories and transforms them to tensors."
   ]
  },
  {
   "cell_type": "code",
   "execution_count": 31,
   "metadata": {},
   "outputs": [
    {
     "data": {
      "text/plain": [
       "[PosixPath('../data/cifar10_dog_air/train/dog'),\n",
       " PosixPath('../data/cifar10_dog_air/train/airplane')]"
      ]
     },
     "execution_count": 31,
     "metadata": {},
     "output_type": "execute_result"
    },
    {
     "data": {
      "text/plain": [
       "True"
      ]
     },
     "execution_count": 31,
     "metadata": {},
     "output_type": "execute_result"
    }
   ],
   "source": [
    "list((TRAIN_PATH).iterdir())\n",
    "list((TRAIN_PATH).iterdir())[0].is_dir()"
   ]
  },
  {
   "cell_type": "code",
   "execution_count": 30,
   "metadata": {},
   "outputs": [],
   "source": [
    "#export\n",
    "def image2np(image:Tensor)->np.ndarray:\n",
    "    \"Convert from torch style `image` to numpy/matplotlib style. Image size is (channel,h,w)\"\n",
    "    # convert float tensor (between 0 and 1) back to normal picture (0 to 255, height x width x channels)\n",
    "    res = image.cpu().permute(1,2,0).numpy()\n",
    "    return res[...,0] if res.shape[2]==1 else res\n",
    "\n",
    "def show_image(img:Tensor, ax:plt.Axes=None, figsize:tuple=(3,3), hide_axis:bool=True, \n",
    "               title:Optional[str]=None, cmap:str='binary', alpha:Optional[float]=None)->plt.Axes:\n",
    "    \"Plot tensor `img` using matplotlib axis `ax`.  `figsize`,`axis`,`title`,`cmap` and `alpha` pass to `ax.imshow`\"\n",
    "    if ax is None: fig,ax = plt.subplots(figsize=figsize)\n",
    "    ax.imshow(image2np(img), cmap=cmap, alpha=alpha)\n",
    "    if hide_axis: ax.axis('off')\n",
    "    if title: ax.set_title(title)\n",
    "    return ax"
   ]
  },
  {
   "cell_type": "code",
   "execution_count": 32,
   "metadata": {},
   "outputs": [],
   "source": [
    "class Image():\n",
    "    '''\n",
    "    To include show_image function into image\n",
    "    '''\n",
    "    def __init__(self, px): self.px = px # type tensor\n",
    "    def show(self, ax=None, **kwargs): return show_image(self.px, ax=ax, **kwargs)\n",
    "    @property\n",
    "    def data(self): return self.px"
   ]
  },
  {
   "cell_type": "code",
   "execution_count": 42,
   "metadata": {},
   "outputs": [],
   "source": [
    "#export\n",
    "FilePathList = Collection[Path]\n",
    "TensorImage = Tensor\n",
    "NPImage = np.ndarray\n",
    "\n",
    "def find_classes(folder:Path)->FilePathList:\n",
    "    \"Return class subdirectories in imagenet style train `folder`\"\n",
    "    classes = [d for d in folder.iterdir()\n",
    "               if d.is_dir() and not d.name.startswith('.')]\n",
    "    assert(len(classes)>0)\n",
    "    return sorted(classes, key=lambda d: d.name)\n",
    "\n",
    "image_extensions = set(k for k,v in mimetypes.types_map.items() if v.startswith('image/')) # get other image type (.jpg, ...)\n",
    "\n",
    "def get_image_files(c:Path, check_ext:bool=True)->FilePathList:\n",
    "    \"Return list of files in `c` that are images. `check_ext` will filter to `image_extensions`.\"\n",
    "    return [o for o in list(c.iterdir())\n",
    "            if not (o.name.startswith('.') or o.is_dir()\n",
    "            or (check_ext and o.suffix not in image_extensions))]\n",
    "\n",
    "def pil2tensor(image:NPImage)->TensorImage:\n",
    "    \"Convert PIL style `image` array to torch style image tensor `get_image_files`\"\n",
    "    arr = torch.ByteTensor(torch.ByteStorage.from_buffer(image.tobytes()))\n",
    "    arr = arr.view(image.size[1], image.size[0], -1) # height x width x channels\n",
    "    return arr.permute(2,0,1) # channels x height x width\n",
    "\n",
    "PathOrStr = Union[Path,str]\n",
    "def open_image(fn:PathOrStr):\n",
    "    \"Return `Image` object created from image in file `fn`\"\n",
    "    x = PIL.Image.open(fn).convert('RGB') # should return PIL.Image.Image type\n",
    "    return Image(pil2tensor(x).float().div_(255)) # normalize between 0 and 1"
   ]
  },
  {
   "cell_type": "code",
   "execution_count": 75,
   "metadata": {},
   "outputs": [
    {
     "data": {
      "text/plain": [
       "{'.bmp',\n",
       " '.gif',\n",
       " '.ico',\n",
       " '.ief',\n",
       " '.jpe',\n",
       " '.jpeg',\n",
       " '.jpg',\n",
       " '.pbm',\n",
       " '.pgm',\n",
       " '.png',\n",
       " '.pnm',\n",
       " '.ppm',\n",
       " '.ras',\n",
       " '.rgb',\n",
       " '.svg',\n",
       " '.tif',\n",
       " '.tiff',\n",
       " '.xbm',\n",
       " '.xpm',\n",
       " '.xwd'}"
      ]
     },
     "execution_count": 75,
     "metadata": {},
     "output_type": "execute_result"
    }
   ],
   "source": [
    "image_extensions"
   ]
  },
  {
   "cell_type": "code",
   "execution_count": 34,
   "metadata": {},
   "outputs": [
    {
     "data": {
      "text/plain": [
       "[PosixPath('../data/cifar10_dog_air/test'),\n",
       " PosixPath('../data/cifar10_dog_air/train')]"
      ]
     },
     "execution_count": 34,
     "metadata": {},
     "output_type": "execute_result"
    }
   ],
   "source": [
    "find_classes(PATH)"
   ]
  },
  {
   "cell_type": "code",
   "execution_count": 39,
   "metadata": {},
   "outputs": [
    {
     "data": {
      "text/plain": [
       "[PosixPath('../data/cifar10_dog_air/train/dog/5808_dog.png'),\n",
       " PosixPath('../data/cifar10_dog_air/train/dog/28909_dog.png'),\n",
       " PosixPath('../data/cifar10_dog_air/train/dog/48715_dog.png'),\n",
       " PosixPath('../data/cifar10_dog_air/train/dog/28740_dog.png'),\n",
       " PosixPath('../data/cifar10_dog_air/train/dog/38944_dog.png')]"
      ]
     },
     "execution_count": 39,
     "metadata": {},
     "output_type": "execute_result"
    }
   ],
   "source": [
    "get_image_files(TRAIN_PATH/'dog')[:5]"
   ]
  },
  {
   "cell_type": "code",
   "execution_count": 44,
   "metadata": {},
   "outputs": [
    {
     "data": {
      "text/plain": [
       "'../data/cifar10_dog_air/train/dog/5808_dog.png'"
      ]
     },
     "execution_count": 44,
     "metadata": {},
     "output_type": "execute_result"
    }
   ],
   "source": [
    "path_temp=get_image_files(TRAIN_PATH/'dog')[0]\n",
    "str(path_temp)"
   ]
  },
  {
   "cell_type": "code",
   "execution_count": 49,
   "metadata": {},
   "outputs": [],
   "source": [
    "img_temp=open_image(path_temp)"
   ]
  },
  {
   "cell_type": "code",
   "execution_count": 60,
   "metadata": {},
   "outputs": [
    {
     "data": {
      "text/plain": [
       "'torch.FloatTensor'"
      ]
     },
     "execution_count": 60,
     "metadata": {},
     "output_type": "execute_result"
    },
    {
     "data": {
      "text/plain": [
       "<matplotlib.axes._subplots.AxesSubplot at 0x7f2361a42080>"
      ]
     },
     "execution_count": 60,
     "metadata": {},
     "output_type": "execute_result"
    },
    {
     "data": {
      "image/png": "[encoded data removed]",
      "text/plain": [
       "<Figure size 216x216 with 1 Axes>"
      ]
     },
     "metadata": {
      "needs_background": "light"
     },
     "output_type": "display_data"
    }
   ],
   "source": [
    "img_temp.data.type()\n",
    "img_temp.show()"
   ]
  },
  {
   "cell_type": "code",
   "execution_count": 68,
   "metadata": {},
   "outputs": [],
   "source": [
    "#export\n",
    "NPArrayableList = Collection[Union[np.ndarray, list]]\n",
    "NPArrayMask = np.ndarray\n",
    "SplitArrayList = List[Tuple[np.ndarray,np.ndarray]]\n",
    "\n",
    "def arrays_split(mask:NPArrayMask, *arrs:NPArrayableList)->SplitArrayList:\n",
    "    \"Given `arrs` is [a,b,...] and `mask`index - return[(a[mask],a[~mask]),(b[mask],b[~mask]),...]\"\n",
    "    mask = array(mask)\n",
    "    return list(zip(*[(a[mask],a[~mask]) for a in map(np.array, arrs)]))\n",
    "\n",
    "def random_split(valid_pct:float, *arrs:NPArrayableList)->SplitArrayList:\n",
    "    \"Randomly `array_split` with `valid_pct` ratio. good for creating validation set.\"\n",
    "    is_train = np.random.uniform(size=(len(arrs[0]),)) > valid_pct\n",
    "    return arrays_split(is_train, *arrs)\n",
    "\n",
    "class DatasetBase(Dataset):\n",
    "    \"Base class for all fastai datasets\"\n",
    "    def __len__(self): return len(self.x)\n",
    "    @property\n",
    "    def c(self): \n",
    "        \"Number of classes expressed by dataset y variable\"\n",
    "        return self.y.shape[-1] if len(self.y.shape)>1 else 1\n",
    "    def __repr__(self): return f'{type(self).__name__} of len {len(self)}'\n",
    "\n",
    "class LabelDataset(DatasetBase):\n",
    "    \"Base class for fastai datasets that do classification\"\n",
    "    @property\n",
    "    def c(self): \n",
    "        \"Number of classes expressed by dataset y variable\"\n",
    "        return len(self.classes)"
   ]
  },
  {
   "cell_type": "code",
   "execution_count": 76,
   "metadata": {},
   "outputs": [],
   "source": [
    "??Dataset"
   ]
  },
  {
   "cell_type": "code",
   "execution_count": 69,
   "metadata": {},
   "outputs": [],
   "source": [
    "#export\n",
    "ImgLabel = str\n",
    "ImgLabels = Collection[ImgLabel]\n",
    "Classes = Collection[Any]\n",
    "\n",
    "class FilesDataset(LabelDataset):\n",
    "    \"Dataset for folders of images in style {folder}/{class}/{images}\"\n",
    "    def __init__(self, fns:FilePathList, labels:ImgLabels, classes:Optional[Classes]=None):\n",
    "        self.classes = ifnone(classes, list(set(labels)))\n",
    "        self.class2idx = {v:k for k,v in enumerate(self.classes)}\n",
    "        self.x = np.array(fns)\n",
    "        self.y = np.array([self.class2idx[o] for o in labels], dtype=np.int64)\n",
    "    \n",
    "    def __getitem__(self,i): return open_image(self.x[i]),self.y[i]\n",
    "    \n",
    "    @staticmethod\n",
    "    def _folder_files(folder:Path, label:ImgLabel, check_ext=True)->Tuple[FilePathList,ImgLabels]:\n",
    "        \"From `folder` return image files and labels. The labels are all `label`. `check_ext` means only image files\"\n",
    "        fnames = get_image_files(folder, check_ext=check_ext)\n",
    "        return fnames,[label]*len(fnames)\n",
    "    \n",
    "    @classmethod\n",
    "    def from_single_folder(cls, folder:PathOrStr, classes:Classes, check_ext=True):\n",
    "        \"Typically used for test set. label all images in `folder` with `classes[0]`\"\n",
    "        fns,labels = cls._folder_files(folder, classes[0], check_ext=check_ext)\n",
    "        return cls(fns, labels, classes=classes)\n",
    "\n",
    "    @classmethod\n",
    "    def from_folder(cls, folder:Path, classes:Optional[Classes]=None, \n",
    "                    valid_pct:float=0., check_ext:bool=True) -> Union['FilesDataset', List['FilesDataset']]:\n",
    "        \"Dataset of `classes` labeled images in `folder`. Optional `valid_pct` split validation set.\"\n",
    "        if classes is None: classes = [cls.name for cls in find_classes(folder)]\n",
    "            \n",
    "        fns,labels = [],[]\n",
    "        for cl in classes:\n",
    "            f,l = cls._folder_files(folder/cl, cl, check_ext=check_ext)\n",
    "            fns+=f; labels+=l\n",
    "            \n",
    "        if valid_pct==0.: return cls(fns, labels, classes=classes)\n",
    "        return [cls(*a, classes=classes) for a in random_split(valid_pct, fns, labels)]"
   ]
  },
  {
   "cell_type": "code",
   "execution_count": 73,
   "metadata": {},
   "outputs": [
    {
     "data": {
      "text/markdown": [
       "<a id=from_folder></a>**from_folder**(<em>cls</em>, <em>folder</em>: Path, <em>classes</em>: typing.Union[typing.Collection[typing.Any], NoneType]=None, <em>valid_pct</em>: float=0.0, <em>check_ext</em>: bool=True) -> typing.Union[ForwardRef('FilesDataset'), typing.List[ForwardRef('FilesDataset')]]\n",
       "\n",
       "\n",
       "Dataset of `classes` labeled images in `folder`. Optional `valid_pct` split validation set."
      ],
      "text/plain": [
       "<IPython.core.display.Markdown object>"
      ]
     },
     "metadata": {},
     "output_type": "display_data"
    }
   ],
   "source": [
    "sd(FilesDataset.from_folder)"
   ]
  },
  {
   "cell_type": "code",
   "execution_count": 83,
   "metadata": {},
   "outputs": [],
   "source": [
    "train_ds = FilesDataset.from_folder(PATH/'train')\n",
    "valid_ds = FilesDataset.from_folder(PATH/'test')"
   ]
  },
  {
   "cell_type": "code",
   "execution_count": 93,
   "metadata": {},
   "outputs": [
    {
     "data": {
      "text/plain": [
       "array([PosixPath('../data/cifar10_dog_air/train/airplane/5665_airplane.png'),\n",
       "       PosixPath('../data/cifar10_dog_air/train/airplane/42446_airplane.png'),\n",
       "       PosixPath('../data/cifar10_dog_air/train/airplane/43184_airplane.png'),\n",
       "       PosixPath('../data/cifar10_dog_air/train/airplane/7930_airplane.png'),\n",
       "       PosixPath('../data/cifar10_dog_air/train/airplane/30257_airplane.png')],\n",
       "      dtype=object)"
      ]
     },
     "execution_count": 93,
     "metadata": {},
     "output_type": "execute_result"
    },
    {
     "data": {
      "text/plain": [
       "array([0, 0, 0, 0, 0])"
      ]
     },
     "execution_count": 93,
     "metadata": {},
     "output_type": "execute_result"
    }
   ],
   "source": [
    "train_ds.x[:5]\n",
    "train_ds.y[:5]"
   ]
  },
  {
   "cell_type": "code",
   "execution_count": 94,
   "metadata": {},
   "outputs": [
    {
     "data": {
      "text/plain": [
       "['airplane', 'dog']"
      ]
     },
     "execution_count": 94,
     "metadata": {},
     "output_type": "execute_result"
    },
    {
     "data": {
      "text/plain": [
       "{'airplane': 0, 'dog': 1}"
      ]
     },
     "execution_count": 94,
     "metadata": {},
     "output_type": "execute_result"
    }
   ],
   "source": [
    "train_ds.classes\n",
    "train_ds.class2idx"
   ]
  },
  {
   "cell_type": "code",
   "execution_count": 97,
   "metadata": {},
   "outputs": [
    {
     "data": {
      "text/plain": [
       "(Image (torch.Size([3, 32, 32])), 0)"
      ]
     },
     "execution_count": 97,
     "metadata": {},
     "output_type": "execute_result"
    }
   ],
   "source": [
    "train_ds[0]"
   ]
  },
  {
   "cell_type": "code",
   "execution_count": 100,
   "metadata": {},
   "outputs": [
    {
     "data": {
      "image/png": "[encoded data removed]",
      "text/plain": [
       "<Figure size 216x216 with 1 Axes>"
      ]
     },
     "metadata": {
      "needs_background": "light"
     },
     "output_type": "display_data"
    }
   ],
   "source": [
    "train_ds[0][0].show()"
   ]
  },
  {
   "cell_type": "markdown",
   "metadata": {},
   "source": [
    "# Data augmentation"
   ]
  },
  {
   "cell_type": "markdown",
   "metadata": {},
   "source": [
    "Now we are going augment our data to increase our training set. We will start by changing the brightness and contrast of our images.\n",
    "\n",
    "Brightness is computed by taking the logit of the change and adding it to the logit of the images pixels. Finally we take the sigmoid of the result.\n",
    "\n",
    "Contrast is computed by simply multiplying pixel values by the scale."
   ]
  },
  {
   "cell_type": "markdown",
   "metadata": {},
   "source": [
    "## Lighting"
   ]
  },
  {
   "cell_type": "markdown",
   "metadata": {},
   "source": [
    "We will start by changing the brightness and contrast of our images.\n",
    "\n",
    "## Method\n",
    "### Brightness\n",
    "\n",
    "Brightness refers to where does our image stand on the dark-light spectrum. Brightness is applied by adding a positive constant to each of the image's channels. This works because each of the channels in an image goes from 0 (darkest) to 255 (brightest) in a dark-light continum. (0, 0, 0) is black (total abscence of light) and (255, 255, 255) is white (pure light). You can check how this works by experimenting by yourself here.\n",
    "\n",
    "Parameters\n",
    "\n",
    "Change How much brightness do we want to add to (or take from) the image.\n",
    "\n",
    "$C \\in \\mathbb{R}$\n",
    "\n",
    "### Contrast\n",
    "\n",
    "Contrast refers to how sharp a distinction there is between brighter and darker sections of our image. To increase contrast we need darker pixels to be darker and lighter pixels to be lighter. In other words, we would like channels with a value smaller than 128 to decrease and channels with a value of greater than 128 to increase.\n",
    "\n",
    "Parameters\n",
    "\n",
    "Scale How much contrast do we want to add to (or remove from) the image.\n",
    "\n",
    "$C \\in [0, inf]$\n",
    "\n",
    "### On logit and sigmoid\n",
    "\n",
    "Notice that for both transformations we first apply the logit to our tensor (convert x: 0 to 1 to x: -inf to inf), then apply the transformation (add constant to x for brightness or multiply constant to x for contrast) and finally take the sigmoid (back to x: 0 and 1). This is important for two reasons.\n",
    "\n",
    "First, we don't want to overflow our tensor values. In other words, we need our final tensor values to be $T_{ij} \\in [0,1]$. Imagine, for instance, a tensor value at 0.99. We want to increase its brightness, but we can’t go over 1.0. By doing logit first, which first moves our space to $-inf$ to $+inf$, this works fine. The same applies to contrast if we have a scale S >1 (might make some of our tensor values greater than one).\n",
    "\n",
    "Second, when we apply contrast, we need to affect the dispersion (state of being spread over an area) of values around the middle value. Say we want to increase contrast. Then we need the bright values (>0.5) to get brighter and dark values (<0.5) to get darker. We must first transform our tensor values so our values which were originally <0.5 are now negative and our values which were originally >0.5 are positive. This way, when we multiply by a constant, the dispersion around 0 will increase (small numbers around 0 * positive scale = small numbers => they don't change much?). The logit function does exactly this and allows us to increase or decrease dispersion around a mid value."
   ]
  },
  {
   "cell_type": "code",
   "execution_count": 28,
   "metadata": {},
   "outputs": [],
   "source": [
    "??partial\n",
    "\n",
    "# return a new function with fewer parameters and fixed values set for the original function"
   ]
  },
  {
   "cell_type": "code",
   "execution_count": 78,
   "metadata": {},
   "outputs": [
    {
     "name": "stdout",
     "output_type": "stream",
     "text": [
      "14\n",
      "14\n"
     ]
    }
   ],
   "source": [
    "def multiply(x,y,z):\n",
    "        return 3*x + 2*y + z\n",
    "func1 = partial(multiply,3)\n",
    "print(func1(2,1))\n",
    "\n",
    "func2 = partial(multiply,3,2)\n",
    "print(func2(1))"
   ]
  },
  {
   "cell_type": "code",
   "execution_count": 77,
   "metadata": {},
   "outputs": [],
   "source": [
    "def logit(x:Tensor)->Tensor:  return -(1/x-1).log()\n",
    "def logit_(x:Tensor)->Tensor: return (x.reciprocal_().sub_(1)).log_().neg_() # -log(1/x -1)"
   ]
  },
  {
   "cell_type": "code",
   "execution_count": 79,
   "metadata": {},
   "outputs": [],
   "source": [
    "#export\n",
    "FlowField = Tensor\n",
    "LogitTensorImage = TensorImage\n",
    "AffineMatrix = Tensor\n",
    "KWArgs = Dict[str,Any]\n",
    "ArgStar = Collection[Any]\n",
    "TensorImageSize = Tuple[int,int,int]\n",
    "\n",
    "LightingFunc = Callable[[LogitTensorImage, ArgStar, KWArgs], LogitTensorImage]\n",
    "PixelFunc = Callable[[TensorImage, ArgStar, KWArgs], TensorImage]\n",
    "CoordFunc = Callable[[FlowField, TensorImageSize, ArgStar, KWArgs], LogitTensorImage]\n",
    "AffineFunc = Callable[[KWArgs], AffineMatrix]\n",
    "\n",
    "\n",
    "class ItemBase():\n",
    "    \"All transformable dataset items use this type\"\n",
    "    @property\n",
    "    @abstractmethod\n",
    "    def device(self): pass\n",
    "    @property\n",
    "    @abstractmethod\n",
    "    def data(self): pass\n",
    "\n",
    "class ImageBase(ItemBase):\n",
    "    \"Img based `Dataset` items derive from this. Subclass to handle lighting, pixel, etc\"\n",
    "    def lighting(self, func:LightingFunc, *args, **kwargs)->'ImageBase': return self\n",
    "    def pixel(self, func:PixelFunc, *args, **kwargs)->'ImageBase': return self\n",
    "    def coord(self, func:CoordFunc, *args, **kwargs)->'ImageBase': return self\n",
    "    def affine(self, func:AffineFunc, *args, **kwargs)->'ImageBase': return self\n",
    "\n",
    "    def set_sample(self, **kwargs)->'ImageBase':\n",
    "        \"Set parameters that control how we `grid_sample` the image after transforms are applied\"\n",
    "        self.sample_kwargs = kwargs\n",
    "        return self\n",
    "    \n",
    "    def clone(self)->'ImageBase': \n",
    "        \"Clones this item and its `data`\"\n",
    "        return self.__class__(self.data.clone())"
   ]
  },
  {
   "cell_type": "markdown",
   "metadata": {},
   "source": [
    "Old Image class\n",
    "```\n",
    "class Image():\n",
    "    '''\n",
    "    To include show_image function into image\n",
    "    '''\n",
    "    def __init__(self, px): self.px = px # type tensor\n",
    "    def show(self, ax=None, **kwargs): return show_image(self.px, ax=ax, **kwargs)\n",
    "    @property\n",
    "    def data(self): return self.px\n",
    "```"
   ]
  },
  {
   "cell_type": "code",
   "execution_count": 81,
   "metadata": {},
   "outputs": [],
   "source": [
    "class Image(ImageBase):\n",
    "    \"Supports appying transforms to image data\"\n",
    "    def __init__(self, px)->'Image':\n",
    "        \"create from raw tensor image data `px`\"\n",
    "        self._px = px\n",
    "        self._logit_px=None\n",
    "        self._flow=None\n",
    "        self._affine_mat=None\n",
    "        self.sample_kwargs = {}\n",
    "\n",
    "    @property\n",
    "    def shape(self)->Tuple[int,int,int]: \n",
    "        \"Returns (ch, h, w) for this image\"\n",
    "        return self._px.shape\n",
    "    @property\n",
    "    def size(self)->Tuple[int,int]: \n",
    "        \"Returns (h, w) for this image\"\n",
    "        return self.shape[-2:]\n",
    "    @property\n",
    "    def device(self)->torch.device: return self._px.device\n",
    "    \n",
    "    def __repr__(self): return f'{self.__class__.__name__} ({self.shape})'\n",
    "\n",
    "    def refresh(self)->None:\n",
    "        \"Applies any logit or affine transfers that have been \"\n",
    "        if self._logit_px is not None:\n",
    "            self._px = self._logit_px.sigmoid_()\n",
    "            self._logit_px = None\n",
    "        if self._affine_mat is not None or self._flow is not None:\n",
    "            self._px = grid_sample(self._px, self.flow, **self.sample_kwargs)\n",
    "            self.sample_kwargs = {}\n",
    "            self._flow = None\n",
    "        return self\n",
    "\n",
    "    @property\n",
    "    def px(self)->TensorImage:\n",
    "        \"Get the tensor pixel buffer\"\n",
    "        self.refresh()\n",
    "        return self._px\n",
    "    @px.setter\n",
    "    def px(self,v:TensorImage)->None: \n",
    "        \"Set the pixel buffer to `v`\"\n",
    "        self._px=v\n",
    "\n",
    "    @property\n",
    "    def flow(self)->FlowField:\n",
    "        \"Access the flow-field grid after applying queued affine transforms\"\n",
    "        if self._flow is None:\n",
    "            self._flow = affine_grid(self.shape)\n",
    "        if self._affine_mat is not None:\n",
    "            self._flow = affine_mult(self._flow,self._affine_mat)\n",
    "            self._affine_mat = None\n",
    "        return self._flow\n",
    "    \n",
    "    @flow.setter\n",
    "    def flow(self,v:FlowField): self._flow=v\n",
    "\n",
    "    def lighting(self, func:LightingFunc, *args:Any, **kwargs:Any)->'Image':\n",
    "        \"Equivalent to `image = sigmoid(func(logit(image)))`\"\n",
    "        self.logit_px = func(self.logit_px, *args, **kwargs)\n",
    "        return self\n",
    "\n",
    "    def pixel(self, func:PixelFunc, *args, **kwargs)->'Image':\n",
    "        \"Equivalent to `image.px = func(image.px)`\"\n",
    "        self.px = func(self.px, *args, **kwargs)\n",
    "        return self\n",
    "\n",
    "    def coord(self, func:CoordFunc, *args, **kwargs)->'Image':\n",
    "        \"Equivalent to `image.flow = func(image.flow, image.size)`\"        \n",
    "        self.flow = func(self.flow, self.shape, *args, **kwargs)\n",
    "        return self\n",
    "\n",
    "    def affine(self, func:AffineFunc, *args, **kwargs)->'Image':\n",
    "        \"Equivalent to `image.affine_mat = image.affine_mat @ func()`\"        \n",
    "        m = tensor(func(*args, **kwargs)).to(self.device)\n",
    "        self.affine_mat = self.affine_mat @ m\n",
    "        return self\n",
    "\n",
    "    def resize(self, size:Union[int,TensorImageSize])->'Image':\n",
    "        \"Resize the image to `size`, size can be a single int\"\n",
    "        assert self._flow is None\n",
    "        if isinstance(size, int): size=(self.shape[0], size, size)\n",
    "        self.flow = affine_grid(size)\n",
    "        return self\n",
    "\n",
    "    @property\n",
    "    def affine_mat(self)->AffineMatrix:\n",
    "        \"Get the affine matrix that will be applied by `refresh`\"\n",
    "        if self._affine_mat is None:\n",
    "            self._affine_mat = torch.eye(3).to(self.device)\n",
    "        return self._affine_mat\n",
    "    @affine_mat.setter\n",
    "    def affine_mat(self,v)->None: self._affine_mat=v\n",
    "\n",
    "    @property\n",
    "    def logit_px(self)->LogitTensorImage:\n",
    "        \"Get logit(image.px)\"\n",
    "        if self._logit_px is None: self._logit_px = logit_(self.px)\n",
    "        return self._logit_px\n",
    "    @logit_px.setter\n",
    "    def logit_px(self,v:LogitTensorImage)->None: self._logit_px=v\n",
    "    \n",
    "    def show(self, ax:plt.Axes=None, **kwargs:Any)->None: \n",
    "        \"Plots the image into `ax`\"\n",
    "        show_image(self.px, ax=ax, **kwargs)\n",
    "    \n",
    "    @property\n",
    "    def data(self)->TensorImage: \n",
    "        \"Returns this images pixels as a tensor\"\n",
    "        return self.px"
   ]
  },
  {
   "cell_type": "code",
   "execution_count": 102,
   "metadata": {},
   "outputs": [],
   "source": [
    "def contrast(x:Tensor, scale:float)->Tensor: return x.mul_(scale)"
   ]
  },
  {
   "cell_type": "code",
   "execution_count": 82,
   "metadata": {},
   "outputs": [],
   "source": [
    "train_ds = FilesDataset.from_folder(PATH/'train')\n",
    "valid_ds = FilesDataset.from_folder(PATH/'test')"
   ]
  },
  {
   "cell_type": "code",
   "execution_count": 104,
   "metadata": {},
   "outputs": [
    {
     "data": {
      "text/plain": [
       "Image (torch.Size([3, 32, 32]))"
      ]
     },
     "execution_count": 104,
     "metadata": {},
     "output_type": "execute_result"
    }
   ],
   "source": [
    "x = lambda: train_ds[1][0] # to avoid transform the tensor permanently\n",
    "x()"
   ]
  },
  {
   "cell_type": "code",
   "execution_count": 109,
   "metadata": {},
   "outputs": [
    {
     "data": {
      "image/png": "[encoded data removed]",
      "text/plain": [
       "<Figure size 216x216 with 1 Axes>"
      ]
     },
     "metadata": {
      "needs_background": "light"
     },
     "output_type": "display_data"
    }
   ],
   "source": [
    "img = x()\n",
    "x().show()"
   ]
  },
  {
   "cell_type": "code",
   "execution_count": 110,
   "metadata": {},
   "outputs": [
    {
     "data": {
      "image/png": "[encoded data removed]",
      "text/plain": [
       "<Figure size 216x216 with 1 Axes>"
      ]
     },
     "metadata": {
      "needs_background": "light"
     },
     "output_type": "display_data"
    }
   ],
   "source": [
    "img.logit_px = contrast(img.logit_px, 0.5)\n",
    "img.show()"
   ]
  },
  {
   "cell_type": "code",
   "execution_count": 111,
   "metadata": {},
   "outputs": [
    {
     "data": {
      "image/png": "[encoded data removed]",
      "text/plain": [
       "<Figure size 216x216 with 1 Axes>"
      ]
     },
     "metadata": {
      "needs_background": "light"
     },
     "output_type": "display_data"
    }
   ],
   "source": [
    "x().lighting(contrast, 0.5).show()"
   ]
  },
  {
   "cell_type": "markdown",
   "metadata": {},
   "source": [
    "TODO: continue here. Tip: don't spend a huge amount of time on details. Spend only 1 or 2 hours per day on this"
   ]
  },
  {
   "cell_type": "code",
   "execution_count": null,
   "metadata": {},
   "outputs": [],
   "source": [
    "# DONT RUN\n",
    "\n",
    "# def brightness(x, change): \n",
    "#     # the change to be added to x for brightness should be between 0 and 1, as it will be transformed using logit\n",
    "#     # so that they on the same scale when adding?\n",
    "#     return x.add_(scipy.special.logit(change))\n",
    "# def contrast(x, scale): return x.mul_(scale)\n",
    "\n",
    "# def _apply_lighting(x, func):\n",
    "#     if func is None: return x\n",
    "#     return func(logit_(x)).sigmoid()\n",
    "\n",
    "# def apply_lighting(func): \n",
    "#     # a function which accept another (partial) function and return partial function (which accept that function input)\n",
    "#     return partial(_apply_lighting, func=func)"
   ]
  },
  {
   "cell_type": "code",
   "execution_count": 14,
   "metadata": {},
   "outputs": [],
   "source": [
    "def apply_contrast(scale): return apply_lighting(partial(contrast, scale=scale))"
   ]
  },
  {
   "cell_type": "code",
   "execution_count": 16,
   "metadata": {},
   "outputs": [],
   "source": [
    "x = lambda: train_ds[1][0]\n",
    "\n",
    "# Don't use the following to test these transformation functions\n",
    "# as these functions above are meant to be used to permanently transform tensor\n",
    "# x = train_ds[1][0]. \n",
    "# x.size()\n",
    "# x.type()"
   ]
  },
  {
   "cell_type": "code",
   "execution_count": 33,
   "metadata": {},
   "outputs": [
    {
     "data": {
      "image/png": "[encoded data removed]",
      "text/plain": [
       "<Figure size 864x216 with 5 Axes>"
      ]
     },
     "metadata": {},
     "output_type": "display_data"
    }
   ],
   "source": [
    "_,axes = plt.subplots(1,5, figsize=(12,3))\n",
    "\n",
    "show_image(x(), axes[0])\n",
    "show_image(apply_contrast(1.0)(x()), axes[1])\n",
    "show_image(apply_contrast(0.5)(x()), axes[2])\n",
    "show_image(apply_contrast(2.0)(x()), axes[3])\n",
    "show_image(apply_contrast(5.0)(x()), axes[4])"
   ]
  },
  {
   "cell_type": "code",
   "execution_count": 15,
   "metadata": {},
   "outputs": [],
   "source": [
    "def apply_brightness(change):\n",
    "    return apply_lighting(partial(brightness, change=change))"
   ]
  },
  {
   "cell_type": "code",
   "execution_count": 35,
   "metadata": {},
   "outputs": [
    {
     "data": {
      "image/png": "[encoded data removed]",
      "text/plain": [
       "<Figure size 864x216 with 5 Axes>"
      ]
     },
     "metadata": {},
     "output_type": "display_data"
    }
   ],
   "source": [
    "_,axes = plt.subplots(1,5, figsize=(12,3))\n",
    "\n",
    "show_image(x(), axes[0])\n",
    "show_image(apply_brightness(0.2)(x()), axes[1])\n",
    "show_image(apply_brightness(0.4)(x()), axes[2])\n",
    "show_image(apply_brightness(0.6)(x()), axes[3])\n",
    "show_image(apply_brightness(0.8)(x()), axes[4])"
   ]
  },
  {
   "cell_type": "code",
   "execution_count": 17,
   "metadata": {},
   "outputs": [],
   "source": [
    "#export\n",
    "def listify(p=None, q=None):\n",
    "    # duplicate single-item list p q times\n",
    "    if p is None: p=[]\n",
    "    elif not isinstance(p, Iterable): p=[p]\n",
    "    n = q if type(q)==int else (1 if q is None else len(q))\n",
    "    if len(p)==1: p = p * n\n",
    "    return p\n",
    "\n",
    "def compose(funcs):\n",
    "    # funcs is list of partial functions. Execute this list of functions in order\n",
    "    # compose acts as a wrapper for multiple PARTIAL functions in funcs list\n",
    "    def _inner(x, *args, **kwargs):\n",
    "        for f in listify(funcs): x = f(x, *args, **kwargs)\n",
    "        return x\n",
    "    return _inner if funcs else None"
   ]
  },
  {
   "cell_type": "code",
   "execution_count": 114,
   "metadata": {},
   "outputs": [
    {
     "data": {
      "text/plain": [
       "[2, 2, 2]"
      ]
     },
     "execution_count": 114,
     "metadata": {},
     "output_type": "execute_result"
    },
    {
     "data": {
      "text/plain": [
       "[2, 2, 2]"
      ]
     },
     "execution_count": 114,
     "metadata": {},
     "output_type": "execute_result"
    },
    {
     "data": {
      "text/plain": [
       "[2, 3]"
      ]
     },
     "execution_count": 114,
     "metadata": {},
     "output_type": "execute_result"
    },
    {
     "data": {
      "text/plain": [
       "(2, 3)"
      ]
     },
     "execution_count": 114,
     "metadata": {},
     "output_type": "execute_result"
    }
   ],
   "source": [
    "listify((2),3)\n",
    "listify(2,3)\n",
    "listify([2,3],3)\n",
    "listify((2,3))"
   ]
  },
  {
   "cell_type": "code",
   "execution_count": 50,
   "metadata": {},
   "outputs": [
    {
     "data": {
      "text/plain": [
       "<function __main__.compose.<locals>._inner(x, *args, **kwargs)>"
      ]
     },
     "execution_count": 50,
     "metadata": {},
     "output_type": "execute_result"
    }
   ],
   "source": [
    "sc = 0.5\n",
    "cb = 0.5\n",
    "compose([partial(contrast, scale=0.5),partial(brightness, change=0.5)])"
   ]
  },
  {
   "cell_type": "markdown",
   "metadata": {},
   "source": [
    "```\n",
    "def apply_lighting(func): \n",
    "    return partial(_apply_lighting, func=func)\n",
    "    \n",
    "def _apply_lighting(x, func):\n",
    "    if func is None: return x\n",
    "    \n",
    "    # this is where compose will kick in. I.e of the actual call\n",
    "    # _apply_lighting(x, compose) # partial\n",
    "    # -> compose(logit_(x))\n",
    "    # -> _inner(logit_(x), args and kwargs)\n",
    "    # -> x = contrast(logit_(x),scale_contrast)\n",
    "    # -> x = brightness(x,change_brightness)\n",
    "    # -> return x.sigmoid()\n",
    "    return func(logit_(x)).sigmoid() \n",
    "```"
   ]
  },
  {
   "cell_type": "code",
   "execution_count": 18,
   "metadata": {},
   "outputs": [],
   "source": [
    "def apply_brightness_contrast(scale_contrast, change_brightness):\n",
    "    # remember that apply_lighting return a partial function with func input\n",
    "    combined_func = compose([partial(contrast, scale=scale_contrast),\n",
    "                               partial(brightness, change=change_brightness)]\n",
    "                             )\n",
    "    return apply_lighting(combined_func)"
   ]
  },
  {
   "cell_type": "code",
   "execution_count": 19,
   "metadata": {},
   "outputs": [
    {
     "name": "stdout",
     "output_type": "stream",
     "text": [
      "3\n",
      "42\n",
      "YOLO BIATCH\n"
     ]
    }
   ],
   "source": [
    "# explaining compose function\n",
    "def show_stuff(x,k1=42,k2='yolo'):\n",
    "    print(x)\n",
    "    print(k1)\n",
    "    print(k2)\n",
    "def wrap(func): # passing in a partial function\n",
    "    def inner(*args,**kwargs): # since func remember its fixed parameter, \n",
    "        #its wrapper, inner, will also get these fixed parameters\n",
    "        func(*args,**kwargs)        \n",
    "    return inner\n",
    "\n",
    "func3 = partial(show_stuff,k2='YOLO BIATCH') # func3 already remember its fixed parameter here\n",
    "wrap(func3)(3)"
   ]
  },
  {
   "cell_type": "code",
   "execution_count": 71,
   "metadata": {},
   "outputs": [
    {
     "data": {
      "image/png": "[encoded data removed]",
      "text/plain": [
       "<Figure size 864x216 with 4 Axes>"
      ]
     },
     "metadata": {},
     "output_type": "display_data"
    }
   ],
   "source": [
    "_,axes = plt.subplots(1,4, figsize=(12,3))\n",
    "\n",
    "show_image(apply_brightness_contrast(0.75, 0.7)(x()), axes[0]) # less contrast,  brighter\n",
    "show_image(apply_brightness_contrast(1.3,  0.7)(x()), axes[1]) # more contrast, brighter\n",
    "show_image(apply_brightness_contrast(0.75, 0.3)(x()), axes[2]) # less contrast, dimmer\n",
    "show_image(apply_brightness_contrast(1.3,  0.3)(x()), axes[3]) # more contrast, dimmer\n",
    "\n"
   ]
  },
  {
   "cell_type": "markdown",
   "metadata": {},
   "source": [
    "## Random lighting"
   ]
  },
  {
   "cell_type": "markdown",
   "metadata": {},
   "source": [
    "Next, we will make our previous transforms random since we are interested in automatizing the transforms pipeline. We will achieve this by making our parameters stochastic with a specific distribution: uniform for brightness and log_uniform for contrast.\n",
    "\n",
    "We will use a *uniform* distribution for brightness change since its domain is the real numbers and the impact varies linearly with the scale. For contrast we use *log_uniform* for two reasons. First, contrast scale has a domain of [0, inf]. Second, the impact of the scale in the transformation is non-linear (i.e. 0.5 is as extreme as 2.0, 0.2 is as extreme as 5). The log_uniform function is appropriate because it has the same domain and correctly represents the non-linearity of the transform, P(0.5) = P(2)."
   ]
  },
  {
   "cell_type": "code",
   "execution_count": 23,
   "metadata": {},
   "outputs": [
    {
     "data": {
      "text/plain": [
       "<matplotlib.collections.PathCollection at 0x508e748>"
      ]
     },
     "execution_count": 23,
     "metadata": {},
     "output_type": "execute_result"
    },
    {
     "data": {
      "image/png": "[encoded data removed]",
      "text/plain": [
       "<Figure size 864x360 with 3 Axes>"
      ]
     },
     "metadata": {},
     "output_type": "display_data"
    }
   ],
   "source": [
    "# brightness impact varies linearly with scale\n",
    "def logit(x):  return scipy.special.logit(x)\n",
    "def sigmoid(x): return 1 / (1+np.e**(-x))\n",
    "fig,axes = plt.subplots(1,3,figsize=(12,5))\n",
    "pixel=0.2\n",
    "brightness=[i/10 for i in range(10)]\n",
    "pixel_r = [sigmoid(logit(pixel) + logit(i)) for i in brightness]\n",
    "axes[0].scatter(brightness,pixel_r)\n",
    "\n",
    "pixel=0.5\n",
    "brightness=[i/10 for i in range(10)]\n",
    "pixel_r = [sigmoid(logit(pixel) + logit(i)) for i in brightness]\n",
    "axes[1].scatter(brightness,pixel_r)\n",
    "\n",
    "pixel=0.8\n",
    "brightness=[i/10 for i in range(10)]\n",
    "pixel_r = [sigmoid(logit(pixel) + logit(i)) for i in brightness]\n",
    "axes[2].scatter(brightness,pixel_r)"
   ]
  },
  {
   "cell_type": "code",
   "execution_count": 24,
   "metadata": {},
   "outputs": [
    {
     "data": {
      "text/plain": [
       "<matplotlib.collections.PathCollection at 0x19ed8eb8>"
      ]
     },
     "execution_count": 24,
     "metadata": {},
     "output_type": "execute_result"
    },
    {
     "data": {
      "image/png": "[encoded data removed]",
      "text/plain": [
       "<Figure size 1080x360 with 4 Axes>"
      ]
     },
     "metadata": {},
     "output_type": "display_data"
    }
   ],
   "source": [
    "# contrast scales affect pixel differently\n",
    "\n",
    "fig,axes = plt.subplots(1,4,figsize=(15,5),sharey=True)\n",
    "\n",
    "pixel=0.2\n",
    "contrast_scale=np.linspace(0,2,10)\n",
    "pixel_r = [sigmoid(logit(pixel)*i) for i in contrast_scale]\n",
    "axes[0].plot(contrast_scale,[pixel]*len(contrast_scale))\n",
    "axes[0].scatter(contrast_scale,pixel_r)\n",
    "\n",
    "pixel=0.48\n",
    "contrast_scale=np.linspace(0,2,10)\n",
    "pixel_r = [sigmoid(logit(pixel)*i) for i in contrast_scale]\n",
    "axes[1].plot(contrast_scale,[pixel]*len(contrast_scale))\n",
    "axes[1].scatter(contrast_scale,pixel_r)\n",
    "\n",
    "pixel=0.52\n",
    "contrast_scale=np.linspace(0,2,10)\n",
    "pixel_r = [sigmoid(logit(pixel)*i) for i in contrast_scale]\n",
    "axes[2].plot(contrast_scale,[pixel]*len(contrast_scale))\n",
    "axes[2].scatter(contrast_scale,pixel_r)\n",
    "\n",
    "pixel=0.8\n",
    "contrast_scale=np.linspace(0,2,10)\n",
    "pixel_r = [sigmoid(logit(pixel)*i) for i in contrast_scale]\n",
    "axes[3].plot(contrast_scale,[pixel]*len(contrast_scale))\n",
    "axes[3].scatter(contrast_scale,pixel_r)"
   ]
  },
  {
   "cell_type": "code",
   "execution_count": 20,
   "metadata": {},
   "outputs": [],
   "source": [
    "#export\n",
    "def uniform(low, high, size=None):\n",
    "    return random.uniform(low,high) if size is None else torch.FloatTensor(size).uniform_(low,high)\n",
    "\n",
    "def log_uniform(low, high, size=None):\n",
    "    res = uniform(log(low), log(high), size)\n",
    "    return exp(res) if size is None else res.exp_()\n",
    "\n",
    "def rand_bool(p, size=None): return uniform(0,1,size)<p\n"
   ]
  },
  {
   "cell_type": "code",
   "execution_count": 54,
   "metadata": {},
   "outputs": [
    {
     "name": "stdout",
     "output_type": "stream",
     "text": [
      "TfmType.Start\n",
      "TfmType.Affine\n",
      "TfmType.Coord\n",
      "TfmType.Pixel\n",
      "TfmType.Lighting\n"
     ]
    }
   ],
   "source": [
    "for i in TfmType:\n",
    "    print(i)"
   ]
  },
  {
   "cell_type": "code",
   "execution_count": 57,
   "metadata": {},
   "outputs": [
    {
     "data": {
      "image/png": "[encoded data removed]",
      "text/plain": [
       "<Figure size 432x288 with 1 Axes>"
      ]
     },
     "metadata": {},
     "output_type": "display_data"
    }
   ],
   "source": [
    "# log uniformdistribution\n",
    "log_u = [log_uniform(0.5,2.0) for _ in range(1000)]\n",
    "plt.hist(log_u,bins=100);"
   ]
  },
  {
   "cell_type": "code",
   "execution_count": 59,
   "metadata": {},
   "outputs": [
    {
     "data": {
      "image/png": "[encoded data removed]",
      "text/plain": [
       "<Figure size 432x288 with 1 Axes>"
      ]
     },
     "metadata": {},
     "output_type": "display_data"
    }
   ],
   "source": [
    "# standard uniform dist\n",
    "u = [uniform(0.5,2.0) for _ in range(1000)]\n",
    "plt.hist(u,bins=100);"
   ]
  },
  {
   "cell_type": "code",
   "execution_count": 61,
   "metadata": {},
   "outputs": [
    {
     "data": {
      "text/plain": [
       "1.0130243963571068"
      ]
     },
     "execution_count": 61,
     "metadata": {},
     "output_type": "execute_result"
    }
   ],
   "source": [
    "scipy.stats.gmean([log_uniform(0.5,2.0) for _ in range(1000)])"
   ]
  },
  {
   "cell_type": "code",
   "execution_count": 66,
   "metadata": {},
   "outputs": [
    {
     "data": {
      "text/plain": [
       "{'d': 'temp'}"
      ]
     },
     "execution_count": 66,
     "metadata": {},
     "output_type": "execute_result"
    }
   ],
   "source": [
    "def func1(a,b,c:int,d='temp'):\n",
    "    pass\n",
    "get_default_args(func1)"
   ]
  },
  {
   "cell_type": "code",
   "execution_count": 22,
   "metadata": {},
   "outputs": [],
   "source": [
    "from IPython.core.debugger import set_trace"
   ]
  },
  {
   "cell_type": "code",
   "execution_count": 26,
   "metadata": {},
   "outputs": [],
   "source": [
    "#export\n",
    "import inspect\n",
    "from copy import copy,deepcopy\n",
    "\n",
    "def get_default_args(func):\n",
    "    return {k: v.default\n",
    "            for k, v in inspect.signature(func).parameters.items()\n",
    "            if v.default is not inspect.Parameter.empty}\n",
    "\n",
    "class Transform():\n",
    "    def __init__(self, func, p=1., **kwargs):\n",
    "#         set_trace()\n",
    "        # func is the lowest-level tfm function, i.e contrast. Not partial. Input parameters: x (tensor) and a constant (scale)\n",
    "        self.func,self.p,self.kw = func,p,kwargs #self.kw is a dict {tfm_param : (low,high)}, i,e {'scale':(0.3,5)}\n",
    "        self.def_args = get_default_args(func) # get tfm default param in dic {tfm_param: constant}, i.e {'scale':1}\n",
    "        self.params = copy(func.__annotations__)\n",
    "        # i.e for contrast, self.params should be  {'scale': <func to get random scale from log distribution b/t low and high>}\n",
    "        self.params.pop('return') \n",
    "    @property\n",
    "    def name(self): return self.__class__.__name__ # a getter\n",
    "    \n",
    "    def __repr__(self):\n",
    "        return f'{self.func.__name__}_tfm->{self.name}; {self.kw} (p={self.p})'\n",
    "\n",
    "    def resolve(self):\n",
    "        # either get a constant from random distribution or other use case?\n",
    "        self.resolved = {}\n",
    "        for k,v in self.params.items():\n",
    "            if k not in self.kw and k in self.def_args: \n",
    "                # if there is a default param for tfm but it's not specified in self.kw\n",
    "                # TODO: use case for this? Probably when user wants a specific scale for transformation\n",
    "                self.resolved[k] = self.def_args[k]\n",
    "            else: \n",
    "                # k in self.kw or k not in self.def_args\n",
    "                # i.e, right hand side will be log_uniform(*(low,high))\n",
    "                # self.resolved is {'scale': random constant between low and high}\n",
    "                self.resolved[k] = v(*listify(self.kw[k]))\n",
    "        self.do_run = rand_bool(self.p) # boolean, True or False\n",
    "\n",
    "    def __call__(self, x, *args, **kwargs): # function call operator. Called when running tfm = Transform(...); tfm(...)\n",
    "        #execute the lowest-level transform function on x\n",
    "        #for contrast example, only kwargs are passed\n",
    "        return self.func(x, *args, **self.resolved, **kwargs) if self.do_run else x\n",
    "    \n",
    "    def apply(self, tfms=None):\n",
    "        if tfms is None: \n",
    "            # if there is no other tfm is passed, use self (the Transform class itself) as a function (__call__ wil be used)\n",
    "            tfms=self\n",
    "        # execute multiple low-level tfms using compose func. Return transformed x. resolve should be called first?\n",
    "        return compose(tfms)\n",
    "\n",
    "class TfmLighting(Transform):\n",
    "    def apply(self, tfms=None): \n",
    "        # do the logit -> tfm func -> sigmoid for lighting\n",
    "        return apply_lighting(super().apply(tfms))"
   ]
  },
  {
   "cell_type": "code",
   "execution_count": 137,
   "metadata": {},
   "outputs": [],
   "source": [
    "??_apply_lighting"
   ]
  },
  {
   "cell_type": "code",
   "execution_count": 23,
   "metadata": {},
   "outputs": [],
   "source": [
    "def brightness(x, change:uniform) -> TfmLighting:\n",
    "    return x.add_(scipy.special.logit(change))\n",
    "\n",
    "def contrast(x, scale:log_uniform) -> TfmLighting:\n",
    "    return x.mul_(scale)"
   ]
  },
  {
   "cell_type": "code",
   "execution_count": 99,
   "metadata": {},
   "outputs": [
    {
     "data": {
      "text/plain": [
       "{'change': <function __main__.uniform(low, high, size=None)>,\n",
       " 'return': __main__.TfmLighting}"
      ]
     },
     "execution_count": 99,
     "metadata": {},
     "output_type": "execute_result"
    },
    {
     "data": {
      "text/plain": [
       "dict_items([('change', <function uniform at 0x000000001A875510>), ('return', <class '__main__.TfmLighting'>)])"
      ]
     },
     "execution_count": 99,
     "metadata": {},
     "output_type": "execute_result"
    }
   ],
   "source": [
    "brightness.__annotations__\n",
    "brightness.__annotations__.items()"
   ]
  },
  {
   "cell_type": "code",
   "execution_count": 29,
   "metadata": {},
   "outputs": [],
   "source": [
    "x = lambda: train_ds[1][0]"
   ]
  },
  {
   "cell_type": "code",
   "execution_count": 32,
   "metadata": {},
   "outputs": [
    {
     "data": {
      "text/plain": [
       "contrast_tfm->TfmLighting; {'scale': (0.3, 3)} (p=1.0)"
      ]
     },
     "execution_count": 32,
     "metadata": {},
     "output_type": "execute_result"
    },
    {
     "data": {
      "text/plain": [
       "{'scale': 1.749491030001559}"
      ]
     },
     "execution_count": 32,
     "metadata": {},
     "output_type": "execute_result"
    }
   ],
   "source": [
    "contrast_tfm = partial(contrast.__annotations__['return'], contrast)\n",
    "tfm = contrast_tfm(scale=(0.3,3))\n",
    "tfm.resolve()\n",
    "tfm\n",
    "tfm.resolved"
   ]
  },
  {
   "cell_type": "code",
   "execution_count": 33,
   "metadata": {},
   "outputs": [
    {
     "data": {
      "text/plain": [
       "{'scale': 0.6856669270128438}"
      ]
     },
     "execution_count": 33,
     "metadata": {},
     "output_type": "execute_result"
    },
    {
     "data": {
      "image/png": "[encoded data removed]",
      "text/plain": [
       "<Figure size 864x216 with 4 Axes>"
      ]
     },
     "metadata": {},
     "output_type": "display_data"
    }
   ],
   "source": [
    "# all the same\n",
    "tfm.resolve()\n",
    "tfm.resolved\n",
    "_,axes = plt.subplots(1,4, figsize=(12,3))\n",
    "for ax in axes: show_image(tfm.apply()(x()), ax)"
   ]
  },
  {
   "cell_type": "code",
   "execution_count": 121,
   "metadata": {},
   "outputs": [
    {
     "data": {
      "image/png": "[encoded data removed]",
      "text/plain": [
       "<Figure size 864x216 with 4 Axes>"
      ]
     },
     "metadata": {},
     "output_type": "display_data"
    }
   ],
   "source": [
    "tfm = contrast_tfm(scale=(0.3,3), p=0.5)\n",
    "\n",
    "# different\n",
    "_,axes = plt.subplots(1,4, figsize=(12,3))\n",
    "for ax in axes:\n",
    "    tfm.resolve() # whenever this is called, scale gets another random constant is drawed\n",
    "    show_image(apply_lighting(tfm)(x()), ax)"
   ]
  },
  {
   "cell_type": "code",
   "execution_count": 34,
   "metadata": {},
   "outputs": [
    {
     "data": {
      "image/png": "[encoded data removed]",
      "text/plain": [
       "<Figure size 864x216 with 4 Axes>"
      ]
     },
     "metadata": {},
     "output_type": "display_data"
    }
   ],
   "source": [
    "tfm = contrast_tfm(scale=(0.3,3), p=1)\n",
    "\n",
    "_,axes = plt.subplots(1,4, figsize=(12,3))\n",
    "for ax in axes:\n",
    "    tfm.resolve()\n",
    "    show_image(apply_lighting(tfm)(x()), ax)"
   ]
  },
  {
   "cell_type": "markdown",
   "metadata": {},
   "source": [
    "\n",
    "## Decorator and composition"
   ]
  },
  {
   "cell_type": "markdown",
   "metadata": {},
   "source": [
    "We are interested in composing the transform functions so as to apply them all at once. We will try to feed a list of transforms to our pipeline for it to apply all of them.\n",
    "\n",
    "Applying a function to our transforms before calling them in Python is easiest if we use a decorator. You can find more about decorators here.\n",
    "\n",
    "Function decorators: wrappers to existing functions, to add new functionality to existing functions"
   ]
  },
  {
   "cell_type": "code",
   "execution_count": 87,
   "metadata": {},
   "outputs": [
    {
     "name": "stdout",
     "output_type": "stream",
     "text": [
      "<p>lorem ipsum, John dolor sit amet</p>\n"
     ]
    }
   ],
   "source": [
    "def get_text(name):\n",
    "    return \"lorem ipsum, {0} dolor sit amet\".format(name)\n",
    "\n",
    "def p_decorate(func):\n",
    "    def func_wrapper(name):\n",
    "        return \"<p>{0}</p>\".format(func(name))\n",
    "    return func_wrapper\n",
    "\n",
    "get_text = p_decorate(get_text)\n",
    "\n",
    "print(get_text(\"John\"))"
   ]
  },
  {
   "cell_type": "code",
   "execution_count": 91,
   "metadata": {},
   "outputs": [
    {
     "name": "stdout",
     "output_type": "stream",
     "text": [
      "<p>lorem ipsum, John dolor sit amet</p>\n",
      "<p>YO, John IS DOPE</p>\n",
      "<div><p>YO, John IS DOPE</p></div>\n"
     ]
    }
   ],
   "source": [
    "# using decorator:\n",
    "def p_decorate(func):\n",
    "    def func_wrapper(name):\n",
    "        return \"<p>{0}</p>\".format(func(name))\n",
    "    return func_wrapper\n",
    "\n",
    "def div_decorate(func):\n",
    "    def func_wrapper(name):\n",
    "        return \"<div>{0}</div>\".format(func(name))\n",
    "    return func_wrapper\n",
    "@p_decorate\n",
    "def get_text(name):\n",
    "    return \"lorem ipsum, {0} dolor sit amet\".format(name)\n",
    "@p_decorate\n",
    "def get_another_text(name):\n",
    "    return \"YO, {0} IS DOPE\".format(name)\n",
    "\n",
    "print (get_text(\"John\"))\n",
    "print(get_another_text(\"John\"))\n",
    "\n",
    "@div_decorate\n",
    "@p_decorate\n",
    "def get_another_text2(name):\n",
    "    return \"YO, {0} IS DOPE\".format(name)\n",
    "print(get_another_text2('John'))"
   ]
  },
  {
   "cell_type": "markdown",
   "metadata": {},
   "source": [
    "**Continue from here**"
   ]
  },
  {
   "cell_type": "code",
   "execution_count": 123,
   "metadata": {},
   "outputs": [
    {
     "data": {
      "text/plain": [
       "'__main__'"
      ]
     },
     "execution_count": 123,
     "metadata": {},
     "output_type": "execute_result"
    }
   ],
   "source": [
    "contrast.__module__"
   ]
  },
  {
   "cell_type": "code",
   "execution_count": 24,
   "metadata": {},
   "outputs": [],
   "source": [
    "#export\n",
    "def reg_transform(func):\n",
    "    tfm = partial(func.__annotations__['return'], func)\n",
    "    \n",
    "    # change partial function name func_tfm\n",
    "    setattr(sys.modules[func.__module__], f'{func.__name__}_tfm', tfm)\n",
    "    return func\n",
    "\n",
    "@reg_transform\n",
    "def brightness(x, change:uniform) ->TfmLighting: return x.add_(scipy.special.logit(change))\n",
    "\n",
    "@reg_transform\n",
    "def contrast(x, scale:log_uniform)->TfmLighting: return x.mul_(scale)\n",
    "\n"
   ]
  },
  {
   "cell_type": "code",
   "execution_count": 25,
   "metadata": {},
   "outputs": [],
   "source": [
    "def resolve_tfms(tfms):\n",
    "    for f in listify(tfms): f.resolve()\n",
    "\n",
    "def _apply_tfms(x,tfms):\n",
    "    if not tfms: return x\n",
    "    resolve_tfms(tfms) #make sure to 'resolve' (draw a constant from uniform distribution)\n",
    "#     for f in tfms:\n",
    "#         print(f.resolved,f.do_run)\n",
    "\n",
    "    # this is just odd... tfms[0], which is a TfmLighting CLASS, receive a list of other TfmLightingClass into its apply function\n",
    "    return tfms[0].apply(tfms)(x.clone()) \n",
    "    \n",
    "\n",
    "def apply_tfms(tfms): return partial(_apply_tfms, tfms=tfms)"
   ]
  },
  {
   "cell_type": "code",
   "execution_count": 175,
   "metadata": {},
   "outputs": [],
   "source": [
    "??TfmLighting.apply"
   ]
  },
  {
   "cell_type": "code",
   "execution_count": 90,
   "metadata": {},
   "outputs": [
    {
     "data": {
      "image/png": "[encoded data removed]",
      "text/plain": [
       "<Figure size 216x216 with 1 Axes>"
      ]
     },
     "metadata": {},
     "output_type": "display_data"
    }
   ],
   "source": [
    "x = train_ds[1][0]\n",
    "show_image(x)\n",
    "#original"
   ]
  },
  {
   "cell_type": "code",
   "execution_count": 174,
   "metadata": {},
   "outputs": [],
   "source": [
    "??Transform.apply"
   ]
  },
  {
   "cell_type": "code",
   "execution_count": 172,
   "metadata": {},
   "outputs": [],
   "source": [
    "??_apply_tfms"
   ]
  },
  {
   "cell_type": "code",
   "execution_count": 171,
   "metadata": {},
   "outputs": [
    {
     "name": "stdout",
     "output_type": "stream",
     "text": [
      "{'scale': 0.5121735213889604} True\n",
      "{'change': 0.4860031621506206} False\n",
      "{'scale': 1.415747509162914} False\n",
      "{'change': 0.5454761543557511} True\n",
      "{'scale': 2.111201629710358} True\n",
      "{'change': 0.5393430382163225} False\n",
      "{'scale': 1.421424921538738} False\n",
      "{'change': 0.35442093801055985} False\n"
     ]
    },
    {
     "data": {
      "image/png": "[encoded data removed]",
      "text/plain": [
       "<Figure size 864x216 with 4 Axes>"
      ]
     },
     "metadata": {},
     "output_type": "display_data"
    }
   ],
   "source": [
    "tfms = [contrast_tfm(scale=(0.3,3.0), p=0.5),\n",
    "        brightness_tfm(change=(0.35,0.65), p=0.5)]\n",
    "\n",
    "_,axes = plt.subplots(1,4, figsize=(12,3))\n",
    "for ax in axes: show_image(apply_tfms(tfms)(x), ax)\n",
    "# transform image x 4 times with p=1, independently"
   ]
  },
  {
   "cell_type": "code",
   "execution_count": 180,
   "metadata": {},
   "outputs": [
    {
     "data": {
      "image/png": "[encoded data removed]",
      "text/plain": [
       "<Figure size 864x432 with 8 Axes>"
      ]
     },
     "metadata": {},
     "output_type": "display_data"
    }
   ],
   "source": [
    "tfms = [contrast_tfm(scale=(0.3,3.0), p=1),\n",
    "        brightness_tfm(change=(0.35,0.65), p=1)]\n",
    "\n",
    "_,axes = plt.subplots(2,4, figsize=(12,6))\n",
    "for i in range(4):\n",
    "    tfm = apply_tfms(tfms)\n",
    "    show_image(tfm(x), axes[0][i])\n",
    "    show_image(tfm(x), axes[1][i])"
   ]
  },
  {
   "cell_type": "code",
   "execution_count": 181,
   "metadata": {},
   "outputs": [
    {
     "data": {
      "image/png": "[encoded data removed]",
      "text/plain": [
       "<Figure size 216x216 with 1 Axes>"
      ]
     },
     "metadata": {},
     "output_type": "display_data"
    }
   ],
   "source": [
    "show_image(apply_tfms([])(x)) # no transformation"
   ]
  },
  {
   "cell_type": "markdown",
   "metadata": {},
   "source": [
    "# Affine"
   ]
  },
  {
   "cell_type": "markdown",
   "metadata": {},
   "source": [
    "## Deterministic affine"
   ]
  },
  {
   "cell_type": "code",
   "execution_count": 88,
   "metadata": {},
   "outputs": [],
   "source": [
    "#export\n",
    "def grid_sample_nearest(input, coords, padding_mode='zeros'):\n",
    "    if padding_mode=='border': coords.clamp(-1,1)\n",
    "    bs,ch,h,w = input.size()\n",
    "    sz = torch.tensor([w,h]).float()[None,None]\n",
    "    coords.add_(1).mul_(sz/2)\n",
    "    coords = coords[0].round_().long()\n",
    "    if padding_mode=='zeros':\n",
    "        mask = (coords[...,0] < 0) + (coords[...,1] < 0) + (coords[...,0] >= w) + (coords[...,1] >= h)\n",
    "        mask.clamp_(0,1)\n",
    "    coords[...,0].clamp_(0,w-1)\n",
    "    coords[...,1].clamp_(0,h-1)\n",
    "    result = input[...,coords[...,1],coords[...,0]]\n",
    "    if padding_mode=='zeros': result[...,mask] = result[...,mask].zero_()\n",
    "    return result"
   ]
  },
  {
   "cell_type": "code",
   "execution_count": 87,
   "metadata": {},
   "outputs": [],
   "source": [
    "#export\n",
    "def grid_sample(x, coords, mode='bilinear', padding_mode='reflect'):\n",
    "    '''\n",
    "    Given an input and a flow-field grid, \n",
    "    computes the output using input pixel locations from the grid.\n",
    "    '''\n",
    "    if padding_mode=='reflect': padding_mode='reflection'\n",
    "    if mode=='nearest': return grid_sample_nearest(x[None], coords, padding_mode)[0]\n",
    "    return F.grid_sample(x[None], coords, mode=mode, padding_mode=padding_mode)[0]\n",
    "\n",
    "def affine_grid(x, matrix, size=None):\n",
    "    '''\n",
    "    Generates a 2d flow field, given a batch of affine matrices theta.\n",
    "    Generally used in conjunction with grid_sample() to implement Spatial Transformer Networks.\n",
    "    '''\n",
    "    if size is None: size = x.size()\n",
    "    elif isinstance(size, int): size=(x.size(0), size, size)\n",
    "    return F.affine_grid(matrix[None,:2,:], # 3x3 to N x 2 x 3 (N=1)\n",
    "                         torch.Size((1,)+size)) # N x channel x h x w\n",
    "    # return tensor of size N x h x w x 2"
   ]
  },
  {
   "cell_type": "code",
   "execution_count": 91,
   "metadata": {},
   "outputs": [],
   "source": [
    "def rotate(degrees):\n",
    "    angle = degrees * math.pi / 180 # to radian\n",
    "    return [[cos(angle), -sin(angle), 0.],\n",
    "            [sin(angle),  cos(angle), 0.],\n",
    "            [0.        ,  0.        , 1.]]"
   ]
  },
  {
   "cell_type": "code",
   "execution_count": 89,
   "metadata": {},
   "outputs": [
    {
     "data": {
      "text/plain": [
       "torch.Size([1, 3, 32, 32])"
      ]
     },
     "execution_count": 89,
     "metadata": {},
     "output_type": "execute_result"
    }
   ],
   "source": [
    "torch.Size((1,)+x.size())"
   ]
  },
  {
   "cell_type": "code",
   "execution_count": 65,
   "metadata": {},
   "outputs": [
    {
     "data": {
      "text/plain": [
       "'torch.FloatTensor'"
      ]
     },
     "execution_count": 65,
     "metadata": {},
     "output_type": "execute_result"
    },
    {
     "data": {
      "text/plain": [
       "torch.Size([3, 3])"
      ]
     },
     "execution_count": 65,
     "metadata": {},
     "output_type": "execute_result"
    }
   ],
   "source": [
    "m = rotate(10)\n",
    "m = x.new_tensor(m)\n",
    "m.type()\n",
    "m.shape"
   ]
  },
  {
   "cell_type": "code",
   "execution_count": 79,
   "metadata": {},
   "outputs": [
    {
     "data": {
      "text/plain": [
       "torch.Size([1, 32, 32, 2])"
      ]
     },
     "execution_count": 79,
     "metadata": {},
     "output_type": "execute_result"
    }
   ],
   "source": [
    "c = affine_grid(x, m)\n",
    "c.size()"
   ]
  },
  {
   "cell_type": "code",
   "execution_count": 76,
   "metadata": {},
   "outputs": [
    {
     "data": {
      "image/png": "[encoded data removed]",
      "text/plain": [
       "<Figure size 216x216 with 1 Axes>"
      ]
     },
     "metadata": {},
     "output_type": "display_data"
    }
   ],
   "source": [
    "# c = affine_grid(x, m)\n",
    "img2 = grid_sample(x, c, padding_mode='zeros')\n",
    "show_image(img2)"
   ]
  },
  {
   "cell_type": "code",
   "execution_count": 35,
   "metadata": {},
   "outputs": [
    {
     "data": {
      "image/png": "[encoded data removed]",
      "text/plain": [
       "<Figure size 216x216 with 1 Axes>"
      ]
     },
     "metadata": {},
     "output_type": "display_data"
    }
   ],
   "source": [
    "m = rotate(16)\n",
    "m = x.new_tensor(m)\n",
    "c = affine_grid(x, m)\n",
    "img2 = grid_sample(x, c, padding_mode='zeros')\n",
    "show_image(img2)"
   ]
  },
  {
   "cell_type": "code",
   "execution_count": 92,
   "metadata": {},
   "outputs": [],
   "source": [
    "#export\n",
    "def affines_mat(img, matrices=None):\n",
    "    matrices = [img.new_tensor(m) for m in matrices if m is not None]\n",
    "    if not matrices: return None\n",
    "    return reduce(torch.matmul, matrices, torch.eye(3))\n",
    "\n",
    "def affine_mult(c,m):\n",
    "    if m is None: return c\n",
    "    size = c.size()\n",
    "    c = c.view(-1,2)\n",
    "    c = torch.addmm(m[:2,2], c,  m[:2,:2].t()) \n",
    "    return c.view(size)\n",
    "\n",
    "def _apply_affine(c, size=None, mats=None, func=None, **kwargs):\n",
    "    return affine_mult(c, affines_mat(c, mats))\n",
    "\n",
    "def apply_affine(mats): return partial(_apply_affine, mats=mats)\n",
    "\n",
    "def affine_only(x, mats, size=None, **kwargs):\n",
    "    tfm = apply_affine(mats)\n",
    "    c = affine_grid(x, torch.eye(3), size=size)\n",
    "    c = tfm(c)\n",
    "    return grid_sample(x, c, **kwargs)"
   ]
  },
  {
   "cell_type": "code",
   "execution_count": 93,
   "metadata": {},
   "outputs": [
    {
     "ename": "ValueError",
     "evalue": "padding_mode needs to be 'zeros' or 'border', but got reflection",
     "output_type": "error",
     "traceback": [
      "\u001b[0;31m---------------------------------------------------------------------------\u001b[0m",
      "\u001b[0;31mValueError\u001b[0m                                Traceback (most recent call last)",
      "\u001b[0;32m<ipython-input-93-eec5894e1619>\u001b[0m in \u001b[0;36m<module>\u001b[0;34m()\u001b[0m\n\u001b[0;32m----> 1\u001b[0;31m \u001b[0mimg2\u001b[0m \u001b[0;34m=\u001b[0m \u001b[0maffine_only\u001b[0m\u001b[0;34m(\u001b[0m\u001b[0mx\u001b[0m\u001b[0;34m,\u001b[0m \u001b[0;34m[\u001b[0m\u001b[0mrotate\u001b[0m\u001b[0;34m(\u001b[0m\u001b[0;36m30\u001b[0m\u001b[0;34m)\u001b[0m\u001b[0;34m]\u001b[0m\u001b[0;34m)\u001b[0m\u001b[0;34m\u001b[0m\u001b[0m\n\u001b[0m\u001b[1;32m      2\u001b[0m \u001b[0mshow_image\u001b[0m\u001b[0;34m(\u001b[0m\u001b[0mimg2\u001b[0m\u001b[0;34m)\u001b[0m\u001b[0;34m\u001b[0m\u001b[0m\n",
      "\u001b[0;32m<ipython-input-92-6b5d6eef9ac3>\u001b[0m in \u001b[0;36maffine_only\u001b[0;34m(x, mats, size, **kwargs)\u001b[0m\n\u001b[1;32m     21\u001b[0m     \u001b[0mc\u001b[0m \u001b[0;34m=\u001b[0m \u001b[0maffine_grid\u001b[0m\u001b[0;34m(\u001b[0m\u001b[0mx\u001b[0m\u001b[0;34m,\u001b[0m \u001b[0mtorch\u001b[0m\u001b[0;34m.\u001b[0m\u001b[0meye\u001b[0m\u001b[0;34m(\u001b[0m\u001b[0;36m3\u001b[0m\u001b[0;34m)\u001b[0m\u001b[0;34m,\u001b[0m \u001b[0msize\u001b[0m\u001b[0;34m=\u001b[0m\u001b[0msize\u001b[0m\u001b[0;34m)\u001b[0m\u001b[0;34m\u001b[0m\u001b[0m\n\u001b[1;32m     22\u001b[0m     \u001b[0mc\u001b[0m \u001b[0;34m=\u001b[0m \u001b[0mtfm\u001b[0m\u001b[0;34m(\u001b[0m\u001b[0mc\u001b[0m\u001b[0;34m)\u001b[0m\u001b[0;34m\u001b[0m\u001b[0m\n\u001b[0;32m---> 23\u001b[0;31m     \u001b[0;32mreturn\u001b[0m \u001b[0mgrid_sample\u001b[0m\u001b[0;34m(\u001b[0m\u001b[0mx\u001b[0m\u001b[0;34m,\u001b[0m \u001b[0mc\u001b[0m\u001b[0;34m,\u001b[0m \u001b[0;34m**\u001b[0m\u001b[0mkwargs\u001b[0m\u001b[0;34m)\u001b[0m\u001b[0;34m\u001b[0m\u001b[0m\n\u001b[0m",
      "\u001b[0;32m<ipython-input-87-02ed8ce2f5a8>\u001b[0m in \u001b[0;36mgrid_sample\u001b[0;34m(x, coords, mode, padding_mode)\u001b[0m\n\u001b[1;32m      7\u001b[0m     \u001b[0;32mif\u001b[0m \u001b[0mpadding_mode\u001b[0m\u001b[0;34m==\u001b[0m\u001b[0;34m'reflect'\u001b[0m\u001b[0;34m:\u001b[0m \u001b[0mpadding_mode\u001b[0m\u001b[0;34m=\u001b[0m\u001b[0;34m'reflection'\u001b[0m\u001b[0;34m\u001b[0m\u001b[0m\n\u001b[1;32m      8\u001b[0m     \u001b[0;32mif\u001b[0m \u001b[0mmode\u001b[0m\u001b[0;34m==\u001b[0m\u001b[0;34m'nearest'\u001b[0m\u001b[0;34m:\u001b[0m \u001b[0;32mreturn\u001b[0m \u001b[0mgrid_sample_nearest\u001b[0m\u001b[0;34m(\u001b[0m\u001b[0mx\u001b[0m\u001b[0;34m[\u001b[0m\u001b[0;32mNone\u001b[0m\u001b[0;34m]\u001b[0m\u001b[0;34m,\u001b[0m \u001b[0mcoords\u001b[0m\u001b[0;34m,\u001b[0m \u001b[0mpadding_mode\u001b[0m\u001b[0;34m)\u001b[0m\u001b[0;34m[\u001b[0m\u001b[0;36m0\u001b[0m\u001b[0;34m]\u001b[0m\u001b[0;34m\u001b[0m\u001b[0m\n\u001b[0;32m----> 9\u001b[0;31m     \u001b[0;32mreturn\u001b[0m \u001b[0mF\u001b[0m\u001b[0;34m.\u001b[0m\u001b[0mgrid_sample\u001b[0m\u001b[0;34m(\u001b[0m\u001b[0mx\u001b[0m\u001b[0;34m[\u001b[0m\u001b[0;32mNone\u001b[0m\u001b[0;34m]\u001b[0m\u001b[0;34m,\u001b[0m \u001b[0mcoords\u001b[0m\u001b[0;34m,\u001b[0m \u001b[0mmode\u001b[0m\u001b[0;34m=\u001b[0m\u001b[0mmode\u001b[0m\u001b[0;34m,\u001b[0m \u001b[0mpadding_mode\u001b[0m\u001b[0;34m=\u001b[0m\u001b[0mpadding_mode\u001b[0m\u001b[0;34m)\u001b[0m\u001b[0;34m[\u001b[0m\u001b[0;36m0\u001b[0m\u001b[0;34m]\u001b[0m\u001b[0;34m\u001b[0m\u001b[0m\n\u001b[0m\u001b[1;32m     10\u001b[0m \u001b[0;34m\u001b[0m\u001b[0m\n\u001b[1;32m     11\u001b[0m \u001b[0;32mdef\u001b[0m \u001b[0maffine_grid\u001b[0m\u001b[0;34m(\u001b[0m\u001b[0mx\u001b[0m\u001b[0;34m,\u001b[0m \u001b[0mmatrix\u001b[0m\u001b[0;34m,\u001b[0m \u001b[0msize\u001b[0m\u001b[0;34m=\u001b[0m\u001b[0;32mNone\u001b[0m\u001b[0;34m)\u001b[0m\u001b[0;34m:\u001b[0m\u001b[0;34m\u001b[0m\u001b[0m\n",
      "\u001b[0;32m~/anaconda3/envs/py37/lib/python3.7/site-packages/torch/nn/functional.py\u001b[0m in \u001b[0;36mgrid_sample\u001b[0;34m(input, grid, mode, padding_mode)\u001b[0m\n\u001b[1;32m   2090\u001b[0m         \u001b[0mpadding_mode\u001b[0m \u001b[0;34m=\u001b[0m \u001b[0mGRID_SAMPLE_MODE_BORDER\u001b[0m\u001b[0;34m\u001b[0m\u001b[0m\n\u001b[1;32m   2091\u001b[0m     \u001b[0;32melse\u001b[0m\u001b[0;34m:\u001b[0m\u001b[0;34m\u001b[0m\u001b[0m\n\u001b[0;32m-> 2092\u001b[0;31m         \u001b[0;32mraise\u001b[0m \u001b[0mValueError\u001b[0m\u001b[0;34m(\u001b[0m\u001b[0;34m\"padding_mode needs to be 'zeros' or 'border', but got {}\"\u001b[0m\u001b[0;34m.\u001b[0m\u001b[0mformat\u001b[0m\u001b[0;34m(\u001b[0m\u001b[0mpadding_mode\u001b[0m\u001b[0;34m)\u001b[0m\u001b[0;34m)\u001b[0m\u001b[0;34m\u001b[0m\u001b[0m\n\u001b[0m\u001b[1;32m   2093\u001b[0m     \u001b[0;32mreturn\u001b[0m \u001b[0mtorch\u001b[0m\u001b[0;34m.\u001b[0m\u001b[0mgrid_sampler\u001b[0m\u001b[0;34m(\u001b[0m\u001b[0minput\u001b[0m\u001b[0;34m,\u001b[0m \u001b[0mgrid\u001b[0m\u001b[0;34m,\u001b[0m \u001b[0mpadding_mode\u001b[0m\u001b[0;34m)\u001b[0m\u001b[0;34m\u001b[0m\u001b[0m\n\u001b[1;32m   2094\u001b[0m \u001b[0;34m\u001b[0m\u001b[0m\n",
      "\u001b[0;31mValueError\u001b[0m: padding_mode needs to be 'zeros' or 'border', but got reflection"
     ]
    }
   ],
   "source": [
    "img2 = affine_only(x, [rotate(30)])\n",
    "show_image(img2)"
   ]
  },
  {
   "cell_type": "code",
   "execution_count": 94,
   "metadata": {},
   "outputs": [],
   "source": [
    "def zoom(scale: uniform, row_pct=0.5, col_pct=0.5):\n",
    "    s = 1-1/scale\n",
    "    col_c = s * (2*col_pct - 1)\n",
    "    row_c = s * (2*row_pct - 1)\n",
    "    return [[1/scale, 0,       col_c],\n",
    "            [0,       1/scale, row_c],\n",
    "            [0,       0,       1.    ]]"
   ]
  },
  {
   "cell_type": "code",
   "execution_count": 96,
   "metadata": {},
   "outputs": [
    {
     "ename": "ValueError",
     "evalue": "padding_mode needs to be 'zeros' or 'border', but got reflection",
     "output_type": "error",
     "traceback": [
      "\u001b[0;31m---------------------------------------------------------------------------\u001b[0m",
      "\u001b[0;31mValueError\u001b[0m                                Traceback (most recent call last)",
      "\u001b[0;32m<ipython-input-96-563f75d1d558>\u001b[0m in \u001b[0;36m<module>\u001b[0;34m()\u001b[0m\n\u001b[0;32m----> 1\u001b[0;31m \u001b[0mshow_image\u001b[0m\u001b[0;34m(\u001b[0m\u001b[0maffine_only\u001b[0m\u001b[0;34m(\u001b[0m\u001b[0mx\u001b[0m\u001b[0;34m,\u001b[0m \u001b[0;34m[\u001b[0m\u001b[0mzoom\u001b[0m\u001b[0;34m(\u001b[0m\u001b[0;36m0.6\u001b[0m\u001b[0;34m)\u001b[0m\u001b[0;34m]\u001b[0m\u001b[0;34m)\u001b[0m\u001b[0;34m)\u001b[0m\u001b[0;34m\u001b[0m\u001b[0m\n\u001b[0m",
      "\u001b[0;32m<ipython-input-92-6b5d6eef9ac3>\u001b[0m in \u001b[0;36maffine_only\u001b[0;34m(x, mats, size, **kwargs)\u001b[0m\n\u001b[1;32m     21\u001b[0m     \u001b[0mc\u001b[0m \u001b[0;34m=\u001b[0m \u001b[0maffine_grid\u001b[0m\u001b[0;34m(\u001b[0m\u001b[0mx\u001b[0m\u001b[0;34m,\u001b[0m \u001b[0mtorch\u001b[0m\u001b[0;34m.\u001b[0m\u001b[0meye\u001b[0m\u001b[0;34m(\u001b[0m\u001b[0;36m3\u001b[0m\u001b[0;34m)\u001b[0m\u001b[0;34m,\u001b[0m \u001b[0msize\u001b[0m\u001b[0;34m=\u001b[0m\u001b[0msize\u001b[0m\u001b[0;34m)\u001b[0m\u001b[0;34m\u001b[0m\u001b[0m\n\u001b[1;32m     22\u001b[0m     \u001b[0mc\u001b[0m \u001b[0;34m=\u001b[0m \u001b[0mtfm\u001b[0m\u001b[0;34m(\u001b[0m\u001b[0mc\u001b[0m\u001b[0;34m)\u001b[0m\u001b[0;34m\u001b[0m\u001b[0m\n\u001b[0;32m---> 23\u001b[0;31m     \u001b[0;32mreturn\u001b[0m \u001b[0mgrid_sample\u001b[0m\u001b[0;34m(\u001b[0m\u001b[0mx\u001b[0m\u001b[0;34m,\u001b[0m \u001b[0mc\u001b[0m\u001b[0;34m,\u001b[0m \u001b[0;34m**\u001b[0m\u001b[0mkwargs\u001b[0m\u001b[0;34m)\u001b[0m\u001b[0;34m\u001b[0m\u001b[0m\n\u001b[0m",
      "\u001b[0;32m<ipython-input-87-02ed8ce2f5a8>\u001b[0m in \u001b[0;36mgrid_sample\u001b[0;34m(x, coords, mode, padding_mode)\u001b[0m\n\u001b[1;32m      7\u001b[0m     \u001b[0;32mif\u001b[0m \u001b[0mpadding_mode\u001b[0m\u001b[0;34m==\u001b[0m\u001b[0;34m'reflect'\u001b[0m\u001b[0;34m:\u001b[0m \u001b[0mpadding_mode\u001b[0m\u001b[0;34m=\u001b[0m\u001b[0;34m'reflection'\u001b[0m\u001b[0;34m\u001b[0m\u001b[0m\n\u001b[1;32m      8\u001b[0m     \u001b[0;32mif\u001b[0m \u001b[0mmode\u001b[0m\u001b[0;34m==\u001b[0m\u001b[0;34m'nearest'\u001b[0m\u001b[0;34m:\u001b[0m \u001b[0;32mreturn\u001b[0m \u001b[0mgrid_sample_nearest\u001b[0m\u001b[0;34m(\u001b[0m\u001b[0mx\u001b[0m\u001b[0;34m[\u001b[0m\u001b[0;32mNone\u001b[0m\u001b[0;34m]\u001b[0m\u001b[0;34m,\u001b[0m \u001b[0mcoords\u001b[0m\u001b[0;34m,\u001b[0m \u001b[0mpadding_mode\u001b[0m\u001b[0;34m)\u001b[0m\u001b[0;34m[\u001b[0m\u001b[0;36m0\u001b[0m\u001b[0;34m]\u001b[0m\u001b[0;34m\u001b[0m\u001b[0m\n\u001b[0;32m----> 9\u001b[0;31m     \u001b[0;32mreturn\u001b[0m \u001b[0mF\u001b[0m\u001b[0;34m.\u001b[0m\u001b[0mgrid_sample\u001b[0m\u001b[0;34m(\u001b[0m\u001b[0mx\u001b[0m\u001b[0;34m[\u001b[0m\u001b[0;32mNone\u001b[0m\u001b[0;34m]\u001b[0m\u001b[0;34m,\u001b[0m \u001b[0mcoords\u001b[0m\u001b[0;34m,\u001b[0m \u001b[0mmode\u001b[0m\u001b[0;34m=\u001b[0m\u001b[0mmode\u001b[0m\u001b[0;34m,\u001b[0m \u001b[0mpadding_mode\u001b[0m\u001b[0;34m=\u001b[0m\u001b[0mpadding_mode\u001b[0m\u001b[0;34m)\u001b[0m\u001b[0;34m[\u001b[0m\u001b[0;36m0\u001b[0m\u001b[0;34m]\u001b[0m\u001b[0;34m\u001b[0m\u001b[0m\n\u001b[0m\u001b[1;32m     10\u001b[0m \u001b[0;34m\u001b[0m\u001b[0m\n\u001b[1;32m     11\u001b[0m \u001b[0;32mdef\u001b[0m \u001b[0maffine_grid\u001b[0m\u001b[0;34m(\u001b[0m\u001b[0mx\u001b[0m\u001b[0;34m,\u001b[0m \u001b[0mmatrix\u001b[0m\u001b[0;34m,\u001b[0m \u001b[0msize\u001b[0m\u001b[0;34m=\u001b[0m\u001b[0;32mNone\u001b[0m\u001b[0;34m)\u001b[0m\u001b[0;34m:\u001b[0m\u001b[0;34m\u001b[0m\u001b[0m\n",
      "\u001b[0;32m~/anaconda3/envs/py37/lib/python3.7/site-packages/torch/nn/functional.py\u001b[0m in \u001b[0;36mgrid_sample\u001b[0;34m(input, grid, mode, padding_mode)\u001b[0m\n\u001b[1;32m   2090\u001b[0m         \u001b[0mpadding_mode\u001b[0m \u001b[0;34m=\u001b[0m \u001b[0mGRID_SAMPLE_MODE_BORDER\u001b[0m\u001b[0;34m\u001b[0m\u001b[0m\n\u001b[1;32m   2091\u001b[0m     \u001b[0;32melse\u001b[0m\u001b[0;34m:\u001b[0m\u001b[0;34m\u001b[0m\u001b[0m\n\u001b[0;32m-> 2092\u001b[0;31m         \u001b[0;32mraise\u001b[0m \u001b[0mValueError\u001b[0m\u001b[0;34m(\u001b[0m\u001b[0;34m\"padding_mode needs to be 'zeros' or 'border', but got {}\"\u001b[0m\u001b[0;34m.\u001b[0m\u001b[0mformat\u001b[0m\u001b[0;34m(\u001b[0m\u001b[0mpadding_mode\u001b[0m\u001b[0;34m)\u001b[0m\u001b[0;34m)\u001b[0m\u001b[0;34m\u001b[0m\u001b[0m\n\u001b[0m\u001b[1;32m   2093\u001b[0m     \u001b[0;32mreturn\u001b[0m \u001b[0mtorch\u001b[0m\u001b[0;34m.\u001b[0m\u001b[0mgrid_sampler\u001b[0m\u001b[0;34m(\u001b[0m\u001b[0minput\u001b[0m\u001b[0;34m,\u001b[0m \u001b[0mgrid\u001b[0m\u001b[0;34m,\u001b[0m \u001b[0mpadding_mode\u001b[0m\u001b[0;34m)\u001b[0m\u001b[0;34m\u001b[0m\u001b[0m\n\u001b[1;32m   2094\u001b[0m \u001b[0;34m\u001b[0m\u001b[0m\n",
      "\u001b[0;31mValueError\u001b[0m: padding_mode needs to be 'zeros' or 'border', but got reflection"
     ]
    }
   ],
   "source": [
    "show_image(affine_only(x, [zoom(0.6)]))"
   ]
  }
 ],
 "metadata": {
  "kernelspec": {
   "display_name": "py37",
   "language": "python",
   "name": "py37"
  },
  "language_info": {
   "codemirror_mode": {
    "name": "ipython",
    "version": 3
   },
   "file_extension": ".py",
   "mimetype": "text/x-python",
   "name": "python",
   "nbconvert_exporter": "python",
   "pygments_lexer": "ipython3",
   "version": "3.7.0"
  },
  "varInspector": {
   "cols": {
    "lenName": 16,
    "lenType": 16,
    "lenVar": 40
   },
   "kernels_config": {
    "python": {
     "delete_cmd_postfix": "",
     "delete_cmd_prefix": "del ",
     "library": "var_list.py",
     "varRefreshCmd": "print(var_dic_list())"
    },
    "r": {
     "delete_cmd_postfix": ") ",
     "delete_cmd_prefix": "rm(",
     "library": "var_list.r",
     "varRefreshCmd": "cat(var_dic_list()) "
    }
   },
   "types_to_exclude": [
    "module",
    "function",
    "builtin_function_or_method",
    "instance",
    "_Feature"
   ],
   "window_display": false
  }
 },
 "nbformat": 4,
 "nbformat_minor": 2
}
