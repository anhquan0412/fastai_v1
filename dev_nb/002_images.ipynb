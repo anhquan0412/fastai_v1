{
 "cells": [
  {
   "cell_type": "code",
   "execution_count": 1,
   "metadata": {},
   "outputs": [],
   "source": [
    "%load_ext autoreload\n",
    "%autoreload 2"
   ]
  },
  {
   "cell_type": "code",
   "execution_count": 2,
   "metadata": {},
   "outputs": [
    {
     "data": {
      "text/plain": [
       "'3.7.0 (default, Jun 28 2018, 13:15:42) \\n[GCC 7.2.0]'"
      ]
     },
     "execution_count": 2,
     "metadata": {},
     "output_type": "execute_result"
    },
    {
     "data": {
      "text/plain": [
       "sys.version_info(major=3, minor=7, micro=0, releaselevel='final', serial=0)"
      ]
     },
     "execution_count": 2,
     "metadata": {},
     "output_type": "execute_result"
    }
   ],
   "source": [
    "import sys\n",
    "sys.version\n",
    "sys.version_info"
   ]
  },
  {
   "cell_type": "code",
   "execution_count": 3,
   "metadata": {},
   "outputs": [],
   "source": [
    "#export\n",
    "from nb_001b import *\n",
    "import sys, PIL, matplotlib.pyplot as plt, itertools, math, random, collections, torch\n",
    "import scipy.stats, scipy.special\n",
    "\n",
    "from enum import Enum, IntEnum\n",
    "from torch import tensor, FloatTensor, LongTensor, ByteTensor, DoubleTensor, HalfTensor, ShortTensor\n",
    "from operator import itemgetter, attrgetter\n",
    "from numpy import cos, sin, tan, tanh, log, exp\n",
    "\n",
    "from functools import reduce\n",
    "from collections import defaultdict, abc, namedtuple, Iterable\n",
    "from PIL import Image"
   ]
  },
  {
   "cell_type": "markdown",
   "metadata": {},
   "source": [
    "# CIFAR subset data"
   ]
  },
  {
   "cell_type": "markdown",
   "metadata": {},
   "source": [
    "First we want to view our data to check if everything is how we expect it to be."
   ]
  },
  {
   "cell_type": "markdown",
   "metadata": {},
   "source": [
    "## Setup"
   ]
  },
  {
   "cell_type": "code",
   "execution_count": 5,
   "metadata": {},
   "outputs": [],
   "source": [
    "DATA_PATH = Path('data')\n",
    "PATH = DATA_PATH/'cifar10_dog_air'\n",
    "TRAIN_PATH = PATH/'train'"
   ]
  },
  {
   "cell_type": "code",
   "execution_count": 6,
   "metadata": {},
   "outputs": [
    {
     "data": {
      "image/png": "[encoded data removed]",
      "text/plain": [
       "<PIL.Image.Image image mode=RGB size=256x256 at 0x7F4EB5D7A390>"
      ]
     },
     "execution_count": 6,
     "metadata": {},
     "output_type": "execute_result"
    }
   ],
   "source": [
    "dog_fn = list((TRAIN_PATH/'dog').iterdir())[0]\n",
    "dog_image = Image.open(dog_fn)\n",
    "dog_image.resize((256,256))"
   ]
  },
  {
   "cell_type": "code",
   "execution_count": 7,
   "metadata": {},
   "outputs": [
    {
     "data": {
      "image/png": "[encoded data removed]",
      "text/plain": [
       "<PIL.Image.Image image mode=RGB size=256x256 at 0x7F4E3CAF9CC0>"
      ]
     },
     "execution_count": 7,
     "metadata": {},
     "output_type": "execute_result"
    }
   ],
   "source": [
    "air_fn = list((TRAIN_PATH/'airplane').iterdir())[0]\n",
    "air_image = Image.open(air_fn)\n",
    "air_image.resize((256,256))"
   ]
  },
  {
   "cell_type": "markdown",
   "metadata": {},
   "source": [
    "## Simple Dataset/Dataloader"
   ]
  },
  {
   "cell_type": "markdown",
   "metadata": {},
   "source": [
    "We will build a Dataset class for our image files. A Dataset class needs to have two functions: length and get-item. Our FilesDataset additionally gets the image files from their respective directories and transforms them to tensors."
   ]
  },
  {
   "cell_type": "code",
   "execution_count": 8,
   "metadata": {},
   "outputs": [
    {
     "data": {
      "text/plain": [
       "[PosixPath('data/cifar10_dog_air/train/dog'),\n",
       " PosixPath('data/cifar10_dog_air/train/airplane')]"
      ]
     },
     "execution_count": 8,
     "metadata": {},
     "output_type": "execute_result"
    },
    {
     "data": {
      "text/plain": [
       "True"
      ]
     },
     "execution_count": 8,
     "metadata": {},
     "output_type": "execute_result"
    }
   ],
   "source": [
    "list((TRAIN_PATH).iterdir())\n",
    "list((TRAIN_PATH).iterdir())[0].is_dir()"
   ]
  },
  {
   "cell_type": "code",
   "execution_count": 10,
   "metadata": {},
   "outputs": [],
   "source": [
    "#export\n",
    "def find_classes(folder):\n",
    "    # return class list\n",
    "    classes = [d for d in folder.iterdir()\n",
    "               if d.is_dir() and not d.name.startswith('.')]\n",
    "    assert(len(classes)>0)\n",
    "    return sorted(classes, key=lambda d: d.name)\n",
    "\n",
    "def get_image_files(c):\n",
    "    # get all image file name from class\n",
    "    return [o for o in c.iterdir()\n",
    "            if not o.name.startswith('.') and not o.is_dir()]\n",
    "\n",
    "def pil2tensor(image):\n",
    "    arr = torch.ByteTensor(torch.ByteStorage.from_buffer(image.tobytes()))\n",
    "    arr = arr.view(image.size[1], image.size[0], -1) # height x width x channels\n",
    "    arr = arr.permute(2,0,1) # channels x height x width\n",
    "    return arr.float().div_(255) # normalize between 0 and 1"
   ]
  },
  {
   "cell_type": "code",
   "execution_count": 11,
   "metadata": {},
   "outputs": [],
   "source": [
    "#export\n",
    "class FilesDataset(Dataset):\n",
    "    def __init__(self, folder, classes=None):\n",
    "        # var: X:filenames,y:class (number), class (name)\n",
    "        self.fns, self.y = [], []\n",
    "        if classes is None: classes = [cls.name for cls in find_classes(folder)]\n",
    "        self.classes = classes\n",
    "        for i, cls in enumerate(classes):\n",
    "            fnames = get_image_files(folder/cls)\n",
    "            self.fns += fnames\n",
    "            self.y += [i] * len(fnames)\n",
    "        \n",
    "    def __len__(self): return len(self.fns)\n",
    "\n",
    "    def __getitem__(self,i):\n",
    "        x = PIL.Image.open(self.fns[i]).convert('RGB')\n",
    "        return pil2tensor(x),self.y[i]"
   ]
  },
  {
   "cell_type": "code",
   "execution_count": 12,
   "metadata": {},
   "outputs": [],
   "source": [
    "train_ds = FilesDataset(PATH/'train')\n",
    "valid_ds = FilesDataset(PATH/'test')"
   ]
  },
  {
   "cell_type": "code",
   "execution_count": 13,
   "metadata": {},
   "outputs": [
    {
     "data": {
      "text/plain": [
       "['airplane', 'dog']"
      ]
     },
     "execution_count": 13,
     "metadata": {},
     "output_type": "execute_result"
    }
   ],
   "source": [
    "train_ds.classes"
   ]
  },
  {
   "cell_type": "code",
   "execution_count": 23,
   "metadata": {},
   "outputs": [],
   "source": [
    "x = PIL.Image.open(train_ds.fns[0]).convert('RGB')"
   ]
  },
  {
   "cell_type": "code",
   "execution_count": 24,
   "metadata": {},
   "outputs": [
    {
     "data": {
      "image/png": "[encoded data removed]",
      "text/plain": [
       "<PIL.Image.Image image mode=RGB size=32x32 at 0x7F4E3AB14B38>"
      ]
     },
     "execution_count": 24,
     "metadata": {},
     "output_type": "execute_result"
    },
    {
     "data": {
      "text/plain": [
       "PIL.Image.Image"
      ]
     },
     "execution_count": 24,
     "metadata": {},
     "output_type": "execute_result"
    },
    {
     "data": {
      "text/plain": [
       "(32, 32)"
      ]
     },
     "execution_count": 24,
     "metadata": {},
     "output_type": "execute_result"
    },
    {
     "name": "stdout",
     "output_type": "stream",
     "text": [
      "convert to bytes -> tensor\n"
     ]
    },
    {
     "data": {
      "text/plain": [
       "3072"
      ]
     },
     "execution_count": 24,
     "metadata": {},
     "output_type": "execute_result"
    }
   ],
   "source": [
    "x\n",
    "type(x)\n",
    "x.size\n",
    "\n",
    "print('convert to bytes -> tensor')\n",
    "\n",
    "temp=torch.ByteStorage(x.tobytes())\n",
    "temp.size()\n",
    "temp2=torch.ByteTensor(temp).view(x.size[1],x.size[0],-1)"
   ]
  },
  {
   "cell_type": "code",
   "execution_count": 25,
   "metadata": {},
   "outputs": [
    {
     "data": {
      "text/plain": [
       "torch.Size([32, 32, 3])"
      ]
     },
     "execution_count": 25,
     "metadata": {},
     "output_type": "execute_result"
    }
   ],
   "source": [
    "temp2.size()"
   ]
  },
  {
   "cell_type": "code",
   "execution_count": 14,
   "metadata": {},
   "outputs": [
    {
     "data": {
      "text/plain": [
       "[PosixPath('data/cifar10_dog_air/train/airplane/5665_airplane.png'),\n",
       " PosixPath('data/cifar10_dog_air/train/airplane/42446_airplane.png'),\n",
       " PosixPath('data/cifar10_dog_air/train/airplane/43184_airplane.png'),\n",
       " PosixPath('data/cifar10_dog_air/train/airplane/7930_airplane.png'),\n",
       " PosixPath('data/cifar10_dog_air/train/airplane/30257_airplane.png')]"
      ]
     },
     "execution_count": 14,
     "metadata": {},
     "output_type": "execute_result"
    },
    {
     "data": {
      "text/plain": [
       "[0, 0, 0, 0, 0]"
      ]
     },
     "execution_count": 14,
     "metadata": {},
     "output_type": "execute_result"
    }
   ],
   "source": [
    "train_ds.fns[:5]\n",
    "train_ds.y[:5]"
   ]
  },
  {
   "cell_type": "code",
   "execution_count": 15,
   "metadata": {},
   "outputs": [
    {
     "data": {
      "text/plain": [
       "torch.Size([3, 32, 32])"
      ]
     },
     "execution_count": 15,
     "metadata": {},
     "output_type": "execute_result"
    }
   ],
   "source": [
    "train_ds[0][0].size()"
   ]
  },
  {
   "cell_type": "code",
   "execution_count": 16,
   "metadata": {},
   "outputs": [
    {
     "data": {
      "text/plain": [
       "(10000, 2000)"
      ]
     },
     "execution_count": 16,
     "metadata": {},
     "output_type": "execute_result"
    }
   ],
   "source": [
    "len(train_ds), len(valid_ds)"
   ]
  },
  {
   "cell_type": "code",
   "execution_count": 17,
   "metadata": {},
   "outputs": [],
   "source": [
    "#export\n",
    "def image2np(image): \n",
    "    # convert float tensor (between 0 and 1) back to normal picture (0 to 255, height x width x channels)\n",
    "    return image.cpu().permute(1,2,0).numpy()"
   ]
  },
  {
   "cell_type": "code",
   "execution_count": 37,
   "metadata": {},
   "outputs": [
    {
     "data": {
      "text/plain": [
       "'torch.FloatTensor'"
      ]
     },
     "execution_count": 37,
     "metadata": {},
     "output_type": "execute_result"
    },
    {
     "data": {
      "text/plain": [
       "torch.Size([3, 32, 32])"
      ]
     },
     "execution_count": 37,
     "metadata": {},
     "output_type": "execute_result"
    },
    {
     "data": {
      "text/plain": [
       "tensor([[[0.7686, 0.7412, 0.7569,  ..., 0.8353, 0.8353, 0.8431],\n",
       "         [0.8039, 0.7804, 0.7922,  ..., 0.8510, 0.8431, 0.8510],\n",
       "         [0.8118, 0.7843, 0.8000,  ..., 0.8314, 0.8275, 0.8314],\n",
       "         ...,\n",
       "         [0.8980, 0.8588, 0.8627,  ..., 0.9255, 0.9216, 0.9255],\n",
       "         [0.8235, 0.7725, 0.8078,  ..., 0.8941, 0.9059, 0.9176],\n",
       "         [0.7490, 0.7059, 0.7176,  ..., 0.8157, 0.8314, 0.8667]],\n",
       "\n",
       "        [[0.8196, 0.7922, 0.8118,  ..., 0.8941, 0.8941, 0.9020],\n",
       "         [0.8549, 0.8314, 0.8471,  ..., 0.9176, 0.9137, 0.9137],\n",
       "         [0.8627, 0.8353, 0.8510,  ..., 0.8980, 0.8941, 0.8902],\n",
       "         ...,\n",
       "         [0.8706, 0.8275, 0.8353,  ..., 0.9294, 0.9255, 0.9216],\n",
       "         [0.7961, 0.7451, 0.7804,  ..., 0.8941, 0.9059, 0.9137],\n",
       "         [0.7216, 0.6784, 0.6902,  ..., 0.8118, 0.8275, 0.8588]],\n",
       "\n",
       "        [[0.7529, 0.7216, 0.7294,  ..., 0.8118, 0.8039, 0.8039],\n",
       "         [0.7882, 0.7608, 0.7608,  ..., 0.8275, 0.8235, 0.8235],\n",
       "         [0.7961, 0.7647, 0.7686,  ..., 0.7961, 0.8078, 0.8078],\n",
       "         ...,\n",
       "         [0.7569, 0.7137, 0.7255,  ..., 0.8039, 0.7961, 0.7843],\n",
       "         [0.6863, 0.6353, 0.6667,  ..., 0.7725, 0.7804, 0.7804],\n",
       "         [0.6157, 0.5725, 0.5843,  ..., 0.6941, 0.7098, 0.7373]]])"
      ]
     },
     "execution_count": 37,
     "metadata": {},
     "output_type": "execute_result"
    }
   ],
   "source": [
    "x,y = train_ds[0]\n",
    "x.type()\n",
    "x.size()\n",
    "x"
   ]
  },
  {
   "cell_type": "code",
   "execution_count": 19,
   "metadata": {},
   "outputs": [
    {
     "data": {
      "text/plain": [
       "<matplotlib.image.AxesImage at 0x7f4e3c53b080>"
      ]
     },
     "execution_count": 19,
     "metadata": {},
     "output_type": "execute_result"
    },
    {
     "name": "stdout",
     "output_type": "stream",
     "text": [
      "airplane\n"
     ]
    },
    {
     "data": {
      "image/png": "[encoded data removed]",
      "text/plain": [
       "<Figure size 432x288 with 1 Axes>"
      ]
     },
     "metadata": {},
     "output_type": "display_data"
    }
   ],
   "source": [
    "plt.imshow(image2np(x))\n",
    "print(train_ds.classes[y])"
   ]
  },
  {
   "cell_type": "code",
   "execution_count": 20,
   "metadata": {},
   "outputs": [],
   "source": [
    "bs=64"
   ]
  },
  {
   "cell_type": "code",
   "execution_count": 26,
   "metadata": {},
   "outputs": [],
   "source": [
    "??DataBunch"
   ]
  },
  {
   "cell_type": "code",
   "execution_count": 27,
   "metadata": {},
   "outputs": [
    {
     "data": {
      "text/plain": [
       "(157, 16)"
      ]
     },
     "execution_count": 27,
     "metadata": {},
     "output_type": "execute_result"
    }
   ],
   "source": [
    "data = DataBunch(train_ds, valid_ds, bs=bs) # no transformation yet\n",
    "len(data.train_dl), len(data.valid_dl)"
   ]
  },
  {
   "cell_type": "code",
   "execution_count": 32,
   "metadata": {},
   "outputs": [],
   "source": [
    "#export\n",
    "def show_image(img, ax=None, figsize=(3,3), hide_axis=True):\n",
    "    if ax is None: fig,ax = plt.subplots(figsize=figsize)\n",
    "    ax.imshow(image2np(img))\n",
    "    if hide_axis: ax.axis('off')\n",
    "\n",
    "def show_image_batch(dl, classes, rows=None, figsize=(12,15)):\n",
    "    # show row x row image matrix with class label\n",
    "    x,y = next(iter(dl))\n",
    "    if rows is None: rows = int(math.sqrt(len(x)))\n",
    "    show_images(x[:rows*rows],y[:rows*rows],rows, classes)\n",
    "\n",
    "def show_images(x,y,rows, classes, figsize=(9,9)):\n",
    "    fig, axs = plt.subplots(rows,rows,figsize=figsize)\n",
    "    for i, ax in enumerate(axs.flatten()):\n",
    "        show_image(x[i], ax)\n",
    "        ax.set_title(classes[y[i]])\n",
    "    plt.tight_layout()"
   ]
  },
  {
   "cell_type": "code",
   "execution_count": 22,
   "metadata": {},
   "outputs": [
    {
     "data": {
      "application/vnd.jupyter.widget-view+json": {
       "model_id": "b04a35d63e5a4304b43bfe09dccfc084",
       "version_major": 2,
       "version_minor": 0
      },
      "text/plain": [
       "HBox(children=(IntProgress(value=0, max=157), HTML(value='')))"
      ]
     },
     "metadata": {},
     "output_type": "display_data"
    },
    {
     "data": {
      "image/png": "[encoded data removed]",
      "text/plain": [
       "<Figure size 648x648 with 36 Axes>"
      ]
     },
     "metadata": {},
     "output_type": "display_data"
    }
   ],
   "source": [
    "show_image_batch(data.train_dl, train_ds.classes, rows=6)"
   ]
  },
  {
   "cell_type": "markdown",
   "metadata": {},
   "source": [
    "# Data augmentation"
   ]
  },
  {
   "cell_type": "markdown",
   "metadata": {},
   "source": [
    "Now we are going augment our data to increase our training set. We will start by changing the brightness and contrast of our images.\n",
    "\n",
    "Brightness is computed by taking the logit of the change and adding it to the logit of the images pixels. Finally we take the sigmoid of the result.\n",
    "\n",
    "Contrast is computed by simply multiplying pixel values by the scale."
   ]
  },
  {
   "cell_type": "markdown",
   "metadata": {},
   "source": [
    "## Lighting"
   ]
  },
  {
   "cell_type": "markdown",
   "metadata": {},
   "source": [
    "We will start by changing the brightness and contrast of our images.\n",
    "\n",
    "## Method\n",
    "### Brightness\n",
    "\n",
    "Brightness refers to where does our image stand on the dark-light spectrum. Brightness is applied by adding a positive constant to each of the image's channels. This works because each of the channels in an image goes from 0 (darkest) to 255 (brightest) in a dark-light continum. (0, 0, 0) is black (total abscence of light) and (255, 255, 255) is white (pure light). You can check how this works by experimenting by yourself here.\n",
    "\n",
    "Parameters\n",
    "\n",
    "Change How much brightness do we want to add to (or take from) the image.\n",
    "\n",
    "$C \\in \\mathbb{R}$\n",
    "\n",
    "### Contrast\n",
    "\n",
    "Contrast refers to how sharp a distinction there is between birghter and darker sections of our image. To increase contrast we need darker pixels to be darker and lighter pixels to be lighter. In other words, we would like channels with a value smaller than 128 to decrease and channels with a value of greater than 128 to increase.\n",
    "\n",
    "Parameters\n",
    "\n",
    "Scale How much contrast do we want to add to (or remove from) the image.\n",
    "\n",
    "$C \\in [0, inf]$\n",
    "\n",
    "### On logit and sigmoid\n",
    "\n",
    "Notice that for both transformations we first apply the logit to our tensor (convert x: 0 to 1 to x: -inf to inf), then apply the transformation (add constant to x for brightness or multiply constant to xfor contrast) and finally take the sigmoid (back to x: 0 and 1). This is important for two reasons.\n",
    "\n",
    "First, we don't want to overflow our tensor values. In other words, we need our final tensor values to be $T_{ij} \\in [0,1]$. Imagine, for instance, a tensor value at 0.99. We want to increase its brightness, but we can’t go over 1.0. By doing logit first, which first moves our space to $-inf$ to $+inf$, this works fine. The same applies to contrast if we have a scale S >1 (might make some of our tensor values greater than one).\n",
    "\n",
    "Second, when we apply contrast, we need to affect the dispersion (state of being spread over an area) of values around the middle value. Say we want to increase contrast. Then we need the bright values (>0.5) to get brighter and dark values (<0.5) to get darker. We must first transform our tensor values so our values which were originally <0.5 are now negative and our values which were originally >0.5 are positive. This way, when we multiply by a constant, the dispersion around 0 will increase (small numbers around 0 * positive scale = small numbers => they don't change much?). The logit function does exactly this and allows us to increase or decrease dispersion around a mid value."
   ]
  },
  {
   "cell_type": "code",
   "execution_count": 35,
   "metadata": {},
   "outputs": [],
   "source": [
    "??partial\n",
    "\n",
    "# return a new function with fewer parameters and fixed values set for the original function"
   ]
  },
  {
   "cell_type": "code",
   "execution_count": 36,
   "metadata": {},
   "outputs": [
    {
     "name": "stdout",
     "output_type": "stream",
     "text": [
      "14\n",
      "14\n"
     ]
    }
   ],
   "source": [
    "def multiply(x,y,z):\n",
    "        return 3*x + 2*y + z\n",
    "func1 = partial(multiply,3)\n",
    "print(func1(2,1))\n",
    "\n",
    "func2 = partial(multiply,3,2)\n",
    "print(func2(1))"
   ]
  },
  {
   "cell_type": "code",
   "execution_count": 47,
   "metadata": {},
   "outputs": [],
   "source": [
    "#export\n",
    "# def logit(x):  return -(1/x-1).log()\n",
    "def logit_(x): return (x.reciprocal_().sub_(1)).log_().neg_() # -log(1/x -1)\n",
    "\n",
    "def brightness(x, change): \n",
    "    # the change to be added to x for brightness should be between 0 and 1, as it will be transformed using logit\n",
    "    # so that they on the same scale when adding?\n",
    "    return x.add_(scipy.special.logit(change))\n",
    "def contrast(x, scale): return x.mul_(scale)\n",
    "\n",
    "def _apply_lighting(x, func):\n",
    "    if func is None: return x\n",
    "    return func(logit_(x)).sigmoid()\n",
    "\n",
    "def apply_lighting(func): \n",
    "    # a function which accept only a function input and return a partial function (which accept that function input)\n",
    "    return partial(_apply_lighting, func=func)"
   ]
  },
  {
   "cell_type": "code",
   "execution_count": 39,
   "metadata": {},
   "outputs": [],
   "source": [
    "def apply_contrast(scale): return apply_lighting(partial(contrast, scale=scale))"
   ]
  },
  {
   "cell_type": "code",
   "execution_count": 55,
   "metadata": {},
   "outputs": [],
   "source": [
    "x = lambda: train_ds[1][0]\n",
    "\n",
    "# Don't use the following to test these transformation functions\n",
    "# as these functions above are meant to be used to permanently transform tensor\n",
    "# x = train_ds[1][0]. "
   ]
  },
  {
   "cell_type": "code",
   "execution_count": 51,
   "metadata": {},
   "outputs": [
    {
     "data": {
      "text/plain": [
       "torch.Size([3, 32, 32])"
      ]
     },
     "execution_count": 51,
     "metadata": {},
     "output_type": "execute_result"
    },
    {
     "data": {
      "text/plain": [
       "'torch.FloatTensor'"
      ]
     },
     "execution_count": 51,
     "metadata": {},
     "output_type": "execute_result"
    }
   ],
   "source": [
    "x.size()\n",
    "x.type()"
   ]
  },
  {
   "cell_type": "code",
   "execution_count": 56,
   "metadata": {},
   "outputs": [
    {
     "data": {
      "image/png": "[encoded data removed]",
      "text/plain": [
       "<Figure size 864x216 with 5 Axes>"
      ]
     },
     "metadata": {},
     "output_type": "display_data"
    }
   ],
   "source": [
    "_,axes = plt.subplots(1,5, figsize=(12,3))\n",
    "\n",
    "show_image(x(), axes[0])\n",
    "show_image(apply_contrast(1.0)(x()), axes[1])\n",
    "show_image(apply_contrast(0.5)(x()), axes[2])\n",
    "show_image(apply_contrast(2.0)(x()), axes[3])\n",
    "show_image(apply_contrast(5.0)(x()), axes[4])"
   ]
  },
  {
   "cell_type": "code",
   "execution_count": 57,
   "metadata": {},
   "outputs": [],
   "source": [
    "def apply_brightness(change):\n",
    "    return apply_lighting(partial(brightness, change=change))"
   ]
  },
  {
   "cell_type": "code",
   "execution_count": 58,
   "metadata": {},
   "outputs": [
    {
     "data": {
      "image/png": "[encoded data removed]",
      "text/plain": [
       "<Figure size 864x216 with 5 Axes>"
      ]
     },
     "metadata": {},
     "output_type": "display_data"
    }
   ],
   "source": [
    "_,axes = plt.subplots(1,5, figsize=(12,3))\n",
    "\n",
    "show_image(x(), axes[0])\n",
    "show_image(apply_brightness(0.2)(x()), axes[1])\n",
    "show_image(apply_brightness(0.4)(x()), axes[2])\n",
    "show_image(apply_brightness(0.6)(x()), axes[3])\n",
    "show_image(apply_brightness(0.8)(x()), axes[4])"
   ]
  },
  {
   "cell_type": "code",
   "execution_count": 69,
   "metadata": {},
   "outputs": [],
   "source": [
    "#export\n",
    "# TODO:what is this\n",
    "def listify(p=None, q=None):\n",
    "    if p is None: p=[]\n",
    "    elif not isinstance(p, Iterable): p=[p]\n",
    "    n = q if type(q)==int else 1 if q is None else len(q)\n",
    "    if len(p)==1: p = p * n\n",
    "    return p\n",
    "\n",
    "def compose(funcs):\n",
    "    # funcs is list of partial functions. Execute this list of functions in order\n",
    "    # compose acts as a wrapper for multiple PARTIAL functions in funcs list\n",
    "    def _inner(x, *args, **kwargs):\n",
    "        for f in funcs: x = f(x, *args, **kwargs)\n",
    "        return x\n",
    "    return _inner if funcs else None"
   ]
  },
  {
   "cell_type": "code",
   "execution_count": 65,
   "metadata": {},
   "outputs": [
    {
     "data": {
      "text/plain": [
       "<function __main__.compose.<locals>._inner(x, *args, **kwargs)>"
      ]
     },
     "execution_count": 65,
     "metadata": {},
     "output_type": "execute_result"
    }
   ],
   "source": [
    "sc = 0.5\n",
    "cb = 0.5\n",
    "compose([partial(contrast, scale=0.5),partial(brightness, change=0.5)])"
   ]
  },
  {
   "cell_type": "markdown",
   "metadata": {},
   "source": [
    "```\n",
    "def apply_lighting(func): \n",
    "    # a function which accept only a function input and return a partial function (which accept that function input)\n",
    "    return partial(_apply_lighting, func=func)\n",
    "    \n",
    "def _apply_lighting(x, func):\n",
    "    if func is None: return x\n",
    "    \n",
    "    # this is where compose will kick in. I.e of the actual call\n",
    "    # _apply_lighting(x, compose) # partial\n",
    "    # -> compose(logit_(x))\n",
    "    # -> _inner(logit_(x), args and kwargs)\n",
    "    # -> x = contrast(logit_(x),scale_contrast)\n",
    "    # -> x = brightness(x,change_brightness)\n",
    "    # -> return x.sigmoid()\n",
    "    return func(logit_(x)).sigmoid() \n",
    "```"
   ]
  },
  {
   "cell_type": "code",
   "execution_count": 70,
   "metadata": {},
   "outputs": [],
   "source": [
    "def apply_brightness_contrast(scale_contrast, change_brightness):\n",
    "    # remember that apply_lighting return a partial function with func input\n",
    "    combined_func = compose([partial(contrast, scale=scale_contrast),\n",
    "                               partial(brightness, change=change_brightness)]\n",
    "                             )\n",
    "    return apply_lighting(combined_func)"
   ]
  },
  {
   "cell_type": "code",
   "execution_count": 93,
   "metadata": {},
   "outputs": [
    {
     "name": "stdout",
     "output_type": "stream",
     "text": [
      "3\n",
      "42\n",
      "YOLO BIATCH\n"
     ]
    }
   ],
   "source": [
    "# explaining compose function\n",
    "def show_stuff(x,k1=42,k2='yolo'):\n",
    "    print(x)\n",
    "    print(k1)\n",
    "    print(k2)\n",
    "def wrap(func): # passing in a partial function\n",
    "    def inner(*args,**kwargs): # since func remember its fixed parameter, \n",
    "        #its wrapper, inner, will also get these fixed parameters\n",
    "        func(*args,**kwargs)        \n",
    "    return inner\n",
    "\n",
    "func3 = partial(show_stuff,k2='YOLO BIATCH') # func3 already remember its fixed parameter here\n",
    "wrap(func3)(3)"
   ]
  },
  {
   "cell_type": "code",
   "execution_count": 71,
   "metadata": {},
   "outputs": [
    {
     "data": {
      "image/png": "[encoded data removed]",
      "text/plain": [
       "<Figure size 864x216 with 4 Axes>"
      ]
     },
     "metadata": {},
     "output_type": "display_data"
    }
   ],
   "source": [
    "_,axes = plt.subplots(1,4, figsize=(12,3))\n",
    "\n",
    "show_image(apply_brightness_contrast(0.75, 0.7)(x()), axes[0]) # less contrast,  brighter\n",
    "show_image(apply_brightness_contrast(1.3,  0.7)(x()), axes[1]) # more contrast, brighter\n",
    "show_image(apply_brightness_contrast(0.75, 0.3)(x()), axes[2]) # less contrast, dimmer\n",
    "show_image(apply_brightness_contrast(1.3,  0.3)(x()), axes[3]) # more contrast, dimmer\n",
    "\n"
   ]
  },
  {
   "cell_type": "markdown",
   "metadata": {},
   "source": [
    "## Random lighting"
   ]
  },
  {
   "cell_type": "markdown",
   "metadata": {},
   "source": [
    "Next, we will make our previous transforms random since we are interested in automatizing the transforms pipeline. We will achieve this by making our parameters stochastic with a specific distribution: uniform for brightness and log_uniform for contrast. **TODO WHY**"
   ]
  },
  {
   "cell_type": "code",
   "execution_count": null,
   "metadata": {},
   "outputs": [],
   "source": [
    "#export\n",
    "def uniform(low, high, size=None):\n",
    "    return random.uniform(low,high) if size is None else torch.FloatTensor(size).uniform_(low,high)\n",
    "\n",
    "def log_uniform(low, high, size=None):\n",
    "    res = uniform(log(low), log(high), size)\n",
    "    return exp(res) if size is None else res.exp_()\n",
    "\n",
    "def rand_bool(p, size=None): return uniform(0,1,size)<p\n",
    "\n",
    "TfmType = IntEnum('TfmType', 'Start Affine Coord Pixel Lighting')\n",
    "\n",
    "def brightness(x, change: uniform) -> TfmType.Lighting:\n",
    "    return x.add_(scipy.special.logit(change))\n",
    "\n",
    "def contrast(x, scale: log_uniform) -> TfmType.Lighting:\n",
    "    return x.mul_(scale)"
   ]
  },
  {
   "cell_type": "code",
   "execution_count": null,
   "metadata": {},
   "outputs": [],
   "source": [
    "scipy.stats.gmean([log_uniform(0.5,2.0) for _ in range(1000)])"
   ]
  },
  {
   "cell_type": "code",
   "execution_count": null,
   "metadata": {},
   "outputs": [],
   "source": [
    "#export\n",
    "import inspect\n",
    "\n",
    "def get_default_args(func):\n",
    "    return {k: v.default\n",
    "            for k, v in inspect.signature(func).parameters.items()\n",
    "            if v.default is not inspect.Parameter.empty}\n",
    "\n",
    "def resolve_args(func, **kwargs):\n",
    "    kwargs.pop('p', None)\n",
    "    def_args = get_default_args(func)\n",
    "    for k,v in func.__annotations__.items():\n",
    "        if k == 'return': continue\n",
    "        if not k in kwargs and k in def_args:\n",
    "            kwargs[k] = def_args[k]\n",
    "        else:\n",
    "            arg = listify(kwargs.get(k, 1))\n",
    "            kwargs[k] = v(*arg)\n",
    "    return kwargs\n",
    "\n",
    "def noop(x=None, *args, **kwargs): return x\n",
    "\n",
    "class Transform():\n",
    "    def __init__(self, func, **kwargs):\n",
    "        self.func,self.kw = func,kwargs\n",
    "        self.tfm_type = self.func.__annotations__['return']\n",
    "        \n",
    "    def __repr__(self):\n",
    "        return f'{self.func.__name__}_tfm->{self.tfm_type.name}; {self.kw}'\n",
    "    \n",
    "    def __call__(self):\n",
    "        if 'p' in self.kw and not rand_bool(self.kw['p']): return noop\n",
    "        kwargs = resolve_args(self.func, **self.kw)\n",
    "        return partial(self.func, **kwargs)"
   ]
  },
  {
   "cell_type": "code",
   "execution_count": null,
   "metadata": {},
   "outputs": [],
   "source": [
    "resolve_args(brightness, change=(0.25,0.75),)"
   ]
  },
  {
   "cell_type": "code",
   "execution_count": null,
   "metadata": {},
   "outputs": [],
   "source": [
    "contrast_tfm = partial(Transform, contrast)\n",
    "tfm = contrast_tfm(scale=(0.3,3))\n",
    "tfm"
   ]
  },
  {
   "cell_type": "code",
   "execution_count": null,
   "metadata": {},
   "outputs": [],
   "source": [
    "# all the same\n",
    "tfm = tfm()\n",
    "\n",
    "_,axes = plt.subplots(1,4, figsize=(12,3))\n",
    "for ax in axes: show_image(apply_lighting(tfm)(x()), ax)"
   ]
  },
  {
   "cell_type": "code",
   "execution_count": null,
   "metadata": {},
   "outputs": [],
   "source": [
    "tfm = contrast_tfm(scale=(0.3,3), p=0.5)\n",
    "\n",
    "# different\n",
    "_,axes = plt.subplots(1,4, figsize=(12,3))\n",
    "for ax in axes: show_image(apply_lighting(tfm())(x()), ax)"
   ]
  },
  {
   "cell_type": "markdown",
   "metadata": {},
   "source": [
    "## Decorator and composition"
   ]
  },
  {
   "cell_type": "markdown",
   "metadata": {},
   "source": [
    "**Continue from here**"
   ]
  },
  {
   "cell_type": "code",
   "execution_count": null,
   "metadata": {},
   "outputs": [],
   "source": [
    "#export\n",
    "def reg_partial(cl, func):\n",
    "    setattr(sys.modules[func.__module__], f'{func.__name__}_tfm', partial(cl,func))\n",
    "    return func\n",
    "\n",
    "def reg_transform(func): return reg_partial(Transform, func)\n",
    "\n",
    "def resolve_tfms(tfms): return [f() for f in listify(tfms)]\n",
    "\n",
    "@reg_transform\n",
    "def brightness(x, change: uniform) -> TfmType.Lighting:  return x.add_(scipy.special.logit(change))\n",
    "\n",
    "@reg_transform\n",
    "def contrast(x, scale: log_uniform) -> TfmType.Lighting: return x.mul_(scale)"
   ]
  },
  {
   "cell_type": "code",
   "execution_count": null,
   "metadata": {},
   "outputs": [],
   "source": [
    "def apply_tfms(tfms):\n",
    "    func = apply_lighting(compose(resolve_tfms(tfms)))\n",
    "    return lambda x: func(x.clone())"
   ]
  },
  {
   "cell_type": "code",
   "execution_count": null,
   "metadata": {},
   "outputs": [],
   "source": [
    "x = train_ds[1][0]"
   ]
  },
  {
   "cell_type": "code",
   "execution_count": null,
   "metadata": {},
   "outputs": [],
   "source": [
    "tfms = [contrast_tfm(scale=(0.3,3.0), p=0.5),\n",
    "        brightness_tfm(change=(0.35,0.65), p=0.5)]\n",
    "\n",
    "_,axes = plt.subplots(1,4, figsize=(12,3))\n",
    "for ax in axes: show_image(apply_tfms(tfms)(x), ax)"
   ]
  },
  {
   "cell_type": "code",
   "execution_count": null,
   "metadata": {},
   "outputs": [],
   "source": [
    "_,axes = plt.subplots(2,4, figsize=(12,6))\n",
    "for i in range(4):\n",
    "    tfm = apply_tfms(tfms)\n",
    "    show_image(tfm(x), axes[0][i])\n",
    "    show_image(tfm(x), axes[1][i])"
   ]
  },
  {
   "cell_type": "markdown",
   "metadata": {},
   "source": [
    "# Affine"
   ]
  },
  {
   "cell_type": "markdown",
   "metadata": {},
   "source": [
    "## Deterministic affine"
   ]
  },
  {
   "cell_type": "code",
   "execution_count": null,
   "metadata": {},
   "outputs": [],
   "source": [
    "#export\n",
    "def grid_sample_nearest(input, coords, padding_mode='zeros'):\n",
    "    if padding_mode=='border': coords.clamp(-1,1)\n",
    "    bs,ch,h,w = input.size()\n",
    "    sz = torch.tensor([w,h]).float()[None,None]\n",
    "    coords.add_(1).mul_(sz/2)\n",
    "    coords = coords[0].round_().long()\n",
    "    if padding_mode=='zeros':\n",
    "        mask = (coords[...,0] < 0) + (coords[...,1] < 0) + (coords[...,0] >= w) + (coords[...,1] >= h)\n",
    "        mask.clamp_(0,1)\n",
    "    coords[...,0].clamp_(0,w-1)\n",
    "    coords[...,1].clamp_(0,h-1)\n",
    "    result = input[...,coords[...,1],coords[...,0]]\n",
    "    if padding_mode=='zeros': result[...,mask] = result[...,mask].zero_()\n",
    "    return result"
   ]
  },
  {
   "cell_type": "code",
   "execution_count": null,
   "metadata": {},
   "outputs": [],
   "source": [
    "#export\n",
    "def grid_sample(x, coords, mode='bilinear', padding_mode='reflect'):\n",
    "    if mode=='nearest': return grid_sample_nearest(x[None], coords, padding_mode)[0]\n",
    "    if padding_mode=='reflect': # Reflect padding isn't implemented in grid_sample yet\n",
    "        coords[coords < -1] = coords[coords < -1].mul_(-1).add_(-2)\n",
    "        coords[coords > 1] = coords[coords > 1].mul_(-1).add_(2)\n",
    "        padding_mode='zeros'\n",
    "    return F.grid_sample(x[None], coords, mode=mode, padding_mode=padding_mode)[0]\n",
    "\n",
    "def affine_grid(x, matrix, size=None):\n",
    "    if size is None: size = x.size()\n",
    "    elif isinstance(size, int): size=(x.size(0), size, size)\n",
    "    return F.affine_grid(matrix[None,:2], torch.Size((1,)+size))"
   ]
  },
  {
   "cell_type": "code",
   "execution_count": null,
   "metadata": {},
   "outputs": [],
   "source": [
    "def rotate(degrees):\n",
    "    angle = degrees * math.pi / 180\n",
    "    return [[cos(angle), -sin(angle), 0.],\n",
    "            [sin(angle),  cos(angle), 0.],\n",
    "            [0.        ,  0.        , 1.]]"
   ]
  },
  {
   "cell_type": "code",
   "execution_count": null,
   "metadata": {},
   "outputs": [],
   "source": [
    "m = rotate(30)\n",
    "m = x.new_tensor(m)\n",
    "c = affine_grid(x, m)\n",
    "img2 = grid_sample(x, c, padding_mode='zeros')\n",
    "show_image(img2)"
   ]
  },
  {
   "cell_type": "code",
   "execution_count": null,
   "metadata": {},
   "outputs": [],
   "source": [
    "#export\n",
    "def apply_affine(m=None, func=None):\n",
    "    if m is None: m=torch.eye(3)\n",
    "    def _inner(img, size=None, **kwargs):\n",
    "        c = affine_grid(img,  img.new_tensor(m), size=size)\n",
    "        if func is not None: c = func(c)\n",
    "        return grid_sample(img, c, **kwargs)\n",
    "    return _inner"
   ]
  },
  {
   "cell_type": "code",
   "execution_count": null,
   "metadata": {},
   "outputs": [],
   "source": [
    "def zoom(scale: uniform, row_pct = 0.5, col_pct = 0.5):\n",
    "    s = 1-1/scale\n",
    "    col_c = s * (2*col_pct - 1)\n",
    "    row_c = s * (2*row_pct - 1)\n",
    "    return [[1/scale, 0,       col_c],\n",
    "            [0,       1/scale, row_c],\n",
    "            [0,       0,       1.    ]]"
   ]
  },
  {
   "cell_type": "code",
   "execution_count": null,
   "metadata": {},
   "outputs": [],
   "source": [
    "show_image(apply_affine(zoom(0.6))(x))"
   ]
  },
  {
   "cell_type": "code",
   "execution_count": null,
   "metadata": {},
   "outputs": [],
   "source": [
    "show_image(apply_affine(zoom(0.6))(x, padding_mode='zeros'))"
   ]
  },
  {
   "cell_type": "code",
   "execution_count": null,
   "metadata": {},
   "outputs": [],
   "source": [
    "show_image(apply_affine(zoom(2, 0.2, 0.2))(x))"
   ]
  },
  {
   "cell_type": "code",
   "execution_count": null,
   "metadata": {},
   "outputs": [],
   "source": [
    "#export\n",
    "def affines_mat(matrices=None):\n",
    "    if matrices is None: matrices=[]\n",
    "    matrices = [FloatTensor(m) for m in matrices if m is not None]\n",
    "    return reduce(torch.matmul, matrices, torch.eye(3))"
   ]
  },
  {
   "cell_type": "code",
   "execution_count": null,
   "metadata": {},
   "outputs": [],
   "source": [
    "img2 = apply_affine(rotate(30))(x)\n",
    "img2 = apply_affine(zoom(1.6))(img2)\n",
    "show_image(img2)"
   ]
  },
  {
   "cell_type": "code",
   "execution_count": null,
   "metadata": {},
   "outputs": [],
   "source": [
    "c = affines_mat([zoom(1.6), rotate(30)])\n",
    "show_image(apply_affine(c)(x))"
   ]
  },
  {
   "cell_type": "code",
   "execution_count": null,
   "metadata": {},
   "outputs": [],
   "source": [
    "show_image(x)"
   ]
  },
  {
   "cell_type": "code",
   "execution_count": null,
   "metadata": {},
   "outputs": [],
   "source": [
    "c = affines_mat([zoom(1.6, 0.8, 0.2), rotate(30)])\n",
    "show_image(apply_affine(c)(x, size=48))"
   ]
  },
  {
   "cell_type": "code",
   "execution_count": null,
   "metadata": {},
   "outputs": [],
   "source": [
    "c = affines_mat([zoom(1.6, 0.8, 0.2), rotate(30)])\n",
    "show_image(apply_affine(c)(x, size=24), hide_axis=False)"
   ]
  },
  {
   "cell_type": "code",
   "execution_count": null,
   "metadata": {},
   "outputs": [],
   "source": [
    "c = affines_mat([zoom(1.6, 0.8, 0.2), rotate(30)])\n",
    "show_image(apply_affine(c)(x, size=48, mode='nearest'))"
   ]
  },
  {
   "cell_type": "code",
   "execution_count": null,
   "metadata": {},
   "outputs": [],
   "source": [
    "c = affines_mat([zoom(1.6)])\n",
    "show_image(apply_affine(c)(x))"
   ]
  },
  {
   "cell_type": "code",
   "execution_count": null,
   "metadata": {},
   "outputs": [],
   "source": [
    "c = affines_mat()\n",
    "show_image(apply_affine(c)(x))"
   ]
  },
  {
   "cell_type": "markdown",
   "metadata": {},
   "source": [
    "## Random affine"
   ]
  },
  {
   "cell_type": "code",
   "execution_count": null,
   "metadata": {},
   "outputs": [],
   "source": [
    "#export\n",
    "class AffineTransform(Transform):\n",
    "    def __call__(self): return super().__call__()()\n",
    "\n",
    "def dict_groupby(iterable, key=None):\n",
    "    return {k:list(v) for k,v in itertools.groupby(sorted(iterable, key=key), key=key)}\n",
    "\n",
    "def reg_affine(func): return reg_partial(AffineTransform, func)\n",
    "\n",
    "def apply_tfms(tfms):\n",
    "    grouped_tfms = dict_groupby(listify(tfms), lambda o: o.tfm_type)\n",
    "    start_tfms,affine_tfms,coord_tfms,pixel_tfms,lighting_tfms = [\n",
    "        resolve_tfms(grouped_tfms.get(o)) for o in TfmType]\n",
    "    lighting_func = apply_lighting(compose(lighting_tfms))\n",
    "    affine_func = apply_affine(affines_mat(affine_tfms), func=compose(coord_tfms))\n",
    "    start_func = compose(start_tfms)\n",
    "    pixel_func = compose(pixel_tfms)\n",
    "    return lambda x, **kwargs: pixel_func(lighting_func(affine_func(start_func(x.clone()), **kwargs)))"
   ]
  },
  {
   "cell_type": "code",
   "execution_count": null,
   "metadata": {},
   "outputs": [],
   "source": [
    "#export\n",
    "@reg_affine\n",
    "def rotate(degrees: uniform) -> TfmType.Affine:\n",
    "    angle = degrees * math.pi / 180\n",
    "    return [[cos(angle), -sin(angle), 0.],\n",
    "            [sin(angle),  cos(angle), 0.],\n",
    "            [0.        ,  0.        , 1.]]\n",
    "\n",
    "@reg_affine\n",
    "def zoom(scale: uniform = 1.0, row_pct:uniform = 0.5, col_pct:uniform = 0.5) -> TfmType.Affine:\n",
    "    s = 1-1/scale\n",
    "    col_c = s * (2*col_pct - 1)\n",
    "    row_c = s * (2*row_pct - 1)\n",
    "    return [[1/scale, 0,       col_c],\n",
    "            [0,       1/scale, row_c],\n",
    "            [0,       0,       1.    ]]"
   ]
  },
  {
   "cell_type": "code",
   "execution_count": null,
   "metadata": {},
   "outputs": [],
   "source": [
    "tfms = [rotate_tfm(degrees=(-45,45.), p=0.75),\n",
    "        zoom_tfm(scale=(0.5,2.0), p=0.75)]\n",
    "\n",
    "_,axes = plt.subplots(1,4, figsize=(12,3))\n",
    "for ax in axes: show_image(apply_tfms(tfms)(x), ax)"
   ]
  },
  {
   "cell_type": "code",
   "execution_count": null,
   "metadata": {},
   "outputs": [],
   "source": [
    "tfms = [rotate_tfm(degrees=(-45,45.), p=0.75),\n",
    "        zoom_tfm(scale=(1.0,2.0), row_pct=(0,1.), col_pct=(0,1.))]\n",
    "\n",
    "_,axes = plt.subplots(1,4, figsize=(12,3))\n",
    "for ax in axes: show_image(apply_tfms(tfms)(x, size=64, padding_mode='zeros'), ax)"
   ]
  },
  {
   "cell_type": "markdown",
   "metadata": {},
   "source": [
    "# Coord and pixel"
   ]
  },
  {
   "cell_type": "markdown",
   "metadata": {},
   "source": [
    "## Jitter / flip"
   ]
  },
  {
   "cell_type": "code",
   "execution_count": null,
   "metadata": {},
   "outputs": [],
   "source": [
    "#export\n",
    "@reg_transform\n",
    "def jitter(x, magnitude: uniform) -> TfmType.Coord:\n",
    "    return x.add_((torch.rand_like(x)-0.5)*magnitude*2)"
   ]
  },
  {
   "cell_type": "code",
   "execution_count": null,
   "metadata": {},
   "outputs": [],
   "source": [
    "tfm = jitter_tfm(magnitude=(0,0.1))\n",
    "\n",
    "_,axes = plt.subplots(1,4, figsize=(12,3))\n",
    "for ax in axes: show_image(apply_tfms(tfm)(x), ax)"
   ]
  },
  {
   "cell_type": "code",
   "execution_count": null,
   "metadata": {},
   "outputs": [],
   "source": [
    "#export\n",
    "@reg_transform\n",
    "def flip_lr(x) -> TfmType.Pixel: return x.flip(2)"
   ]
  },
  {
   "cell_type": "code",
   "execution_count": null,
   "metadata": {},
   "outputs": [],
   "source": [
    "tfm = flip_lr_tfm(p=0.5)\n",
    "\n",
    "_,axes = plt.subplots(1,4, figsize=(12,3))\n",
    "for ax in axes: show_image(apply_tfms(tfm)(x), ax)"
   ]
  },
  {
   "cell_type": "markdown",
   "metadata": {},
   "source": [
    "## Combine"
   ]
  },
  {
   "cell_type": "code",
   "execution_count": null,
   "metadata": {},
   "outputs": [],
   "source": [
    "tfms = [flip_lr_tfm(p=0.5),\n",
    "        rotate_tfm(degrees=(-45,45.), p=0.5),\n",
    "        zoom_tfm(scale=(0.6,1.6), p=0.8),\n",
    "        contrast_tfm(scale=(0.5,2.0)),\n",
    "        brightness_tfm(change=(0.3,0.7))\n",
    "]"
   ]
  },
  {
   "cell_type": "code",
   "execution_count": null,
   "metadata": {},
   "outputs": [],
   "source": [
    "_,axes = plt.subplots(1,4, figsize=(12,3))\n",
    "for ax in axes: show_image(apply_tfms(tfms)(x), ax)"
   ]
  },
  {
   "cell_type": "code",
   "execution_count": null,
   "metadata": {},
   "outputs": [],
   "source": [
    "_,axes = plt.subplots(2,4, figsize=(12,6))\n",
    "for i in range(4):\n",
    "    tfm = apply_tfms(tfms)\n",
    "    show_image(tfm(x, padding_mode='zeros', size=48), axes[0][i])\n",
    "    show_image(tfm(x, mode='nearest'), axes[1][i])"
   ]
  },
  {
   "cell_type": "markdown",
   "metadata": {},
   "source": [
    "# Fin"
   ]
  },
  {
   "cell_type": "code",
   "execution_count": null,
   "metadata": {},
   "outputs": [],
   "source": []
  }
 ],
 "metadata": {
  "kernelspec": {
   "display_name": "py37",
   "language": "python",
   "name": "py37"
  },
  "language_info": {
   "codemirror_mode": {
    "name": "ipython",
    "version": 3
   },
   "file_extension": ".py",
   "mimetype": "text/x-python",
   "name": "python",
   "nbconvert_exporter": "python",
   "pygments_lexer": "ipython3",
   "version": "3.7.0"
  },
  "varInspector": {
   "cols": {
    "lenName": 16,
    "lenType": 16,
    "lenVar": 40
   },
   "kernels_config": {
    "python": {
     "delete_cmd_postfix": "",
     "delete_cmd_prefix": "del ",
     "library": "var_list.py",
     "varRefreshCmd": "print(var_dic_list())"
    },
    "r": {
     "delete_cmd_postfix": ") ",
     "delete_cmd_prefix": "rm(",
     "library": "var_list.r",
     "varRefreshCmd": "cat(var_dic_list()) "
    }
   },
   "types_to_exclude": [
    "module",
    "function",
    "builtin_function_or_method",
    "instance",
    "_Feature"
   ],
   "window_display": false
  }
 },
 "nbformat": 4,
 "nbformat_minor": 2
}
