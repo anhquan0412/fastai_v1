{
 "cells": [
  {
   "cell_type": "code",
   "execution_count": null,
   "metadata": {},
   "outputs": [],
   "source": [
    "%load_ext autoreload\n",
    "%autoreload 2"
   ]
  },
  {
   "cell_type": "code",
   "execution_count": null,
   "metadata": {},
   "outputs": [],
   "source": [
    "from nb_005 import *"
   ]
  },
  {
   "cell_type": "markdown",
   "metadata": {},
   "source": [
    "# Pascal"
   ]
  },
  {
   "cell_type": "markdown",
   "metadata": {},
   "source": [
    "## Setup"
   ]
  },
  {
   "cell_type": "code",
   "execution_count": null,
   "metadata": {},
   "outputs": [],
   "source": [
    "PATH = Path('data/pascal')\n",
    "JPEG_PATH = PATH/'VOCdevkit'/'VOC2007'/'JPEGImages'"
   ]
  },
  {
   "cell_type": "code",
   "execution_count": null,
   "metadata": {},
   "outputs": [],
   "source": [
    "import json\n",
    "trn_j = json.load((PATH / 'pascal_train2007.json').open())"
   ]
  },
  {
   "cell_type": "code",
   "execution_count": null,
   "metadata": {},
   "outputs": [],
   "source": [
    "classes = {o['id']:o['name'] for o in trn_j['categories']}\n",
    "filenames = {o['id']:JPEG_PATH/o['file_name'] for o in trn_j['images']}\n",
    "annotations = [{'img_id': o['image_id'], \n",
    "                'class': classes[o['category_id']], \n",
    "                'bbox':o['bbox']} for o in trn_j['annotations'] if not o['ignore']]"
   ]
  },
  {
   "cell_type": "code",
   "execution_count": null,
   "metadata": {},
   "outputs": [],
   "source": [
    "len(annotations)"
   ]
  },
  {
   "cell_type": "code",
   "execution_count": null,
   "metadata": {},
   "outputs": [],
   "source": [
    "annot_by_img = collections.defaultdict(list)\n",
    "for annot in annotations:\n",
    "    annot_by_img[annot['img_id']].append({'class': annot['class'], 'bbox': annot['bbox']})"
   ]
  },
  {
   "cell_type": "code",
   "execution_count": null,
   "metadata": {},
   "outputs": [],
   "source": [
    "len(annot_by_img)"
   ]
  },
  {
   "cell_type": "code",
   "execution_count": null,
   "metadata": {},
   "outputs": [],
   "source": [
    "biggest_bb = {}\n",
    "for id in filenames.keys():\n",
    "    size,best = 0,0\n",
    "    for i,o in enumerate(annot_by_img[id]):\n",
    "        o_sz = o['bbox'][2] * o['bbox'][3]\n",
    "        if size < o_sz:\n",
    "            size,best = o_sz,i\n",
    "    biggest_bb[id] = annot_by_img[id][best]"
   ]
  },
  {
   "cell_type": "code",
   "execution_count": null,
   "metadata": {},
   "outputs": [],
   "source": [
    "ids = np.array(list(filenames.keys()))\n",
    "ids = np.random.permutation(ids)\n",
    "split = int(len(filenames) * 0.2)\n",
    "train_fns = [filenames[i] for i in ids[split:]]\n",
    "valid_fns = [filenames[i] for i in ids[:split]]"
   ]
  },
  {
   "cell_type": "code",
   "execution_count": null,
   "metadata": {},
   "outputs": [],
   "source": [
    "bboxes = {}\n",
    "for i in filenames.keys():\n",
    "    bb = biggest_bb[i]['bbox']\n",
    "    bboxes[i] = [[bb[1],bb[0]], [bb[3]+bb[1], bb[2]+bb[0]]]\n",
    "\n",
    "train_bbs = [bboxes[i] for i in ids[split:]]\n",
    "valid_bbs = [bboxes[i] for i in ids[:split]]"
   ]
  },
  {
   "cell_type": "code",
   "execution_count": null,
   "metadata": {},
   "outputs": [],
   "source": [
    "@dataclass\n",
    "class CoordTargetDataset(Dataset):\n",
    "    x_fns:List[Path]; bbs:List[List[float]]\n",
    "    def __post_init__(self): assert len(self.x_fns)==len(self.bbs)\n",
    "    def __repr__(self): return f'{type(self).__name__} of len {len(self.x_fns)}'\n",
    "    def __len__(self): return len(self.x_fns)\n",
    "    def __getitem__(self, i): return open_image(self.x_fns[i]), self.bbs[i]"
   ]
  },
  {
   "cell_type": "code",
   "execution_count": null,
   "metadata": {},
   "outputs": [],
   "source": [
    "train_ds = CoordTargetDataset(train_fns, train_bbs)\n",
    "valid_ds = CoordTargetDataset(valid_fns, valid_bbs)"
   ]
  },
  {
   "cell_type": "code",
   "execution_count": null,
   "metadata": {},
   "outputs": [],
   "source": [
    "from matplotlib import patches, patheffects\n",
    "def draw_outline(o, lw):\n",
    "    o.set_path_effects([patheffects.Stroke(\n",
    "        linewidth=lw, foreground='black'), patheffects.Normal()])\n",
    "\n",
    "def draw_rect(ax, b, color='white'):\n",
    "    patch = ax.add_patch(patches.Rectangle(b[:2], *b[2:], fill=False, edgecolor=color, lw=2))\n",
    "    draw_outline(patch, 4)\n",
    "\n",
    "def bb_hw(a): return np.array([a[0][1],a[0][0],a[1][1]-a[0][1],a[1][0]-a[0][0]])\n",
    "    \n",
    "def show_img_bb(img, bb, ax=None):\n",
    "    if not ax: fig,ax = plt.subplots()\n",
    "    ax.imshow(img.numpy().transpose(1,2,0))\n",
    "    draw_rect(ax, bb_hw(bb))"
   ]
  },
  {
   "cell_type": "code",
   "execution_count": null,
   "metadata": {},
   "outputs": [],
   "source": [
    "show_img_bb(*train_ds[0])"
   ]
  },
  {
   "cell_type": "code",
   "execution_count": null,
   "metadata": {},
   "outputs": [],
   "source": [
    "train_bbs[0]"
   ]
  },
  {
   "cell_type": "code",
   "execution_count": null,
   "metadata": {},
   "outputs": [],
   "source": [
    "biggest_bb[ids[split]]"
   ]
  },
  {
   "cell_type": "code",
   "execution_count": null,
   "metadata": {},
   "outputs": [],
   "source": [
    "annot_by_img[ids[split]]"
   ]
  },
  {
   "cell_type": "code",
   "execution_count": null,
   "metadata": {},
   "outputs": [],
   "source": [
    "patches.Rectangle()"
   ]
  },
  {
   "cell_type": "markdown",
   "metadata": {},
   "source": [
    "Once 5a works..."
   ]
  },
  {
   "cell_type": "code",
   "execution_count": null,
   "metadata": {},
   "outputs": [],
   "source": [
    "TfmY = IntEnum('TfmY', 'No Pixel Mask Coord BBox')\n",
    "\n",
    "class TfmDataset(Dataset):\n",
    "    def __init__(self, ds:Dataset, tfms:Collection[Callable]=None, tfm_y:TfmY=TfmY.No, **kwargs):\n",
    "        self.ds,self.tfms,self.tfm_y,self.kwargs = ds,tfms,tfm_y,kwargs\n",
    "\n",
    "    def __len__(self): return len(self.ds)\n",
    "\n",
    "    def __getitem__(self,idx):\n",
    "        x,y = self.ds[idx]\n",
    "        if self.tfms is not None:\n",
    "            tfm = apply_tfms(self.tfms)\n",
    "            coord = (self.tfm_y == TfmY.Coord or self.tfm_y == TfmY.BBox)\n",
    "            if coord: y = torch.cat([torch.Tensor([x.size(1),x.size(2)]).float()[None], y],0)\n",
    "            x = tfm(x, **self.kwargs)\n",
    "            if self.tfm_y != TfmY.No and y is not None:\n",
    "                seg = self.tfm_y == TfmY.Mask\n",
    "                y = tfm(y, segmentation=seg, is_coord=coord, **self.kwargs)[1:]\n",
    "                if self.tfm_y == TfmY.BBox:\n",
    "                    y = torch.Tensor([[min(y[:,0]),min(y[:,1])], [max(y[:,0]),max(y[:,1])]])\n",
    "        return x,y"
   ]
  }
 ],
 "metadata": {
  "kernelspec": {
   "display_name": "Python 3",
   "language": "python",
   "name": "python3"
  }
 },
 "nbformat": 4,
 "nbformat_minor": 2
}
