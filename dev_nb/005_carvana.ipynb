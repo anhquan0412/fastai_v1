{
 "cells": [
  {
   "cell_type": "code",
   "execution_count": null,
   "metadata": {},
   "outputs": [],
   "source": [
    "%load_ext autoreload\n",
    "%autoreload 2"
   ]
  },
  {
   "cell_type": "code",
   "execution_count": null,
   "metadata": {},
   "outputs": [],
   "source": [
    "#export\n",
    "from nb_004c import *"
   ]
  },
  {
   "cell_type": "markdown",
   "metadata": {},
   "source": [
    "# Carvana"
   ]
  },
  {
   "cell_type": "markdown",
   "metadata": {},
   "source": [
    "## Setup"
   ]
  },
  {
   "cell_type": "markdown",
   "metadata": {},
   "source": [
    "(See final section of notebook for one-time data processing steps.)"
   ]
  },
  {
   "cell_type": "code",
   "execution_count": null,
   "metadata": {},
   "outputs": [],
   "source": [
    "PATH = Path('data/carvana')\n",
    "PATH_PNG = PATH/'train_masks_png'\n",
    "PATH_X = PATH/'train-128'\n",
    "PATH_Y = PATH/'train_masks-128'"
   ]
  },
  {
   "cell_type": "code",
   "execution_count": null,
   "metadata": {},
   "outputs": [],
   "source": [
    "img_f = next(PATH_X.iterdir())\n",
    "x = open_image(img_f)\n",
    "show_image(x)"
   ]
  },
  {
   "cell_type": "code",
   "execution_count": null,
   "metadata": {},
   "outputs": [],
   "source": [
    "def get_y_fn(x_fn): return PATH_Y/f'{x_fn.name[:-4]}_mask.png'"
   ]
  },
  {
   "cell_type": "code",
   "execution_count": null,
   "metadata": {},
   "outputs": [],
   "source": [
    "#export\n",
    "def pil2tensor(image, as_mask=False):\n",
    "    arr = torch.ByteTensor(torch.ByteStorage.from_buffer(image.tobytes()))\n",
    "    arr = arr.view(image.size[1], image.size[0], -1)\n",
    "    arr = arr.permute(2,0,1).float()\n",
    "    return arr if as_mask else arr.div_(255)\n",
    "\n",
    "def open_image(fn, as_mask=False):\n",
    "    x = PIL.Image.open(fn)\n",
    "    if not as_mask: x = x.convert('RGB')\n",
    "    return pil2tensor(x, as_mask=as_mask)\n",
    "\n",
    "def image2np(image):\n",
    "    res = image.cpu().permute(1,2,0).numpy()\n",
    "    return res[...,0] if res.shape[2]==1 else res\n",
    "\n",
    "def show_image(img, ax=None, figsize=(3,3), hide_axis=True, cmap='binary'):\n",
    "    if ax is None: fig,ax = plt.subplots(figsize=figsize)\n",
    "    ax.imshow(image2np(img), cmap=cmap)\n",
    "    if hide_axis: ax.axis('off')"
   ]
  },
  {
   "cell_type": "code",
   "execution_count": null,
   "metadata": {},
   "outputs": [],
   "source": [
    "img_y_f = get_y_fn(img_f)\n",
    "y = open_image(img_y_f, as_mask=True)\n",
    "show_image(y)"
   ]
  },
  {
   "cell_type": "code",
   "execution_count": null,
   "metadata": {},
   "outputs": [],
   "source": [
    "tfms = [flip_lr_tfm(p=0.5),\n",
    "        rotate_tfm(degrees=(-20,20.), p=0.75),\n",
    "        zoom_tfm(scale=(0.5,2), p=0.75),\n",
    "        contrast_tfm(scale=(0.6,1.4)),\n",
    "        brightness_tfm(change=(0.3,0.7))\n",
    "]"
   ]
  },
  {
   "cell_type": "code",
   "execution_count": null,
   "metadata": {},
   "outputs": [],
   "source": [
    "tfms"
   ]
  },
  {
   "cell_type": "code",
   "execution_count": null,
   "metadata": {},
   "outputs": [],
   "source": [
    "_,axes = plt.subplots(1,4, figsize=(12,3))\n",
    "for ax in axes: show_image(apply_tfms(tfms)(x), ax)"
   ]
  },
  {
   "cell_type": "markdown",
   "metadata": {},
   "source": [
    "## xy transforms"
   ]
  },
  {
   "cell_type": "markdown",
   "metadata": {},
   "source": [
    "- data types: regr, class, seg, bbox, polygon, generative (s/res, color), custom"
   ]
  },
  {
   "cell_type": "code",
   "execution_count": null,
   "metadata": {},
   "outputs": [],
   "source": [
    "class Transform():\n",
    "    def __init__(self, func, func_y=None, **kwargs):\n",
    "        self.func,self.func_y,self.kw = func,func_y,kwargs\n",
    "        self.tfm_type = self.func.__annotations__['return']\n",
    "\n",
    "    def __repr__(self):\n",
    "        return f'{self.func.__name__}_tfm->{self.tfm_type.name}; {self.kw}'\n",
    "\n",
    "    def resolve(self):\n",
    "        self.resolved = resolve_args(self.func, **self.kw)\n",
    "        if 'p' in self.kw: self.resolved['p'] = rand_bool(self.kw['p'])\n",
    "    \n",
    "    def __call__(self, x, is_y=False, **kwargs):\n",
    "        f = self.func_y if is_y else self.func\n",
    "        return f(x, **self.resolved, **kwargs) if f else x"
   ]
  },
  {
   "cell_type": "code",
   "execution_count": null,
   "metadata": {},
   "outputs": [],
   "source": [
    "my_tfm = Transform(brightness,None)"
   ]
  },
  {
   "cell_type": "code",
   "execution_count": null,
   "metadata": {},
   "outputs": [],
   "source": []
  },
  {
   "cell_type": "code",
   "execution_count": null,
   "metadata": {},
   "outputs": [],
   "source": [
    "#export\n",
    "def _apply_tfm_funcs(det_tfms, x, segmentation=False, **kwargs):\n",
    "    if not np.any(det_tfms): return x\n",
    "    x = x.clone()\n",
    "    start_tfms,affine_tfms,coord_tfms,pixel_tfms,lighting_tfms,crop_tfms = det_tfms\n",
    "    if start_tfms:  x = compose(start_tfms)(x)\n",
    "    affine_func = apply_affine(affines_mat(affine_tfms), func=compose(coord_tfms), crop_func=compose(crop_tfms))\n",
    "    if affine_func: x = affine_func(x, mode='nearest' if segmentation else 'bilinear', **kwargs)\n",
    "    if lighting_tfms and not segmentation: x = apply_lighting(compose(lighting_tfms))(x)\n",
    "    if pixel_tfms: x = compose(pixel_tfms)(x)\n",
    "    return x\n",
    "\n",
    "def apply_tfms(tfms):\n",
    "    grouped_tfms = dict_groupby(listify(tfms), lambda o: o.tfm_type)\n",
    "    det_tfms = [resolve_tfms(grouped_tfms.get(o)) for o in TfmType]\n",
    "    return partial(_apply_tfm_funcs, det_tfms)"
   ]
  },
  {
   "cell_type": "code",
   "execution_count": null,
   "metadata": {},
   "outputs": [],
   "source": [
    "_,axes = plt.subplots(2,4, figsize=(12,6))\n",
    "for i in range(4):\n",
    "    tfm = apply_tfms(tfms)\n",
    "    imgx,imgy = tfm(x),tfm(y, segmentation=True)\n",
    "    show_image(imgx, axes[0][i])\n",
    "    show_image(imgy, axes[1][i])"
   ]
  },
  {
   "cell_type": "code",
   "execution_count": null,
   "metadata": {},
   "outputs": [],
   "source": [
    "_,axes = plt.subplots(2,4, figsize=(12,6))\n",
    "for i in range(4):\n",
    "    tfm = apply_tfms(tfms)\n",
    "    imgx,imgy = tfm(x),tfm(y, segmentation=False)\n",
    "    show_image(imgx, axes[0][i])\n",
    "    show_image(imgy, axes[1][i], cmap='viridis')"
   ]
  },
  {
   "cell_type": "markdown",
   "metadata": {},
   "source": [
    "## Dataset"
   ]
  },
  {
   "cell_type": "code",
   "execution_count": null,
   "metadata": {},
   "outputs": [],
   "source": [
    "#export\n",
    "@dataclass\n",
    "class MatchedFilesDataset(Dataset):\n",
    "    x_fns:List[Path]; y_fns:List[Path]\n",
    "    def __post_init__(self): assert len(self.x_fns)==len(self.y_fns)\n",
    "    def __repr__(self): return f'{type(self).__name__} of len {len(self.x_fns)}'\n",
    "    def __len__(self): return len(self.x_fns)\n",
    "    def __getitem__(self, i): return open_image(self.x_fns[i]), open_image(self.y_fns[i])"
   ]
  },
  {
   "cell_type": "code",
   "execution_count": null,
   "metadata": {},
   "outputs": [],
   "source": [
    "x_fns = [o for o in PATH_X.iterdir() if o.is_file()]\n",
    "y_fns = [get_y_fn(o) for o in x_fns]\n",
    "train_ds = MatchedFilesDataset(x_fns, y_fns)\n",
    "train_ds"
   ]
  },
  {
   "cell_type": "code",
   "execution_count": null,
   "metadata": {},
   "outputs": [],
   "source": [
    "_,axes = plt.subplots(2,4, figsize=(12,6))\n",
    "for i in range(4):\n",
    "    imgx,imgy = train_ds[i]\n",
    "    show_image(imgx, axes[0][i])\n",
    "    show_image(imgy, axes[1][i])"
   ]
  },
  {
   "cell_type": "code",
   "execution_count": null,
   "metadata": {},
   "outputs": [],
   "source": [
    "#export\n",
    "default_mean,default_std = map(tensor, ([0.5]*3, [0.5]*3))\n",
    "\n",
    "class TfmDataset(Dataset):\n",
    "    def __init__(self, ds:Dataset, tfms:Collection[Callable]=None,\n",
    "                 do_tfm_y=False, smooth_y=True, **kwargs):\n",
    "        self.ds,self.tfms,self.do_tfm_y,self.smooth_y,self.kwargs = ds,tfms,do_tfm_y,smooth_y,kwargs\n",
    "\n",
    "    def __len__(self): return len(self.ds)\n",
    "\n",
    "    def __getitem__(self,idx):\n",
    "        x,y = self.ds[idx]\n",
    "        if self.tfms is not None:\n",
    "            tfm = apply_tfms(self.tfms)\n",
    "            x = tfm(x, **self.kwargs)\n",
    "            if self.do_tfm_y: y = tfm(y, segmentation=self.smooth_y, **self.kwargs)\n",
    "        return x,y"
   ]
  },
  {
   "cell_type": "code",
   "execution_count": null,
   "metadata": {},
   "outputs": [],
   "source": [
    "train_tds = TfmDataset(train_ds, tfms, do_tfm_y=True, smooth_y=False)"
   ]
  },
  {
   "cell_type": "code",
   "execution_count": null,
   "metadata": {},
   "outputs": [],
   "source": [
    "_,axes = plt.subplots(4,4, figsize=(12,12))\n",
    "for i in range(4):\n",
    "    imgx,imgy   = train_ds[i]\n",
    "    imgx2,imgy2 = train_tds[i]\n",
    "    show_image(imgx,  axes[0][i])\n",
    "    show_image(imgx2, axes[1][i])\n",
    "    show_image(imgy,  axes[2][i])\n",
    "    show_image(imgy2, axes[3][i])"
   ]
  },
  {
   "cell_type": "markdown",
   "metadata": {},
   "source": [
    "## Create model"
   ]
  },
  {
   "cell_type": "code",
   "execution_count": null,
   "metadata": {},
   "outputs": [],
   "source": [
    "default_norm = normalize_tfm(mean=default_mean, std=default_std)\n",
    "default_denorm = partial(denormalize, mean=default_mean, std=default_std)"
   ]
  },
  {
   "cell_type": "code",
   "execution_count": null,
   "metadata": {},
   "outputs": [],
   "source": [
    "#export\n",
    "class Transforms():\n",
    "    def __init__(self, tfms:Collection[Callable]=None, **kwargs):\n",
    "        self.tfms,self.kwargs = tfms,kwargs\n",
    "        \n",
    "    def __call__(self, x):\n",
    "        return x if self.tfms is None else apply_tfms(self.tfms)(x, **self.kwargs)\n",
    "\n",
    "@dataclass\n",
    "class TfmDataset(Dataset):\n",
    "    ds:Dataset; x_tfms:Transforms=None; y_tfms:Transforms=None\n",
    "\n",
    "    def __len__(self): return len(self.ds)\n",
    "\n",
    "    def __getitem__(self,idx):\n",
    "        x,y = self.ds[idx]\n",
    "        return self.x_tfms(x),self.y_tfms(y)"
   ]
  },
  {
   "cell_type": "code",
   "execution_count": null,
   "metadata": {},
   "outputs": [],
   "source": [
    "#export\n",
    "class Darknet(nn.Module):\n",
    "    def make_group_layer(self, ch_in, num_blocks, stride=1):\n",
    "        return [conv_layer(ch_in, ch_in*2,stride=stride)\n",
    "               ] + [(ResLayer(ch_in*2)) for i in range(num_blocks)]\n",
    "\n",
    "    def __init__(self, num_blocks, num_classes, nf=32, custom_head=None):\n",
    "        super().__init__()\n",
    "        layers = [conv_layer(3, nf, ks=3, stride=1)]\n",
    "        for i,nb in enumerate(num_blocks):\n",
    "            layers += self.make_group_layer(nf, nb, stride=2-(i==1))\n",
    "            nf *= 2\n",
    "        layers += [nn.AdaptiveAvgPool2d(1), Flatten(), nn.Linear(nf, num_classes)\n",
    "                  ] if custom_head is None else custom_head\n",
    "        self.layers = nn.Sequential(*layers)\n",
    "    \n",
    "    def forward(self, x): return self.layers(x)"
   ]
  },
  {
   "cell_type": "markdown",
   "metadata": {},
   "source": [
    "# Convert and resize data"
   ]
  },
  {
   "cell_type": "code",
   "execution_count": null,
   "metadata": {},
   "outputs": [],
   "source": [
    "def convert_img(fn): Image.open(fn).save(PATH_PNG/f'{fn.name[:-4]}.png')\n",
    "\n",
    "def resize_img(fn, dirname):\n",
    "    Image.open(fn).resize((128,128)).save((fn.parent.parent)/dirname/fn.name)\n",
    "\n",
    "def do_conversion():\n",
    "    PATH_PNG.mkdir(exist_ok=True)\n",
    "    PATH_X.mkdir(exist_ok=True)\n",
    "    PATH_Y.mkdir(exist_ok=True)\n",
    "\n",
    "    files = list((PATH/'train_masks').iterdir())\n",
    "    with ThreadPoolExecutor(8) as e: e.map(convert_img, files)\n",
    "\n",
    "    files = list((PATH_PNG).iterdir())\n",
    "    with ThreadPoolExecutor(8) as e: e.map(partial(resize_img, dirname='train_masks-128'), files)\n",
    "\n",
    "    files = list((PATH/'train').iterdir())\n",
    "    with ThreadPoolExecutor(8) as e: e.map(partial(resize_img, dirname='train-128'), files)"
   ]
  },
  {
   "cell_type": "code",
   "execution_count": null,
   "metadata": {},
   "outputs": [],
   "source": [
    "# do_conversion()"
   ]
  }
 ],
 "metadata": {
  "kernelspec": {
   "display_name": "Python 3",
   "language": "python",
   "name": "python3"
  }
 },
 "nbformat": 4,
 "nbformat_minor": 2
}
